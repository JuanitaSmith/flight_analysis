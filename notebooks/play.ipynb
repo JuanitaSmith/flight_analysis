{
 "cells": [
  {
   "cell_type": "code",
   "execution_count": 1,
   "metadata": {
    "collapsed": true,
    "pycharm": {
     "name": "#%%\n"
    }
   },
   "outputs": [],
   "source": [
    "import pandas as pd\n",
    "from pandas import TimedeltaIndex\n",
    "import datetime\n",
    "import matplotlib as plt\n",
    "import seaborn as sns\n"
   ]
  },
  {
   "cell_type": "code",
   "execution_count": 2,
   "outputs": [
    {
     "data": {
      "text/plain": "                 0\n0  0 days 00:00:00\n1  0 days 00:00:00\n2  0 days 00:00:00\n3  0 days 00:00:00\n4  0 days 01:10:00\n5  0 days 01:20:00\n6  0 days 01:00:00\n7  0 days 01:00:00\n8  0 days 02:50:00\n9  0 days 02:00:00\n10 0 days 02:00:00",
      "text/html": "<div>\n<style scoped>\n    .dataframe tbody tr th:only-of-type {\n        vertical-align: middle;\n    }\n\n    .dataframe tbody tr th {\n        vertical-align: top;\n    }\n\n    .dataframe thead th {\n        text-align: right;\n    }\n</style>\n<table border=\"1\" class=\"dataframe\">\n  <thead>\n    <tr style=\"text-align: right;\">\n      <th></th>\n      <th>0</th>\n    </tr>\n  </thead>\n  <tbody>\n    <tr>\n      <th>0</th>\n      <td>0 days 00:00:00</td>\n    </tr>\n    <tr>\n      <th>1</th>\n      <td>0 days 00:00:00</td>\n    </tr>\n    <tr>\n      <th>2</th>\n      <td>0 days 00:00:00</td>\n    </tr>\n    <tr>\n      <th>3</th>\n      <td>0 days 00:00:00</td>\n    </tr>\n    <tr>\n      <th>4</th>\n      <td>0 days 01:10:00</td>\n    </tr>\n    <tr>\n      <th>5</th>\n      <td>0 days 01:20:00</td>\n    </tr>\n    <tr>\n      <th>6</th>\n      <td>0 days 01:00:00</td>\n    </tr>\n    <tr>\n      <th>7</th>\n      <td>0 days 01:00:00</td>\n    </tr>\n    <tr>\n      <th>8</th>\n      <td>0 days 02:50:00</td>\n    </tr>\n    <tr>\n      <th>9</th>\n      <td>0 days 02:00:00</td>\n    </tr>\n    <tr>\n      <th>10</th>\n      <td>0 days 02:00:00</td>\n    </tr>\n  </tbody>\n</table>\n</div>"
     },
     "execution_count": 2,
     "metadata": {},
     "output_type": "execute_result"
    }
   ],
   "source": [
    "\n",
    "df = pd.DataFrame(TimedeltaIndex(['0 days 00:00:00', '0 days 00:00:00', '0 days 00:00:00',\n",
    "            '0 days 00:00:00', '0 days 01:10:00', '0 days 01:20:00',\n",
    "            '0 days 01:00:00', '0 days 01:00:00', '0 days 02:50:00',\n",
    "            '0 days 02:00:00', '0 days 02:00:00'],\n",
    "           dtype='timedelta64[ns]', freq=None))\n",
    "\n",
    "df"
   ],
   "metadata": {
    "collapsed": false,
    "pycharm": {
     "name": "#%%\n"
    }
   }
  },
  {
   "cell_type": "code",
   "execution_count": 3,
   "outputs": [],
   "source": [
    "df['hours'] = df[0].dt.components['hours']\n",
    "df['minutes'] = df[0].dt.components['minutes']"
   ],
   "metadata": {
    "collapsed": false,
    "pycharm": {
     "name": "#%%\n"
    }
   }
  },
  {
   "cell_type": "code",
   "execution_count": 4,
   "outputs": [
    {
     "data": {
      "text/plain": "                 0  hours  minutes\n0  0 days 00:00:00      0        0\n1  0 days 00:00:00      0        0\n2  0 days 00:00:00      0        0\n3  0 days 00:00:00      0        0\n4  0 days 01:10:00      1       10\n5  0 days 01:20:00      1       20\n6  0 days 01:00:00      1        0\n7  0 days 01:00:00      1        0\n8  0 days 02:50:00      2       50\n9  0 days 02:00:00      2        0\n10 0 days 02:00:00      2        0",
      "text/html": "<div>\n<style scoped>\n    .dataframe tbody tr th:only-of-type {\n        vertical-align: middle;\n    }\n\n    .dataframe tbody tr th {\n        vertical-align: top;\n    }\n\n    .dataframe thead th {\n        text-align: right;\n    }\n</style>\n<table border=\"1\" class=\"dataframe\">\n  <thead>\n    <tr style=\"text-align: right;\">\n      <th></th>\n      <th>0</th>\n      <th>hours</th>\n      <th>minutes</th>\n    </tr>\n  </thead>\n  <tbody>\n    <tr>\n      <th>0</th>\n      <td>0 days 00:00:00</td>\n      <td>0</td>\n      <td>0</td>\n    </tr>\n    <tr>\n      <th>1</th>\n      <td>0 days 00:00:00</td>\n      <td>0</td>\n      <td>0</td>\n    </tr>\n    <tr>\n      <th>2</th>\n      <td>0 days 00:00:00</td>\n      <td>0</td>\n      <td>0</td>\n    </tr>\n    <tr>\n      <th>3</th>\n      <td>0 days 00:00:00</td>\n      <td>0</td>\n      <td>0</td>\n    </tr>\n    <tr>\n      <th>4</th>\n      <td>0 days 01:10:00</td>\n      <td>1</td>\n      <td>10</td>\n    </tr>\n    <tr>\n      <th>5</th>\n      <td>0 days 01:20:00</td>\n      <td>1</td>\n      <td>20</td>\n    </tr>\n    <tr>\n      <th>6</th>\n      <td>0 days 01:00:00</td>\n      <td>1</td>\n      <td>0</td>\n    </tr>\n    <tr>\n      <th>7</th>\n      <td>0 days 01:00:00</td>\n      <td>1</td>\n      <td>0</td>\n    </tr>\n    <tr>\n      <th>8</th>\n      <td>0 days 02:50:00</td>\n      <td>2</td>\n      <td>50</td>\n    </tr>\n    <tr>\n      <th>9</th>\n      <td>0 days 02:00:00</td>\n      <td>2</td>\n      <td>0</td>\n    </tr>\n    <tr>\n      <th>10</th>\n      <td>0 days 02:00:00</td>\n      <td>2</td>\n      <td>0</td>\n    </tr>\n  </tbody>\n</table>\n</div>"
     },
     "execution_count": 4,
     "metadata": {},
     "output_type": "execute_result"
    }
   ],
   "source": [
    "df"
   ],
   "metadata": {
    "collapsed": false,
    "pycharm": {
     "name": "#%%\n"
    }
   }
  },
  {
   "cell_type": "code",
   "execution_count": 6,
   "outputs": [
    {
     "data": {
      "text/plain": "<Figure size 640x480 with 1 Axes>",
      "image/png": "[encoded data removed]"
     },
     "metadata": {},
     "output_type": "display_data"
    }
   ],
   "source": [
    "g = sns.countplot(df)"
   ],
   "metadata": {
    "collapsed": false,
    "pycharm": {
     "name": "#%%\n"
    }
   }
  },
  {
   "cell_type": "code",
   "execution_count": 8,
   "outputs": [
    {
     "name": "stdout",
     "output_type": "stream",
     "text": [
      "Rectangle(xy=(-0.4, 0), width=0.8, height=11, angle=0)\n",
      "Rectangle(xy=(0.6, 0), width=0.8, height=11, angle=0)\n"
     ]
    }
   ],
   "source": [
    "for patch in g.patches:\n",
    "    print(patch)"
   ],
   "metadata": {
    "collapsed": false,
    "pycharm": {
     "name": "#%%\n"
    }
   }
  },
  {
   "cell_type": "code",
   "execution_count": 7,
   "outputs": [
    {
     "data": {
      "text/plain": "<bound method Sequence.index of <Axes.ArtistList of 2 patches>>"
     },
     "execution_count": 7,
     "metadata": {},
     "output_type": "execute_result"
    }
   ],
   "source": [
    "g.patches.index"
   ],
   "metadata": {
    "collapsed": false,
    "pycharm": {
     "name": "#%%\n"
    }
   }
  },
  {
   "cell_type": "code",
   "execution_count": null,
   "outputs": [],
   "source": [],
   "metadata": {
    "collapsed": false,
    "pycharm": {
     "name": "#%%\n"
    }
   }
  }
 ],
 "metadata": {
  "kernelspec": {
   "name": "conda-env-airplanes-py",
   "language": "python",
   "display_name": "Python [conda env:airplanes] *"
  },
  "language_info": {
   "codemirror_mode": {
    "name": "ipython",
    "version": 2
   },
   "file_extension": ".py",
   "mimetype": "text/x-python",
   "name": "python",
   "nbconvert_exporter": "python",
   "pygments_lexer": "ipython2",
   "version": "2.7.6"
  }
 },
 "nbformat": 4,
 "nbformat_minor": 0
}