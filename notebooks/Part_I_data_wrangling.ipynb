{
 "cells": [
  {
   "cell_type": "markdown",
   "metadata": {
    "pycharm": {
     "name": "#%% md\n"
    }
   },
   "source": [
    "# Part I - Airline delay prediction - Data Wrangling\n",
    "## by Juanita Smith\n",
    "\n",
    "## Introduction\n",
    "Have you ever been stuck in an airport because your flight was delayed or cancelled and wondered if you could have predicted it if you'd had more data? This is our chance to find out.\n",
    "\n",
    "This analysis will be focused on predicting flight delays or cancellations.\n",
    "\n",
    "> This dataset reports flights in the United States, including carriers, arrival and departure delays, and reasons for delays, from 1987 to 2008. The data is collected by the Office of Airline Information, Bureau of Transportation Statistics (BTS).\n",
    "> - See more information from the data expo challenge in 2009 [here](https://community.amstat.org/jointscsg-section/dataexpo/dataexpo2009).\n",
    "> - See a full description of the features [here](https://www.transtats.bts.gov/DatabaseInfo.asp?QO_VQ=EFD&Yv0x=D.)\n",
    "> - Data can be downloaded from [here](https://dataverse.harvard.edu/dataset.xhtml?persistentId=doi:10.7910/DVN/HG7NV7).\n",
    "\n",
    "Dictionary:\n",
    "1) Year 1987-2008 \n",
    "2) Month 1-12 \n",
    "3) DayofMonth 1-31 \n",
    "4) DayOfWeek 1 (Monday) - 7 (Sunday) \n",
    "5) DepTime actual departure time (local, hhmm) \n",
    "6) CRSDepTime scheduled departure time (local, hhmm) \n",
    "7) ArrTime actual arrival time (local, hhmm) \n",
    "8) CRSArrTime scheduled arrival time (local, hhmm) \n",
    "9) UniqueCarrier unique carrier code \n",
    "10) FlightNum flight number \n",
    "11) TailNum plane tail number \n",
    "12) ActualElapsedTime in minutes \n",
    "13) CRSElapsedTime in minutes \n",
    "14) AirTime in minutes \n",
    "15) ArrDelay arrival delay, in minutes \n",
    "16) DepDelay departure delay, in minutes \n",
    "17) Origin origin IATA airport code \n",
    "18) Destination IATA airport code \n",
    "19) Distance in miles \n",
    "20) TaxiIn - The time elapsed between wheels down and arrival at the destination airport gate in minutes\n",
    "21) TaxiOut - The time elapsed between departure from the origin airport gate and wheels off in minutes\n",
    "22) Cancelled was the flight cancelled? \n",
    "23) CancellationCode reason for cancellation (A = carrier, B = weather, C = NAS, D = security) \n",
    "24) Diverted 1 = yes, 0 = no \n",
    "25) CarrierDelay in minutes\n",
    "26) WeatherDelay in minutes \n",
    "27) NASDelay in minutes \n",
    "28) SecurityDelay in minutes \n",
    "29) LateAircraftDelay in minutes\n",
    "\n",
    "\n",
    "**Important to note:** According to the documentation, a late flight is defined as a flight arriving or departing 15 minutes or more after the scheduled time.\n",
    "\n",
    ">**Rubric Tip**: Your code should not generate any errors, and should use functions, loops where possible to reduce repetitive code. Prefer to use functions to reuse code statements.\n",
    "\n",
    "> **Rubric Tip**: Document your approach and findings in markdown cells. Use comments and docstrings in code cells to document the code functionality.\n",
    "\n",
    ">**Rubric Tip**: Markup cells should have headers and text that organize your thoughts, findings, and what you plan on investigating next.  \n",
    "\n",
    "\n",
    "\n"
   ]
  },
  {
   "cell_type": "code",
   "execution_count": 1,
   "metadata": {
    "pycharm": {
     "name": "#%%\n"
    }
   },
   "outputs": [
    {
     "data": {
      "text/html": [
       "<style>.container { width:80% !important; }</style>"
      ],
      "text/plain": [
       "<IPython.core.display.HTML object>"
      ]
     },
     "metadata": {},
     "output_type": "display_data"
    }
   ],
   "source": [
    "# import all packages\n",
    "import numpy as np\n",
    "import pandas as pd\n",
    "import matplotlib.pyplot as plt\n",
    "import seaborn as sns\n",
    "import time\n",
    "import glob\n",
    "\n",
    "# clear the garbage to free memory as we are working with huge datasets\n",
    "import gc \n",
    "\n",
    "# import warnings\n",
    "# warnings.filterwarnings(\"ignore\")\n",
    "\n",
    "# Import custom modules\n",
    "from src.utils import reduce_mem_usage, create_folder, convert_time\n",
    "\n",
    "# set plots to be embedded inline\n",
    "%matplotlib inline\n",
    "\n",
    "# suppress matplotlib user warnings\n",
    "import warnings\n",
    "warnings.filterwarnings(\"ignore\", category=UserWarning, module=\"matplotlib\")\n",
    "\n",
    "# use high resolution if this project is run on an apple device\n",
    "%config InlineBackend.figure_format='retina'\n",
    "\n",
    "# Make your Jupyter Notebook wider\n",
    "from IPython.display import display, HTML\n",
    "display(HTML('<style>.container { width:80% !important; }</style>'))\n",
    "\n",
    "# environment settings\n",
    "# display all columns and rows during visual inspection\n",
    "pd.options.display.max_columns = None\n",
    "pd.options.display.max_rows = None\n",
    "\n",
    "\n",
    "# stop scientific notation on graphs\n",
    "pd.options.display.float_format = '{:.0f}'.format"
   ]
  },
  {
   "cell_type": "code",
   "execution_count": 2,
   "metadata": {
    "pycharm": {
     "name": "#%%\n"
    }
   },
   "outputs": [],
   "source": [
    "sns.set_style(\"whitegrid\")\n",
    "BASE_COLOR = sns.color_palette()[0]"
   ]
  },
  {
   "cell_type": "code",
   "execution_count": 3,
   "metadata": {
    "pycharm": {
     "name": "#%%\n"
    }
   },
   "outputs": [],
   "source": [
    "FILE_NAME_RAW = '../data/flights_raw.pkl'\n",
    "FILE_NAME_CLEAN = '../data/flights_clean.pkl'"
   ]
  },
  {
   "cell_type": "markdown",
   "metadata": {
    "pycharm": {
     "name": "#%% md\n"
    }
   },
   "source": [
    "<span style=\"color:blue; font-size:30px; line-height:40px; font-family: Calibri;\">Data Wrangling</span>\n",
    "\n",
    "<span style=\"color:blue; font-size:25px; line-height:30px; font-family: Calibri;\">Step 1: Data Gathering</span>"
   ]
  },
  {
   "cell_type": "markdown",
   "metadata": {
    "pycharm": {
     "name": "#%% md\n"
    }
   },
   "source": [
    "Compressed data in format 'bz2' was downloaded in bulk from above link, one file per year from 1987 - 2008. Uncompress each file, and merge the data into one big dataframe.\n",
    "Due to data size, only read the last 5 years of data"
   ]
  },
  {
   "cell_type": "code",
   "execution_count": 4,
   "metadata": {
    "pycharm": {
     "name": "#%%\n"
    }
   },
   "outputs": [
    {
     "name": "stdout",
     "output_type": "stream",
     "text": [
      "Executing time: 2.3076398332913715 min\n"
     ]
    }
   ],
   "source": [
    "# get the last 5 years of saved archived data files from 1987 - 2008\n",
    "\n",
    "start_time = time.time()\n",
    "\n",
    "# Get CSV files list from a folder\n",
    "path = '../data/dataverse_files'\n",
    "csv_files = glob.glob(path + \"/*.csv.bz2\")\n",
    "csv_files.sort()\n",
    "\n",
    "# get last 5 years of data\n",
    "flights = pd.concat((pd.read_csv(f, compression='bz2', encoding='iso-8859-1') for f in csv_files[-5:]))\n",
    "flights.reset_index(inplace=True, drop=True)\n",
    "\n",
    "end_time = time.time()\n",
    "print('Executing time: {} min'.format((end_time - start_time)/60))"
   ]
  },
  {
   "cell_type": "code",
   "execution_count": 5,
   "metadata": {
    "pycharm": {
     "name": "#%%\n"
    }
   },
   "outputs": [
    {
     "data": {
      "text/html": [
       "<div>\n",
       "<style scoped>\n",
       "    .dataframe tbody tr th:only-of-type {\n",
       "        vertical-align: middle;\n",
       "    }\n",
       "\n",
       "    .dataframe tbody tr th {\n",
       "        vertical-align: top;\n",
       "    }\n",
       "\n",
       "    .dataframe thead th {\n",
       "        text-align: right;\n",
       "    }\n",
       "</style>\n",
       "<table border=\"1\" class=\"dataframe\">\n",
       "  <thead>\n",
       "    <tr style=\"text-align: right;\">\n",
       "      <th></th>\n",
       "      <th>Year</th>\n",
       "      <th>Month</th>\n",
       "      <th>DayofMonth</th>\n",
       "      <th>DayOfWeek</th>\n",
       "      <th>DepTime</th>\n",
       "      <th>CRSDepTime</th>\n",
       "      <th>ArrTime</th>\n",
       "      <th>CRSArrTime</th>\n",
       "      <th>UniqueCarrier</th>\n",
       "      <th>FlightNum</th>\n",
       "      <th>TailNum</th>\n",
       "      <th>ActualElapsedTime</th>\n",
       "      <th>CRSElapsedTime</th>\n",
       "      <th>AirTime</th>\n",
       "      <th>ArrDelay</th>\n",
       "      <th>DepDelay</th>\n",
       "      <th>Origin</th>\n",
       "      <th>Dest</th>\n",
       "      <th>Distance</th>\n",
       "      <th>TaxiIn</th>\n",
       "      <th>TaxiOut</th>\n",
       "      <th>Cancelled</th>\n",
       "      <th>CancellationCode</th>\n",
       "      <th>Diverted</th>\n",
       "      <th>CarrierDelay</th>\n",
       "      <th>WeatherDelay</th>\n",
       "      <th>NASDelay</th>\n",
       "      <th>SecurityDelay</th>\n",
       "      <th>LateAircraftDelay</th>\n",
       "    </tr>\n",
       "  </thead>\n",
       "  <tbody>\n",
       "    <tr>\n",
       "      <th>0</th>\n",
       "      <td>2004</td>\n",
       "      <td>1</td>\n",
       "      <td>12</td>\n",
       "      <td>1</td>\n",
       "      <td>623</td>\n",
       "      <td>630</td>\n",
       "      <td>901</td>\n",
       "      <td>915</td>\n",
       "      <td>UA</td>\n",
       "      <td>462</td>\n",
       "      <td>N805UA</td>\n",
       "      <td>98</td>\n",
       "      <td>105</td>\n",
       "      <td>80</td>\n",
       "      <td>-14</td>\n",
       "      <td>-7</td>\n",
       "      <td>ORD</td>\n",
       "      <td>CLT</td>\n",
       "      <td>599</td>\n",
       "      <td>7</td>\n",
       "      <td>11</td>\n",
       "      <td>0</td>\n",
       "      <td>NaN</td>\n",
       "      <td>0</td>\n",
       "      <td>0</td>\n",
       "      <td>0</td>\n",
       "      <td>0</td>\n",
       "      <td>0</td>\n",
       "      <td>0</td>\n",
       "    </tr>\n",
       "    <tr>\n",
       "      <th>1</th>\n",
       "      <td>2004</td>\n",
       "      <td>1</td>\n",
       "      <td>13</td>\n",
       "      <td>2</td>\n",
       "      <td>621</td>\n",
       "      <td>630</td>\n",
       "      <td>911</td>\n",
       "      <td>915</td>\n",
       "      <td>UA</td>\n",
       "      <td>462</td>\n",
       "      <td>N851UA</td>\n",
       "      <td>110</td>\n",
       "      <td>105</td>\n",
       "      <td>78</td>\n",
       "      <td>-4</td>\n",
       "      <td>-9</td>\n",
       "      <td>ORD</td>\n",
       "      <td>CLT</td>\n",
       "      <td>599</td>\n",
       "      <td>16</td>\n",
       "      <td>16</td>\n",
       "      <td>0</td>\n",
       "      <td>NaN</td>\n",
       "      <td>0</td>\n",
       "      <td>0</td>\n",
       "      <td>0</td>\n",
       "      <td>0</td>\n",
       "      <td>0</td>\n",
       "      <td>0</td>\n",
       "    </tr>\n",
       "    <tr>\n",
       "      <th>2</th>\n",
       "      <td>2004</td>\n",
       "      <td>1</td>\n",
       "      <td>14</td>\n",
       "      <td>3</td>\n",
       "      <td>633</td>\n",
       "      <td>630</td>\n",
       "      <td>920</td>\n",
       "      <td>915</td>\n",
       "      <td>UA</td>\n",
       "      <td>462</td>\n",
       "      <td>N436UA</td>\n",
       "      <td>107</td>\n",
       "      <td>105</td>\n",
       "      <td>88</td>\n",
       "      <td>5</td>\n",
       "      <td>3</td>\n",
       "      <td>ORD</td>\n",
       "      <td>CLT</td>\n",
       "      <td>599</td>\n",
       "      <td>4</td>\n",
       "      <td>15</td>\n",
       "      <td>0</td>\n",
       "      <td>NaN</td>\n",
       "      <td>0</td>\n",
       "      <td>0</td>\n",
       "      <td>0</td>\n",
       "      <td>0</td>\n",
       "      <td>0</td>\n",
       "      <td>0</td>\n",
       "    </tr>\n",
       "  </tbody>\n",
       "</table>\n",
       "</div>"
      ],
      "text/plain": [
       "   Year  Month  DayofMonth  DayOfWeek  DepTime  CRSDepTime  ArrTime  \\\n",
       "0  2004      1          12          1      623         630      901   \n",
       "1  2004      1          13          2      621         630      911   \n",
       "2  2004      1          14          3      633         630      920   \n",
       "\n",
       "   CRSArrTime UniqueCarrier  FlightNum TailNum  ActualElapsedTime  \\\n",
       "0         915            UA        462  N805UA                 98   \n",
       "1         915            UA        462  N851UA                110   \n",
       "2         915            UA        462  N436UA                107   \n",
       "\n",
       "   CRSElapsedTime  AirTime  ArrDelay  DepDelay Origin Dest  Distance  TaxiIn  \\\n",
       "0             105       80       -14        -7    ORD  CLT       599       7   \n",
       "1             105       78        -4        -9    ORD  CLT       599      16   \n",
       "2             105       88         5         3    ORD  CLT       599       4   \n",
       "\n",
       "   TaxiOut  Cancelled CancellationCode  Diverted  CarrierDelay  WeatherDelay  \\\n",
       "0       11          0              NaN         0             0             0   \n",
       "1       16          0              NaN         0             0             0   \n",
       "2       15          0              NaN         0             0             0   \n",
       "\n",
       "   NASDelay  SecurityDelay  LateAircraftDelay  \n",
       "0         0              0                  0  \n",
       "1         0              0                  0  \n",
       "2         0              0                  0  "
      ]
     },
     "execution_count": 5,
     "metadata": {},
     "output_type": "execute_result"
    }
   ],
   "source": [
    "flights.head(3)"
   ]
  },
  {
   "cell_type": "code",
   "execution_count": 6,
   "metadata": {
    "pycharm": {
     "name": "#%%\n"
    }
   },
   "outputs": [
    {
     "name": "stdout",
     "output_type": "stream",
     "text": [
      "\n",
      "Triggering memory optimization.......\n",
      "\n",
      "Memory usage of dataframe is 6915.07 MB\n",
      "Memory usage after optimization is: 2473.93 MB\n",
      "Decreased by 64.2%\n"
     ]
    }
   ],
   "source": [
    "# First, as this is a large dataset, lets reduce the memory of the dataset to make further analysis easier\n",
    "flights = reduce_mem_usage(flights)"
   ]
  },
  {
   "cell_type": "code",
   "execution_count": 7,
   "metadata": {
    "pycharm": {
     "name": "#%%\n"
    }
   },
   "outputs": [],
   "source": [
    "# save the consolidated raw file \n",
    "flights.to_pickle(FILE_NAME_RAW)"
   ]
  },
  {
   "cell_type": "markdown",
   "metadata": {
    "pycharm": {
     "name": "#%% md\n"
    }
   },
   "source": [
    "<span style=\"color:blue; font-size:25px; line-height:30px; font-family: Calibri;\">Step 2: Assessing</span>"
   ]
  },
  {
   "cell_type": "code",
   "execution_count": 8,
   "metadata": {
    "pycharm": {
     "name": "#%%\n"
    }
   },
   "outputs": [],
   "source": [
    "# # load the consolidated raw file\n",
    "flights = pd.read_pickle(FILE_NAME_RAW)"
   ]
  },
  {
   "cell_type": "code",
   "execution_count": 9,
   "metadata": {
    "pycharm": {
     "name": "#%%\n"
    }
   },
   "outputs": [
    {
     "data": {
      "text/html": [
       "<div>\n",
       "<style scoped>\n",
       "    .dataframe tbody tr th:only-of-type {\n",
       "        vertical-align: middle;\n",
       "    }\n",
       "\n",
       "    .dataframe tbody tr th {\n",
       "        vertical-align: top;\n",
       "    }\n",
       "\n",
       "    .dataframe thead th {\n",
       "        text-align: right;\n",
       "    }\n",
       "</style>\n",
       "<table border=\"1\" class=\"dataframe\">\n",
       "  <thead>\n",
       "    <tr style=\"text-align: right;\">\n",
       "      <th></th>\n",
       "      <th>Year</th>\n",
       "      <th>Month</th>\n",
       "      <th>DayofMonth</th>\n",
       "      <th>DayOfWeek</th>\n",
       "      <th>DepTime</th>\n",
       "      <th>CRSDepTime</th>\n",
       "      <th>ArrTime</th>\n",
       "      <th>CRSArrTime</th>\n",
       "      <th>UniqueCarrier</th>\n",
       "      <th>FlightNum</th>\n",
       "      <th>TailNum</th>\n",
       "      <th>ActualElapsedTime</th>\n",
       "      <th>CRSElapsedTime</th>\n",
       "      <th>AirTime</th>\n",
       "      <th>ArrDelay</th>\n",
       "      <th>DepDelay</th>\n",
       "      <th>Origin</th>\n",
       "      <th>Dest</th>\n",
       "      <th>Distance</th>\n",
       "      <th>TaxiIn</th>\n",
       "      <th>TaxiOut</th>\n",
       "      <th>Cancelled</th>\n",
       "      <th>CancellationCode</th>\n",
       "      <th>Diverted</th>\n",
       "      <th>CarrierDelay</th>\n",
       "      <th>WeatherDelay</th>\n",
       "      <th>NASDelay</th>\n",
       "      <th>SecurityDelay</th>\n",
       "      <th>LateAircraftDelay</th>\n",
       "    </tr>\n",
       "  </thead>\n",
       "  <tbody>\n",
       "    <tr>\n",
       "      <th>7122936</th>\n",
       "      <td>2004</td>\n",
       "      <td>12</td>\n",
       "      <td>13</td>\n",
       "      <td>1</td>\n",
       "      <td>1449</td>\n",
       "      <td>1500</td>\n",
       "      <td>1734</td>\n",
       "      <td>1752</td>\n",
       "      <td>DL</td>\n",
       "      <td>542</td>\n",
       "      <td>N903DA</td>\n",
       "      <td>105</td>\n",
       "      <td>112</td>\n",
       "      <td>87</td>\n",
       "      <td>-18</td>\n",
       "      <td>-11</td>\n",
       "      <td>SNA</td>\n",
       "      <td>SLC</td>\n",
       "      <td>588</td>\n",
       "      <td>6</td>\n",
       "      <td>12</td>\n",
       "      <td>0</td>\n",
       "      <td>NaN</td>\n",
       "      <td>0</td>\n",
       "      <td>0</td>\n",
       "      <td>0</td>\n",
       "      <td>0</td>\n",
       "      <td>0</td>\n",
       "      <td>0</td>\n",
       "    </tr>\n",
       "    <tr>\n",
       "      <th>18464848</th>\n",
       "      <td>2006</td>\n",
       "      <td>8</td>\n",
       "      <td>25</td>\n",
       "      <td>5</td>\n",
       "      <td>1407</td>\n",
       "      <td>1215</td>\n",
       "      <td>2016</td>\n",
       "      <td>1815</td>\n",
       "      <td>WN</td>\n",
       "      <td>1111</td>\n",
       "      <td>N633SW</td>\n",
       "      <td>249</td>\n",
       "      <td>240</td>\n",
       "      <td>229</td>\n",
       "      <td>121</td>\n",
       "      <td>112</td>\n",
       "      <td>OAK</td>\n",
       "      <td>MDW</td>\n",
       "      <td>1844</td>\n",
       "      <td>5</td>\n",
       "      <td>15</td>\n",
       "      <td>0</td>\n",
       "      <td>NaN</td>\n",
       "      <td>0</td>\n",
       "      <td>10</td>\n",
       "      <td>0</td>\n",
       "      <td>9</td>\n",
       "      <td>0</td>\n",
       "      <td>102</td>\n",
       "    </tr>\n",
       "    <tr>\n",
       "      <th>30528604</th>\n",
       "      <td>2008</td>\n",
       "      <td>3</td>\n",
       "      <td>9</td>\n",
       "      <td>7</td>\n",
       "      <td>1615</td>\n",
       "      <td>1540</td>\n",
       "      <td>1739</td>\n",
       "      <td>1725</td>\n",
       "      <td>AA</td>\n",
       "      <td>337</td>\n",
       "      <td>N457AA</td>\n",
       "      <td>144</td>\n",
       "      <td>165</td>\n",
       "      <td>126</td>\n",
       "      <td>14</td>\n",
       "      <td>35</td>\n",
       "      <td>LGA</td>\n",
       "      <td>ORD</td>\n",
       "      <td>733</td>\n",
       "      <td>6</td>\n",
       "      <td>12</td>\n",
       "      <td>0</td>\n",
       "      <td>NaN</td>\n",
       "      <td>0</td>\n",
       "      <td>NaN</td>\n",
       "      <td>NaN</td>\n",
       "      <td>NaN</td>\n",
       "      <td>NaN</td>\n",
       "      <td>NaN</td>\n",
       "    </tr>\n",
       "    <tr>\n",
       "      <th>27653523</th>\n",
       "      <td>2007</td>\n",
       "      <td>11</td>\n",
       "      <td>5</td>\n",
       "      <td>1</td>\n",
       "      <td>758</td>\n",
       "      <td>800</td>\n",
       "      <td>845</td>\n",
       "      <td>850</td>\n",
       "      <td>WN</td>\n",
       "      <td>609</td>\n",
       "      <td>N346SW</td>\n",
       "      <td>47</td>\n",
       "      <td>50</td>\n",
       "      <td>38</td>\n",
       "      <td>-5</td>\n",
       "      <td>-2</td>\n",
       "      <td>HOU</td>\n",
       "      <td>SAT</td>\n",
       "      <td>192</td>\n",
       "      <td>2</td>\n",
       "      <td>7</td>\n",
       "      <td>0</td>\n",
       "      <td>NaN</td>\n",
       "      <td>0</td>\n",
       "      <td>0</td>\n",
       "      <td>0</td>\n",
       "      <td>0</td>\n",
       "      <td>0</td>\n",
       "      <td>0</td>\n",
       "    </tr>\n",
       "    <tr>\n",
       "      <th>29208740</th>\n",
       "      <td>2008</td>\n",
       "      <td>1</td>\n",
       "      <td>13</td>\n",
       "      <td>7</td>\n",
       "      <td>649</td>\n",
       "      <td>700</td>\n",
       "      <td>755</td>\n",
       "      <td>811</td>\n",
       "      <td>EV</td>\n",
       "      <td>4840</td>\n",
       "      <td>N878AS</td>\n",
       "      <td>66</td>\n",
       "      <td>71</td>\n",
       "      <td>53</td>\n",
       "      <td>-16</td>\n",
       "      <td>-11</td>\n",
       "      <td>FLO</td>\n",
       "      <td>ATL</td>\n",
       "      <td>273</td>\n",
       "      <td>6</td>\n",
       "      <td>7</td>\n",
       "      <td>0</td>\n",
       "      <td>NaN</td>\n",
       "      <td>0</td>\n",
       "      <td>NaN</td>\n",
       "      <td>NaN</td>\n",
       "      <td>NaN</td>\n",
       "      <td>NaN</td>\n",
       "      <td>NaN</td>\n",
       "    </tr>\n",
       "    <tr>\n",
       "      <th>26033548</th>\n",
       "      <td>2007</td>\n",
       "      <td>8</td>\n",
       "      <td>14</td>\n",
       "      <td>2</td>\n",
       "      <td>2033</td>\n",
       "      <td>1940</td>\n",
       "      <td>2148</td>\n",
       "      <td>2058</td>\n",
       "      <td>UA</td>\n",
       "      <td>1159</td>\n",
       "      <td>N563UA</td>\n",
       "      <td>134</td>\n",
       "      <td>138</td>\n",
       "      <td>107</td>\n",
       "      <td>49</td>\n",
       "      <td>53</td>\n",
       "      <td>DEN</td>\n",
       "      <td>SNA</td>\n",
       "      <td>846</td>\n",
       "      <td>7</td>\n",
       "      <td>20</td>\n",
       "      <td>0</td>\n",
       "      <td>NaN</td>\n",
       "      <td>0</td>\n",
       "      <td>0</td>\n",
       "      <td>43</td>\n",
       "      <td>0</td>\n",
       "      <td>0</td>\n",
       "      <td>6</td>\n",
       "    </tr>\n",
       "    <tr>\n",
       "      <th>19521385</th>\n",
       "      <td>2006</td>\n",
       "      <td>9</td>\n",
       "      <td>4</td>\n",
       "      <td>1</td>\n",
       "      <td>41</td>\n",
       "      <td>40</td>\n",
       "      <td>707</td>\n",
       "      <td>649</td>\n",
       "      <td>AS</td>\n",
       "      <td>106</td>\n",
       "      <td>N618AS</td>\n",
       "      <td>326</td>\n",
       "      <td>309</td>\n",
       "      <td>305</td>\n",
       "      <td>18</td>\n",
       "      <td>1</td>\n",
       "      <td>ANC</td>\n",
       "      <td>LAX</td>\n",
       "      <td>2345</td>\n",
       "      <td>9</td>\n",
       "      <td>12</td>\n",
       "      <td>0</td>\n",
       "      <td>NaN</td>\n",
       "      <td>0</td>\n",
       "      <td>0</td>\n",
       "      <td>0</td>\n",
       "      <td>18</td>\n",
       "      <td>0</td>\n",
       "      <td>0</td>\n",
       "    </tr>\n",
       "    <tr>\n",
       "      <th>24809399</th>\n",
       "      <td>2007</td>\n",
       "      <td>6</td>\n",
       "      <td>25</td>\n",
       "      <td>1</td>\n",
       "      <td>1511</td>\n",
       "      <td>1455</td>\n",
       "      <td>1614</td>\n",
       "      <td>1552</td>\n",
       "      <td>DL</td>\n",
       "      <td>973</td>\n",
       "      <td>N633DL</td>\n",
       "      <td>63</td>\n",
       "      <td>57</td>\n",
       "      <td>38</td>\n",
       "      <td>22</td>\n",
       "      <td>16</td>\n",
       "      <td>ATL</td>\n",
       "      <td>SAV</td>\n",
       "      <td>215</td>\n",
       "      <td>5</td>\n",
       "      <td>20</td>\n",
       "      <td>0</td>\n",
       "      <td>NaN</td>\n",
       "      <td>0</td>\n",
       "      <td>0</td>\n",
       "      <td>0</td>\n",
       "      <td>6</td>\n",
       "      <td>0</td>\n",
       "      <td>16</td>\n",
       "    </tr>\n",
       "    <tr>\n",
       "      <th>6982939</th>\n",
       "      <td>2004</td>\n",
       "      <td>12</td>\n",
       "      <td>14</td>\n",
       "      <td>2</td>\n",
       "      <td>1937</td>\n",
       "      <td>1940</td>\n",
       "      <td>2120</td>\n",
       "      <td>2128</td>\n",
       "      <td>AA</td>\n",
       "      <td>356</td>\n",
       "      <td>N4XDAA</td>\n",
       "      <td>103</td>\n",
       "      <td>108</td>\n",
       "      <td>83</td>\n",
       "      <td>-8</td>\n",
       "      <td>-3</td>\n",
       "      <td>DFW</td>\n",
       "      <td>OMA</td>\n",
       "      <td>583</td>\n",
       "      <td>2</td>\n",
       "      <td>18</td>\n",
       "      <td>0</td>\n",
       "      <td>NaN</td>\n",
       "      <td>0</td>\n",
       "      <td>0</td>\n",
       "      <td>0</td>\n",
       "      <td>0</td>\n",
       "      <td>0</td>\n",
       "      <td>0</td>\n",
       "    </tr>\n",
       "    <tr>\n",
       "      <th>24132337</th>\n",
       "      <td>2007</td>\n",
       "      <td>5</td>\n",
       "      <td>21</td>\n",
       "      <td>1</td>\n",
       "      <td>1758</td>\n",
       "      <td>1800</td>\n",
       "      <td>156</td>\n",
       "      <td>155</td>\n",
       "      <td>US</td>\n",
       "      <td>52</td>\n",
       "      <td>N819AW</td>\n",
       "      <td>298</td>\n",
       "      <td>295</td>\n",
       "      <td>276</td>\n",
       "      <td>1</td>\n",
       "      <td>-2</td>\n",
       "      <td>LAS</td>\n",
       "      <td>JFK</td>\n",
       "      <td>2248</td>\n",
       "      <td>10</td>\n",
       "      <td>12</td>\n",
       "      <td>0</td>\n",
       "      <td>NaN</td>\n",
       "      <td>0</td>\n",
       "      <td>0</td>\n",
       "      <td>0</td>\n",
       "      <td>0</td>\n",
       "      <td>0</td>\n",
       "      <td>0</td>\n",
       "    </tr>\n",
       "    <tr>\n",
       "      <th>28578472</th>\n",
       "      <td>2007</td>\n",
       "      <td>12</td>\n",
       "      <td>18</td>\n",
       "      <td>2</td>\n",
       "      <td>1007</td>\n",
       "      <td>1000</td>\n",
       "      <td>1100</td>\n",
       "      <td>1109</td>\n",
       "      <td>EV</td>\n",
       "      <td>4155</td>\n",
       "      <td>N837AS</td>\n",
       "      <td>53</td>\n",
       "      <td>69</td>\n",
       "      <td>38</td>\n",
       "      <td>-9</td>\n",
       "      <td>7</td>\n",
       "      <td>TLH</td>\n",
       "      <td>ATL</td>\n",
       "      <td>223</td>\n",
       "      <td>8</td>\n",
       "      <td>7</td>\n",
       "      <td>0</td>\n",
       "      <td>NaN</td>\n",
       "      <td>0</td>\n",
       "      <td>0</td>\n",
       "      <td>0</td>\n",
       "      <td>0</td>\n",
       "      <td>0</td>\n",
       "      <td>0</td>\n",
       "    </tr>\n",
       "    <tr>\n",
       "      <th>7976460</th>\n",
       "      <td>2005</td>\n",
       "      <td>2</td>\n",
       "      <td>7</td>\n",
       "      <td>1</td>\n",
       "      <td>754</td>\n",
       "      <td>755</td>\n",
       "      <td>920</td>\n",
       "      <td>909</td>\n",
       "      <td>XE</td>\n",
       "      <td>3383</td>\n",
       "      <td>N26549</td>\n",
       "      <td>86</td>\n",
       "      <td>74</td>\n",
       "      <td>60</td>\n",
       "      <td>11</td>\n",
       "      <td>-1</td>\n",
       "      <td>MSY</td>\n",
       "      <td>IAH</td>\n",
       "      <td>305</td>\n",
       "      <td>10</td>\n",
       "      <td>16</td>\n",
       "      <td>0</td>\n",
       "      <td>NaN</td>\n",
       "      <td>0</td>\n",
       "      <td>0</td>\n",
       "      <td>0</td>\n",
       "      <td>0</td>\n",
       "      <td>0</td>\n",
       "      <td>0</td>\n",
       "    </tr>\n",
       "    <tr>\n",
       "      <th>9063330</th>\n",
       "      <td>2005</td>\n",
       "      <td>4</td>\n",
       "      <td>4</td>\n",
       "      <td>1</td>\n",
       "      <td>1613</td>\n",
       "      <td>1612</td>\n",
       "      <td>1707</td>\n",
       "      <td>1655</td>\n",
       "      <td>OH</td>\n",
       "      <td>5438</td>\n",
       "      <td>N34CA</td>\n",
       "      <td>54</td>\n",
       "      <td>43</td>\n",
       "      <td>31</td>\n",
       "      <td>12</td>\n",
       "      <td>1</td>\n",
       "      <td>SDF</td>\n",
       "      <td>CVG</td>\n",
       "      <td>83</td>\n",
       "      <td>6</td>\n",
       "      <td>17</td>\n",
       "      <td>0</td>\n",
       "      <td>NaN</td>\n",
       "      <td>0</td>\n",
       "      <td>0</td>\n",
       "      <td>0</td>\n",
       "      <td>0</td>\n",
       "      <td>0</td>\n",
       "      <td>0</td>\n",
       "    </tr>\n",
       "    <tr>\n",
       "      <th>5163772</th>\n",
       "      <td>2004</td>\n",
       "      <td>9</td>\n",
       "      <td>29</td>\n",
       "      <td>3</td>\n",
       "      <td>1053</td>\n",
       "      <td>1100</td>\n",
       "      <td>1221</td>\n",
       "      <td>1215</td>\n",
       "      <td>MQ</td>\n",
       "      <td>5009</td>\n",
       "      <td>N715AE</td>\n",
       "      <td>88</td>\n",
       "      <td>75</td>\n",
       "      <td>36</td>\n",
       "      <td>6</td>\n",
       "      <td>-7</td>\n",
       "      <td>LGA</td>\n",
       "      <td>BOS</td>\n",
       "      <td>185</td>\n",
       "      <td>13</td>\n",
       "      <td>39</td>\n",
       "      <td>0</td>\n",
       "      <td>NaN</td>\n",
       "      <td>0</td>\n",
       "      <td>0</td>\n",
       "      <td>0</td>\n",
       "      <td>0</td>\n",
       "      <td>0</td>\n",
       "      <td>0</td>\n",
       "    </tr>\n",
       "    <tr>\n",
       "      <th>14914550</th>\n",
       "      <td>2006</td>\n",
       "      <td>2</td>\n",
       "      <td>13</td>\n",
       "      <td>1</td>\n",
       "      <td>1150</td>\n",
       "      <td>1150</td>\n",
       "      <td>1300</td>\n",
       "      <td>1255</td>\n",
       "      <td>WN</td>\n",
       "      <td>2409</td>\n",
       "      <td>N765</td>\n",
       "      <td>70</td>\n",
       "      <td>65</td>\n",
       "      <td>53</td>\n",
       "      <td>5</td>\n",
       "      <td>0</td>\n",
       "      <td>BWI</td>\n",
       "      <td>PVD</td>\n",
       "      <td>328</td>\n",
       "      <td>7</td>\n",
       "      <td>10</td>\n",
       "      <td>0</td>\n",
       "      <td>NaN</td>\n",
       "      <td>0</td>\n",
       "      <td>0</td>\n",
       "      <td>0</td>\n",
       "      <td>0</td>\n",
       "      <td>0</td>\n",
       "      <td>0</td>\n",
       "    </tr>\n",
       "    <tr>\n",
       "      <th>21100218</th>\n",
       "      <td>2006</td>\n",
       "      <td>12</td>\n",
       "      <td>28</td>\n",
       "      <td>4</td>\n",
       "      <td>1315</td>\n",
       "      <td>1255</td>\n",
       "      <td>1401</td>\n",
       "      <td>1344</td>\n",
       "      <td>US</td>\n",
       "      <td>849</td>\n",
       "      <td>N574US</td>\n",
       "      <td>46</td>\n",
       "      <td>49</td>\n",
       "      <td>29</td>\n",
       "      <td>17</td>\n",
       "      <td>20</td>\n",
       "      <td>CLT</td>\n",
       "      <td>RDU</td>\n",
       "      <td>130</td>\n",
       "      <td>6</td>\n",
       "      <td>11</td>\n",
       "      <td>0</td>\n",
       "      <td>NaN</td>\n",
       "      <td>0</td>\n",
       "      <td>7</td>\n",
       "      <td>0</td>\n",
       "      <td>0</td>\n",
       "      <td>0</td>\n",
       "      <td>10</td>\n",
       "    </tr>\n",
       "    <tr>\n",
       "      <th>24576864</th>\n",
       "      <td>2007</td>\n",
       "      <td>6</td>\n",
       "      <td>30</td>\n",
       "      <td>6</td>\n",
       "      <td>1700</td>\n",
       "      <td>1655</td>\n",
       "      <td>33</td>\n",
       "      <td>100</td>\n",
       "      <td>WN</td>\n",
       "      <td>611</td>\n",
       "      <td>N219WN</td>\n",
       "      <td>273</td>\n",
       "      <td>305</td>\n",
       "      <td>257</td>\n",
       "      <td>-27</td>\n",
       "      <td>5</td>\n",
       "      <td>LAS</td>\n",
       "      <td>BDL</td>\n",
       "      <td>2298</td>\n",
       "      <td>6</td>\n",
       "      <td>10</td>\n",
       "      <td>0</td>\n",
       "      <td>NaN</td>\n",
       "      <td>0</td>\n",
       "      <td>0</td>\n",
       "      <td>0</td>\n",
       "      <td>0</td>\n",
       "      <td>0</td>\n",
       "      <td>0</td>\n",
       "    </tr>\n",
       "    <tr>\n",
       "      <th>25877727</th>\n",
       "      <td>2007</td>\n",
       "      <td>8</td>\n",
       "      <td>17</td>\n",
       "      <td>5</td>\n",
       "      <td>1406</td>\n",
       "      <td>1400</td>\n",
       "      <td>1519</td>\n",
       "      <td>1520</td>\n",
       "      <td>XE</td>\n",
       "      <td>3020</td>\n",
       "      <td>N12567</td>\n",
       "      <td>73</td>\n",
       "      <td>80</td>\n",
       "      <td>53</td>\n",
       "      <td>-1</td>\n",
       "      <td>6</td>\n",
       "      <td>JAN</td>\n",
       "      <td>IAH</td>\n",
       "      <td>351</td>\n",
       "      <td>11</td>\n",
       "      <td>9</td>\n",
       "      <td>0</td>\n",
       "      <td>NaN</td>\n",
       "      <td>0</td>\n",
       "      <td>0</td>\n",
       "      <td>0</td>\n",
       "      <td>0</td>\n",
       "      <td>0</td>\n",
       "      <td>0</td>\n",
       "    </tr>\n",
       "    <tr>\n",
       "      <th>4994443</th>\n",
       "      <td>2004</td>\n",
       "      <td>9</td>\n",
       "      <td>18</td>\n",
       "      <td>6</td>\n",
       "      <td>707</td>\n",
       "      <td>710</td>\n",
       "      <td>825</td>\n",
       "      <td>818</td>\n",
       "      <td>XE</td>\n",
       "      <td>2727</td>\n",
       "      <td>N11551</td>\n",
       "      <td>78</td>\n",
       "      <td>68</td>\n",
       "      <td>59</td>\n",
       "      <td>7</td>\n",
       "      <td>-3</td>\n",
       "      <td>MDT</td>\n",
       "      <td>CLE</td>\n",
       "      <td>280</td>\n",
       "      <td>7</td>\n",
       "      <td>12</td>\n",
       "      <td>0</td>\n",
       "      <td>NaN</td>\n",
       "      <td>0</td>\n",
       "      <td>0</td>\n",
       "      <td>0</td>\n",
       "      <td>0</td>\n",
       "      <td>0</td>\n",
       "      <td>0</td>\n",
       "    </tr>\n",
       "    <tr>\n",
       "      <th>7008686</th>\n",
       "      <td>2004</td>\n",
       "      <td>12</td>\n",
       "      <td>11</td>\n",
       "      <td>6</td>\n",
       "      <td>908</td>\n",
       "      <td>910</td>\n",
       "      <td>1310</td>\n",
       "      <td>1258</td>\n",
       "      <td>AA</td>\n",
       "      <td>1346</td>\n",
       "      <td>N202AA</td>\n",
       "      <td>182</td>\n",
       "      <td>168</td>\n",
       "      <td>160</td>\n",
       "      <td>12</td>\n",
       "      <td>-2</td>\n",
       "      <td>DFW</td>\n",
       "      <td>BWI</td>\n",
       "      <td>1217</td>\n",
       "      <td>10</td>\n",
       "      <td>12</td>\n",
       "      <td>0</td>\n",
       "      <td>NaN</td>\n",
       "      <td>0</td>\n",
       "      <td>0</td>\n",
       "      <td>0</td>\n",
       "      <td>0</td>\n",
       "      <td>0</td>\n",
       "      <td>0</td>\n",
       "    </tr>\n",
       "  </tbody>\n",
       "</table>\n",
       "</div>"
      ],
      "text/plain": [
       "          Year  Month  DayofMonth  DayOfWeek  DepTime  CRSDepTime  ArrTime  \\\n",
       "7122936   2004     12          13          1     1449        1500     1734   \n",
       "18464848  2006      8          25          5     1407        1215     2016   \n",
       "30528604  2008      3           9          7     1615        1540     1739   \n",
       "27653523  2007     11           5          1      758         800      845   \n",
       "29208740  2008      1          13          7      649         700      755   \n",
       "26033548  2007      8          14          2     2033        1940     2148   \n",
       "19521385  2006      9           4          1       41          40      707   \n",
       "24809399  2007      6          25          1     1511        1455     1614   \n",
       "6982939   2004     12          14          2     1937        1940     2120   \n",
       "24132337  2007      5          21          1     1758        1800      156   \n",
       "28578472  2007     12          18          2     1007        1000     1100   \n",
       "7976460   2005      2           7          1      754         755      920   \n",
       "9063330   2005      4           4          1     1613        1612     1707   \n",
       "5163772   2004      9          29          3     1053        1100     1221   \n",
       "14914550  2006      2          13          1     1150        1150     1300   \n",
       "21100218  2006     12          28          4     1315        1255     1401   \n",
       "24576864  2007      6          30          6     1700        1655       33   \n",
       "25877727  2007      8          17          5     1406        1400     1519   \n",
       "4994443   2004      9          18          6      707         710      825   \n",
       "7008686   2004     12          11          6      908         910     1310   \n",
       "\n",
       "          CRSArrTime UniqueCarrier  FlightNum TailNum  ActualElapsedTime  \\\n",
       "7122936         1752            DL        542  N903DA                105   \n",
       "18464848        1815            WN       1111  N633SW                249   \n",
       "30528604        1725            AA        337  N457AA                144   \n",
       "27653523         850            WN        609  N346SW                 47   \n",
       "29208740         811            EV       4840  N878AS                 66   \n",
       "26033548        2058            UA       1159  N563UA                134   \n",
       "19521385         649            AS        106  N618AS                326   \n",
       "24809399        1552            DL        973  N633DL                 63   \n",
       "6982939         2128            AA        356  N4XDAA                103   \n",
       "24132337         155            US         52  N819AW                298   \n",
       "28578472        1109            EV       4155  N837AS                 53   \n",
       "7976460          909            XE       3383  N26549                 86   \n",
       "9063330         1655            OH       5438   N34CA                 54   \n",
       "5163772         1215            MQ       5009  N715AE                 88   \n",
       "14914550        1255            WN       2409    N765                 70   \n",
       "21100218        1344            US        849  N574US                 46   \n",
       "24576864         100            WN        611  N219WN                273   \n",
       "25877727        1520            XE       3020  N12567                 73   \n",
       "4994443          818            XE       2727  N11551                 78   \n",
       "7008686         1258            AA       1346  N202AA                182   \n",
       "\n",
       "          CRSElapsedTime  AirTime  ArrDelay  DepDelay Origin Dest  Distance  \\\n",
       "7122936              112       87       -18       -11    SNA  SLC       588   \n",
       "18464848             240      229       121       112    OAK  MDW      1844   \n",
       "30528604             165      126        14        35    LGA  ORD       733   \n",
       "27653523              50       38        -5        -2    HOU  SAT       192   \n",
       "29208740              71       53       -16       -11    FLO  ATL       273   \n",
       "26033548             138      107        49        53    DEN  SNA       846   \n",
       "19521385             309      305        18         1    ANC  LAX      2345   \n",
       "24809399              57       38        22        16    ATL  SAV       215   \n",
       "6982939              108       83        -8        -3    DFW  OMA       583   \n",
       "24132337             295      276         1        -2    LAS  JFK      2248   \n",
       "28578472              69       38        -9         7    TLH  ATL       223   \n",
       "7976460               74       60        11        -1    MSY  IAH       305   \n",
       "9063330               43       31        12         1    SDF  CVG        83   \n",
       "5163772               75       36         6        -7    LGA  BOS       185   \n",
       "14914550              65       53         5         0    BWI  PVD       328   \n",
       "21100218              49       29        17        20    CLT  RDU       130   \n",
       "24576864             305      257       -27         5    LAS  BDL      2298   \n",
       "25877727              80       53        -1         6    JAN  IAH       351   \n",
       "4994443               68       59         7        -3    MDT  CLE       280   \n",
       "7008686              168      160        12        -2    DFW  BWI      1217   \n",
       "\n",
       "          TaxiIn  TaxiOut  Cancelled CancellationCode  Diverted  CarrierDelay  \\\n",
       "7122936        6       12          0              NaN         0             0   \n",
       "18464848       5       15          0              NaN         0            10   \n",
       "30528604       6       12          0              NaN         0           NaN   \n",
       "27653523       2        7          0              NaN         0             0   \n",
       "29208740       6        7          0              NaN         0           NaN   \n",
       "26033548       7       20          0              NaN         0             0   \n",
       "19521385       9       12          0              NaN         0             0   \n",
       "24809399       5       20          0              NaN         0             0   \n",
       "6982939        2       18          0              NaN         0             0   \n",
       "24132337      10       12          0              NaN         0             0   \n",
       "28578472       8        7          0              NaN         0             0   \n",
       "7976460       10       16          0              NaN         0             0   \n",
       "9063330        6       17          0              NaN         0             0   \n",
       "5163772       13       39          0              NaN         0             0   \n",
       "14914550       7       10          0              NaN         0             0   \n",
       "21100218       6       11          0              NaN         0             7   \n",
       "24576864       6       10          0              NaN         0             0   \n",
       "25877727      11        9          0              NaN         0             0   \n",
       "4994443        7       12          0              NaN         0             0   \n",
       "7008686       10       12          0              NaN         0             0   \n",
       "\n",
       "          WeatherDelay  NASDelay  SecurityDelay  LateAircraftDelay  \n",
       "7122936              0         0              0                  0  \n",
       "18464848             0         9              0                102  \n",
       "30528604           NaN       NaN            NaN                NaN  \n",
       "27653523             0         0              0                  0  \n",
       "29208740           NaN       NaN            NaN                NaN  \n",
       "26033548            43         0              0                  6  \n",
       "19521385             0        18              0                  0  \n",
       "24809399             0         6              0                 16  \n",
       "6982939              0         0              0                  0  \n",
       "24132337             0         0              0                  0  \n",
       "28578472             0         0              0                  0  \n",
       "7976460              0         0              0                  0  \n",
       "9063330              0         0              0                  0  \n",
       "5163772              0         0              0                  0  \n",
       "14914550             0         0              0                  0  \n",
       "21100218             0         0              0                 10  \n",
       "24576864             0         0              0                  0  \n",
       "25877727             0         0              0                  0  \n",
       "4994443              0         0              0                  0  \n",
       "7008686              0         0              0                  0  "
      ]
     },
     "execution_count": 9,
     "metadata": {},
     "output_type": "execute_result"
    }
   ],
   "source": [
    "# visual inspection using a sample\n",
    "flights.sample(20)"
   ]
  },
  {
   "cell_type": "markdown",
   "metadata": {
    "pycharm": {
     "name": "#%% md\n"
    }
   },
   "source": [
    ">**Observations from visual inspection:**\n",
    "\n",
    "    - All time columns `DepTime, CRSDepTime, ArrTime, CRSArrTime with format hhmm, was converted to a number, dropping leading zero's\n",
    "    - `Year, month, DayOfMonth` together make up a date field which can be used for time series investigations, to be considered during feature engineering\n",
    "    - Column `Cancelled` looks like it could be a boolean field\n",
    "    - ArrDelay and DepDelay sometimes have negative numbers, I assume these are not delays but early departures and arrivals - to be further investigated\n",
    "    - Looks like the reason for delay features at the end of the dataset, represent a breakdown of the total delay in arrivals (ArrDelay) - to be further investigated\n",
    "    - Column headings start with a capital letter\n",
    "    - When `CancellationCode` is 0, means flight was not cancelled, we see NaN as value in CancellationCode. It's not missing as such, but rather an indication of a cancelled flight"
   ]
  },
  {
   "cell_type": "markdown",
   "metadata": {
    "pycharm": {
     "name": "#%% md\n"
    }
   },
   "source": [
    "#### What is the structure of the dataset?"
   ]
  },
  {
   "cell_type": "code",
   "execution_count": 10,
   "metadata": {
    "pycharm": {
     "name": "#%%\n"
    }
   },
   "outputs": [
    {
     "data": {
      "text/plain": [
       "(31254220, 29)"
      ]
     },
     "execution_count": 10,
     "metadata": {},
     "output_type": "execute_result"
    }
   ],
   "source": [
    "flights.shape"
   ]
  },
  {
   "cell_type": "markdown",
   "metadata": {
    "pycharm": {
     "name": "#%% md\n"
    }
   },
   "source": [
    "#### Inspect the data types and missing values"
   ]
  },
  {
   "cell_type": "code",
   "execution_count": 11,
   "metadata": {
    "pycharm": {
     "name": "#%%\n"
    }
   },
   "outputs": [
    {
     "name": "stdout",
     "output_type": "stream",
     "text": [
      "<class 'pandas.core.frame.DataFrame'>\n",
      "RangeIndex: 31254220 entries, 0 to 31254219\n",
      "Data columns (total 29 columns):\n",
      " #   Column             Non-Null Count     Dtype  \n",
      "---  ------             --------------     -----  \n",
      " 0   Year               31254220 non-null  int16  \n",
      " 1   Month              31254220 non-null  int8   \n",
      " 2   DayofMonth         31254220 non-null  int8   \n",
      " 3   DayOfWeek          31254220 non-null  int8   \n",
      " 4   DepTime            30645609 non-null  float16\n",
      " 5   CRSDepTime         31254220 non-null  int16  \n",
      " 6   ArrTime            30578778 non-null  float16\n",
      " 7   CRSArrTime         31254220 non-null  int16  \n",
      " 8   UniqueCarrier      31254220 non-null  object \n",
      " 9   FlightNum          31254220 non-null  int16  \n",
      " 10  TailNum            31211619 non-null  object \n",
      " 11  ActualElapsedTime  30578778 non-null  float16\n",
      " 12  CRSElapsedTime     31252815 non-null  float16\n",
      " 13  AirTime            30578778 non-null  float16\n",
      " 14  ArrDelay           30578778 non-null  float16\n",
      " 15  DepDelay           30645609 non-null  float16\n",
      " 16  Origin             31254220 non-null  object \n",
      " 17  Dest               31254220 non-null  object \n",
      " 18  Distance           31254220 non-null  int16  \n",
      " 19  TaxiIn             31184124 non-null  float16\n",
      " 20  TaxiOut            31189778 non-null  float16\n",
      " 21  Cancelled          31254220 non-null  int8   \n",
      " 22  CancellationCode   608620 non-null    object \n",
      " 23  Diverted           31254220 non-null  int8   \n",
      " 24  CarrierDelay       29449586 non-null  float16\n",
      " 25  WeatherDelay       29449586 non-null  float16\n",
      " 26  NASDelay           29449586 non-null  float16\n",
      " 27  SecurityDelay      29449586 non-null  float16\n",
      " 28  LateAircraftDelay  29449586 non-null  float16\n",
      "dtypes: float16(14), int16(5), int8(5), object(5)\n",
      "memory usage: 2.4+ GB\n"
     ]
    }
   ],
   "source": [
    "flights.info(verbose=True, show_counts=True)"
   ]
  },
  {
   "cell_type": "markdown",
   "metadata": {
    "pycharm": {
     "name": "#%% md\n"
    }
   },
   "source": [
    "**Observation from info():**\n",
    "\n",
    "- DepTime, CRSDepTime, ArrTime and CRSArrTime have incorrect integer or float data times, it should be datetime.time with format hhmm\n",
    "- Reason for delay features (Carrier_Delay, WeatherDelay, NASDelay, SecurityDelay and LateAirCraftDelay) can be converted from float to integer to save memory space"
   ]
  },
  {
   "cell_type": "code",
   "execution_count": 12,
   "metadata": {
    "pycharm": {
     "name": "#%%\n"
    }
   },
   "outputs": [
    {
     "data": {
      "text/html": [
       "<div>\n",
       "<style scoped>\n",
       "    .dataframe tbody tr th:only-of-type {\n",
       "        vertical-align: middle;\n",
       "    }\n",
       "\n",
       "    .dataframe tbody tr th {\n",
       "        vertical-align: top;\n",
       "    }\n",
       "\n",
       "    .dataframe thead th {\n",
       "        text-align: right;\n",
       "    }\n",
       "</style>\n",
       "<table border=\"1\" class=\"dataframe\">\n",
       "  <thead>\n",
       "    <tr style=\"text-align: right;\">\n",
       "      <th></th>\n",
       "      <th>Year</th>\n",
       "      <th>Month</th>\n",
       "      <th>DayofMonth</th>\n",
       "      <th>DayOfWeek</th>\n",
       "      <th>DepTime</th>\n",
       "      <th>CRSDepTime</th>\n",
       "      <th>ArrTime</th>\n",
       "      <th>CRSArrTime</th>\n",
       "      <th>UniqueCarrier</th>\n",
       "      <th>FlightNum</th>\n",
       "      <th>TailNum</th>\n",
       "      <th>ActualElapsedTime</th>\n",
       "      <th>CRSElapsedTime</th>\n",
       "      <th>AirTime</th>\n",
       "      <th>ArrDelay</th>\n",
       "      <th>DepDelay</th>\n",
       "      <th>Origin</th>\n",
       "      <th>Dest</th>\n",
       "      <th>Distance</th>\n",
       "      <th>TaxiIn</th>\n",
       "      <th>TaxiOut</th>\n",
       "      <th>Cancelled</th>\n",
       "      <th>CancellationCode</th>\n",
       "      <th>Diverted</th>\n",
       "      <th>CarrierDelay</th>\n",
       "      <th>WeatherDelay</th>\n",
       "      <th>NASDelay</th>\n",
       "      <th>SecurityDelay</th>\n",
       "      <th>LateAircraftDelay</th>\n",
       "    </tr>\n",
       "  </thead>\n",
       "  <tbody>\n",
       "    <tr>\n",
       "      <th>509767</th>\n",
       "      <td>2004</td>\n",
       "      <td>1</td>\n",
       "      <td>21</td>\n",
       "      <td>3</td>\n",
       "      <td>826</td>\n",
       "      <td>805</td>\n",
       "      <td>1114</td>\n",
       "      <td>1052</td>\n",
       "      <td>AS</td>\n",
       "      <td>577</td>\n",
       "      <td>N947AS</td>\n",
       "      <td>168</td>\n",
       "      <td>167</td>\n",
       "      <td>153</td>\n",
       "      <td>22</td>\n",
       "      <td>21</td>\n",
       "      <td>PSP</td>\n",
       "      <td>SEA</td>\n",
       "      <td>987</td>\n",
       "      <td>6</td>\n",
       "      <td>9</td>\n",
       "      <td>0</td>\n",
       "      <td>NaN</td>\n",
       "      <td>0</td>\n",
       "      <td>21</td>\n",
       "      <td>0</td>\n",
       "      <td>1</td>\n",
       "      <td>0</td>\n",
       "      <td>0</td>\n",
       "    </tr>\n",
       "    <tr>\n",
       "      <th>13260421</th>\n",
       "      <td>2005</td>\n",
       "      <td>11</td>\n",
       "      <td>27</td>\n",
       "      <td>7</td>\n",
       "      <td>1655</td>\n",
       "      <td>1600</td>\n",
       "      <td>1825</td>\n",
       "      <td>1735</td>\n",
       "      <td>WN</td>\n",
       "      <td>555</td>\n",
       "      <td>N330SW</td>\n",
       "      <td>90</td>\n",
       "      <td>95</td>\n",
       "      <td>79</td>\n",
       "      <td>50</td>\n",
       "      <td>55</td>\n",
       "      <td>ABQ</td>\n",
       "      <td>SLC</td>\n",
       "      <td>493</td>\n",
       "      <td>3</td>\n",
       "      <td>8</td>\n",
       "      <td>0</td>\n",
       "      <td>NaN</td>\n",
       "      <td>0</td>\n",
       "      <td>0</td>\n",
       "      <td>0</td>\n",
       "      <td>0</td>\n",
       "      <td>0</td>\n",
       "      <td>50</td>\n",
       "    </tr>\n",
       "    <tr>\n",
       "      <th>12850891</th>\n",
       "      <td>2005</td>\n",
       "      <td>10</td>\n",
       "      <td>14</td>\n",
       "      <td>5</td>\n",
       "      <td>2046</td>\n",
       "      <td>1844</td>\n",
       "      <td>2156</td>\n",
       "      <td>1959</td>\n",
       "      <td>EV</td>\n",
       "      <td>4111</td>\n",
       "      <td>N856AS</td>\n",
       "      <td>70</td>\n",
       "      <td>75</td>\n",
       "      <td>53</td>\n",
       "      <td>117</td>\n",
       "      <td>122</td>\n",
       "      <td>GNV</td>\n",
       "      <td>ATL</td>\n",
       "      <td>300</td>\n",
       "      <td>8</td>\n",
       "      <td>9</td>\n",
       "      <td>0</td>\n",
       "      <td>NaN</td>\n",
       "      <td>0</td>\n",
       "      <td>0</td>\n",
       "      <td>0</td>\n",
       "      <td>117</td>\n",
       "      <td>0</td>\n",
       "      <td>0</td>\n",
       "    </tr>\n",
       "    <tr>\n",
       "      <th>5446937</th>\n",
       "      <td>2004</td>\n",
       "      <td>10</td>\n",
       "      <td>20</td>\n",
       "      <td>3</td>\n",
       "      <td>1220</td>\n",
       "      <td>1220</td>\n",
       "      <td>1352</td>\n",
       "      <td>1345</td>\n",
       "      <td>WN</td>\n",
       "      <td>603</td>\n",
       "      <td>N762</td>\n",
       "      <td>92</td>\n",
       "      <td>85</td>\n",
       "      <td>50</td>\n",
       "      <td>7</td>\n",
       "      <td>0</td>\n",
       "      <td>BUR</td>\n",
       "      <td>PHX</td>\n",
       "      <td>369</td>\n",
       "      <td>32</td>\n",
       "      <td>10</td>\n",
       "      <td>0</td>\n",
       "      <td>NaN</td>\n",
       "      <td>0</td>\n",
       "      <td>0</td>\n",
       "      <td>0</td>\n",
       "      <td>0</td>\n",
       "      <td>0</td>\n",
       "      <td>0</td>\n",
       "    </tr>\n",
       "    <tr>\n",
       "      <th>7307814</th>\n",
       "      <td>2005</td>\n",
       "      <td>1</td>\n",
       "      <td>8</td>\n",
       "      <td>6</td>\n",
       "      <td>800</td>\n",
       "      <td>810</td>\n",
       "      <td>958</td>\n",
       "      <td>1005</td>\n",
       "      <td>OH</td>\n",
       "      <td>5530</td>\n",
       "      <td>N941CA</td>\n",
       "      <td>118</td>\n",
       "      <td>115</td>\n",
       "      <td>98</td>\n",
       "      <td>-7</td>\n",
       "      <td>-10</td>\n",
       "      <td>ABE</td>\n",
       "      <td>CVG</td>\n",
       "      <td>503</td>\n",
       "      <td>4</td>\n",
       "      <td>16</td>\n",
       "      <td>0</td>\n",
       "      <td>NaN</td>\n",
       "      <td>0</td>\n",
       "      <td>0</td>\n",
       "      <td>0</td>\n",
       "      <td>0</td>\n",
       "      <td>0</td>\n",
       "      <td>0</td>\n",
       "    </tr>\n",
       "  </tbody>\n",
       "</table>\n",
       "</div>"
      ],
      "text/plain": [
       "          Year  Month  DayofMonth  DayOfWeek  DepTime  CRSDepTime  ArrTime  \\\n",
       "509767    2004      1          21          3      826         805     1114   \n",
       "13260421  2005     11          27          7     1655        1600     1825   \n",
       "12850891  2005     10          14          5     2046        1844     2156   \n",
       "5446937   2004     10          20          3     1220        1220     1352   \n",
       "7307814   2005      1           8          6      800         810      958   \n",
       "\n",
       "          CRSArrTime UniqueCarrier  FlightNum TailNum  ActualElapsedTime  \\\n",
       "509767          1052            AS        577  N947AS                168   \n",
       "13260421        1735            WN        555  N330SW                 90   \n",
       "12850891        1959            EV       4111  N856AS                 70   \n",
       "5446937         1345            WN        603    N762                 92   \n",
       "7307814         1005            OH       5530  N941CA                118   \n",
       "\n",
       "          CRSElapsedTime  AirTime  ArrDelay  DepDelay Origin Dest  Distance  \\\n",
       "509767               167      153        22        21    PSP  SEA       987   \n",
       "13260421              95       79        50        55    ABQ  SLC       493   \n",
       "12850891              75       53       117       122    GNV  ATL       300   \n",
       "5446937               85       50         7         0    BUR  PHX       369   \n",
       "7307814              115       98        -7       -10    ABE  CVG       503   \n",
       "\n",
       "          TaxiIn  TaxiOut  Cancelled CancellationCode  Diverted  CarrierDelay  \\\n",
       "509767         6        9          0              NaN         0            21   \n",
       "13260421       3        8          0              NaN         0             0   \n",
       "12850891       8        9          0              NaN         0             0   \n",
       "5446937       32       10          0              NaN         0             0   \n",
       "7307814        4       16          0              NaN         0             0   \n",
       "\n",
       "          WeatherDelay  NASDelay  SecurityDelay  LateAircraftDelay  \n",
       "509767               0         1              0                  0  \n",
       "13260421             0         0              0                 50  \n",
       "12850891             0       117              0                  0  \n",
       "5446937              0         0              0                  0  \n",
       "7307814              0         0              0                  0  "
      ]
     },
     "execution_count": 12,
     "metadata": {},
     "output_type": "execute_result"
    }
   ],
   "source": [
    "# for further programmatic inspection take a sample to avoid performance issues, as we are working with a large dataset > 2GB\n",
    "sample = np.random.choice(flights.shape[0], 500000, replace=False)\n",
    "flight_sample = flights.loc[sample,:].copy()\n",
    "flight_sample.head()"
   ]
  },
  {
   "cell_type": "markdown",
   "metadata": {
    "pycharm": {
     "name": "#%% md\n"
    }
   },
   "source": [
    "### Missing data\n",
    "How much missing data do we have in columns and rows ?"
   ]
  },
  {
   "cell_type": "code",
   "execution_count": null,
   "outputs": [],
   "source": [],
   "metadata": {
    "collapsed": false,
    "pycharm": {
     "name": "#%%\n"
    }
   }
  },
  {
   "cell_type": "markdown",
   "source": [
    "#### Missing data in columns"
   ],
   "metadata": {
    "collapsed": false,
    "pycharm": {
     "name": "#%% md\n"
    }
   }
  },
  {
   "cell_type": "code",
   "execution_count": null,
   "outputs": [],
   "source": [
    "# Display columns with missing values\n",
    "na_counts = flight_sample.isna().sum().sort_values(ascending=False) \n",
    "\n",
    "# Drop columns with no missing values\n",
    "na_counts = na_counts[na_counts > 0]\n",
    "\n",
    "sns.barplot(x=na_counts.index.values, y=na_counts/flight_sample.shape[0]*100, color=BASE_COLOR)\n",
    "plt.xticks(rotation=90)\n",
    "yticks = np.arange(0, 101, 20)\n",
    "ylabels = ['{}%'.format(v) for v in yticks]\n",
    "plt.ylabel('Missing values')\n",
    "plt.title('% Missing values in columns')\n",
    "plt.yticks(yticks, ylabels)\n",
    "\n",
    "# get current tick locations and labels\n",
    "locs, labels = plt.xticks()\n",
    "\n",
    "# for each bar, print a % text at the top of each bar\n",
    "for loc, label in zip(locs,labels):\n",
    "    count = na_counts[label.get_text()]/flight_sample.shape[0]*100\n",
    "    pct_string = '{:0.1f}%'.format(count)\n",
    "    plt.text(loc, count+1, pct_string, ha='center', color='black', fontsize=6)\n",
    "\n",
    "plt.show()\n",
    "# plt.ticklabel_format(style='plain', axis='y')"
   ],
   "metadata": {
    "collapsed": false,
    "pycharm": {
     "name": "#%%\n"
    }
   }
  },
  {
   "cell_type": "code",
   "execution_count": null,
   "outputs": [],
   "source": [
    "# Take a closer look at records where features like 'AirTime' is missing. It looks like when AirTime is missing, ArrDelay, ArrTime, DepTime and DepDelay could also be missing\n",
    "flight_sample.loc[flight_sample['AirTime'].isna()][:10]"
   ],
   "metadata": {
    "collapsed": false,
    "pycharm": {
     "name": "#%%\n"
    }
   }
  },
  {
   "cell_type": "markdown",
   "source": [
    "**Observations missing values in Columns:**\n",
    "\n",
    "- When AirTime is missing, the flight seems to be always cancelled. Is this the case for 'Diverted' flights also ?\n",
    "- When a flight is NOT cancelled, CancellationCode is NaN. It's not really a missing value, it's just that the flight is not cancelled."
   ],
   "metadata": {
    "collapsed": false,
    "pycharm": {
     "name": "#%% md\n"
    }
   }
  },
  {
   "cell_type": "code",
   "execution_count": null,
   "outputs": [],
   "source": [
    "# Is airtime, and related columns also missing when a flight is diverted?\n",
    "flight_sample.loc[flight_sample['Diverted'] == 1][:10]"
   ],
   "metadata": {
    "collapsed": false,
    "pycharm": {
     "name": "#%%\n"
    }
   }
  },
  {
   "cell_type": "code",
   "execution_count": null,
   "outputs": [],
   "source": [
    "# Is airtime only missing when a flight is cancelled or diverted? Make there are not other missing errors\n",
    "# cols = ['AirTime', 'ArrTime', 'ActualElapsedTime', 'DepTime', 'ArrDelay', 'DepDelay']\n",
    "flight_sample.loc[(flight_sample['AirTime'].isna()) & (flight_sample['Cancelled'] == 0) & (flight_sample['Diverted'] == 0)][:10]"
   ],
   "metadata": {
    "collapsed": false,
    "pycharm": {
     "name": "#%%\n"
    }
   }
  },
  {
   "cell_type": "code",
   "execution_count": null,
   "outputs": [],
   "source": [
    "# Is airtime only missing when a flight is cancelled or diverted? Make there are not other missing errors\n",
    "# cols = ['AirTime', 'ArrTime', 'ActualElapsedTime', 'DepTime', 'ArrDelay', 'DepDelay']\n",
    "flight_sample.loc[(flight_sample['DepDelay'].isna()) & (flight_sample['Cancelled'] == 0) & (flight_sample['Diverted'] == 0)][:10]"
   ],
   "metadata": {
    "collapsed": false,
    "pycharm": {
     "name": "#%%\n"
    }
   }
  },
  {
   "cell_type": "markdown",
   "source": [
    "**Observations missing values in Columns:**\n",
    "\n",
    "    - When 'AirTime', 'ArrTime', 'ActualElapsedTime', 'DepTime', 'ArrDelay', 'DepDelay' is missing, the flight is always cancelled or diverted. Missing values in these columns are thus ok. "
   ],
   "metadata": {
    "collapsed": false,
    "pycharm": {
     "name": "#%% md\n"
    }
   }
  },
  {
   "cell_type": "markdown",
   "source": [
    "#### Missing data in rows"
   ],
   "metadata": {
    "collapsed": false,
    "pycharm": {
     "name": "#%% md\n"
    }
   }
  },
  {
   "cell_type": "code",
   "execution_count": null,
   "outputs": [],
   "source": [
    "# missing data in rows \n",
    "missing_data_in_rows = (flight_sample.isna().mean(axis=1) * 100).sort_values()\n",
    "missing_data_in_rows.describe([0.25, 0.5, 0.75, 0.85, 0.9, 0.95, 0.99])"
   ],
   "metadata": {
    "collapsed": false,
    "pycharm": {
     "name": "#%%\n"
    }
   }
  },
  {
   "cell_type": "code",
   "execution_count": null,
   "outputs": [],
   "source": [
    "# Investigate deeper the rows with missing values > 20%\n",
    "missing_data_in_rows = missing_data_in_rows.loc[(missing_data_in_rows > 20)]\n",
    "flight_sample.loc[missing_data_in_rows.index][:10]"
   ],
   "metadata": {
    "collapsed": false,
    "pycharm": {
     "name": "#%%\n"
    }
   }
  },
  {
   "cell_type": "code",
   "execution_count": null,
   "outputs": [],
   "source": [
    "# Investigate deeper the rows with missing values > 40%\n",
    "missing_data_in_rows = missing_data_in_rows.loc[(missing_data_in_rows > 40)]\n",
    "flight_sample.loc[missing_data_in_rows.index][:10]"
   ],
   "metadata": {
    "collapsed": false,
    "pycharm": {
     "name": "#%%\n"
    }
   }
  },
  {
   "cell_type": "markdown",
   "source": [
    "> **Observation missing values in rows:**\n",
    "\n",
    "    - Sub categories of reasons for delays have missing values, even if flights are not cancelled or diverted - to be further investigated\n",
    "    - Rows with >40% missing records are caused by cancelled or diverted flights"
   ],
   "metadata": {
    "collapsed": false,
    "pycharm": {
     "name": "#%% md\n"
    }
   }
  },
  {
   "cell_type": "code",
   "execution_count": null,
   "outputs": [],
   "source": [
    "# Lets have a closer look at NaN values in the sub-category delay fields at the end of the dataset. Are these values missing when ArrDelay is not missing too ?\n",
    "# flight_sample.loc[(flight_sample['WeatherDelay'].isna()) & (~flight_sample['ArrDelay'].isna())][:10]"
   ],
   "metadata": {
    "collapsed": false,
    "pycharm": {
     "name": "#%%\n"
    }
   }
  },
  {
   "cell_type": "markdown",
   "source": [
    "### Inspect summary statistics"
   ],
   "metadata": {
    "collapsed": false,
    "pycharm": {
     "name": "#%% md\n"
    }
   }
  },
  {
   "cell_type": "code",
   "execution_count": null,
   "outputs": [],
   "source": [
    "flight_sample.describe([0.25, 0.5, 0.75, 0.85, 0.9, 0.95, 0.99], include='all')"
   ],
   "metadata": {
    "collapsed": false,
    "pycharm": {
     "name": "#%%\n"
    }
   }
  },
  {
   "cell_type": "markdown",
   "source": [
    "**Observation from summary statistics:**\n",
    "\n",
    "1) `AirTime` have unexpected negative values as minimum values, and looks like errors - this needs a deeper look\n",
    "2) `ArrDelay` and `DepDelay` have unexpected negative values as minimum values, is this an error or does this represent early departures and arrivals ?\n",
    "3) DepTime, ArrTime have max time beyond 24:00 (e.g. 24:44). CRSDepTime and CRSArrTime seems to be more reliable time fields with a maximum of 24:00 and contain no missing values.\n",
    "4) There seems to be huge outliers in field Taxiln, AirTime, ArrDelay, DepDelay and CarrierDelay in percentile 99\n",
    "\n",
    "Lets deeper explore these issues"
   ],
   "metadata": {
    "collapsed": false,
    "pycharm": {
     "name": "#%% md\n"
    }
   }
  },
  {
   "cell_type": "markdown",
   "source": [
    "#### ActualElapsedTime and AirTime have unexpected negative values and looks like errors - this needs a deeper look"
   ],
   "metadata": {
    "collapsed": false,
    "pycharm": {
     "name": "#%% md\n"
    }
   }
  },
  {
   "cell_type": "code",
   "execution_count": null,
   "outputs": [],
   "source": [
    "# Have a closer look at records with negative Airtime\n",
    "airtime_errors = flight_sample.loc[(flight_sample['AirTime'] < 0)]\n",
    "print('{} out of {} records have AirTime < 0'.format(airtime_errors.shape[0], flight_sample.shape[0]))\n",
    "airtime_errors.sample(20)"
   ],
   "metadata": {
    "collapsed": false,
    "pycharm": {
     "name": "#%%\n"
    }
   }
  },
  {
   "cell_type": "markdown",
   "source": [
    ">Seems like these errors are caused by extremely large TaxiIn values. It is unlikely that the aircraft waited 24 days at the airport and are clear outliers"
   ],
   "metadata": {
    "collapsed": false,
    "pycharm": {
     "name": "#%% md\n"
    }
   }
  },
  {
   "cell_type": "markdown",
   "source": [
    "#### ArrDelay and DepDelay have unexpected negative values, is this an error or does this represent early departures and arrivals ?"
   ],
   "metadata": {
    "collapsed": false,
    "pycharm": {
     "name": "#%% md\n"
    }
   }
  },
  {
   "cell_type": "code",
   "execution_count": null,
   "outputs": [],
   "source": [
    "# Have a closer look at records with negative ArrDelay values\n",
    "airdelay_errors = flight_sample.loc[flight_sample['ArrDelay'] <= 0]\n",
    "print('{} out of {} records have ArrDelay < 0'.format(airdelay_errors.shape[0], flight_sample.shape[0]))\n",
    "airdelay_errors.sample(5)"
   ],
   "metadata": {
    "collapsed": false,
    "pycharm": {
     "name": "#%%\n"
    }
   }
  },
  {
   "cell_type": "markdown",
   "source": [
    "> Due to the volume of records with negative values (+/- 50%), I assume this represent early arrivals and departures"
   ],
   "metadata": {
    "collapsed": false,
    "pycharm": {
     "name": "#%% md\n"
    }
   }
  },
  {
   "cell_type": "markdown",
   "source": [
    "#### DepTime, ArrTime have max time beyond 24:00 (e.g. 24:44)"
   ],
   "metadata": {
    "collapsed": false,
    "pycharm": {
     "name": "#%% md\n"
    }
   }
  },
  {
   "cell_type": "code",
   "execution_count": null,
   "outputs": [],
   "source": [
    "# How many records have incorrect time values ?\n",
    "time_errors = flight_sample.loc[(flight_sample['DepTime'] > 2400) | (flight_sample['ArrTime'] > 2400) | (flight_sample['CRSArrTime'] > 2400)]\n",
    "print('{} out of {} records have DepTime or ArrTime > 24:00'.format(time_errors.shape[0], flight_sample.shape[0]))\n",
    "time_errors.head(15)"
   ],
   "metadata": {
    "collapsed": false,
    "pycharm": {
     "name": "#%%\n"
    }
   }
  },
  {
   "cell_type": "markdown",
   "source": [
    "**Observation**: AirTime is negative when DepTime or ArrTime > 24:00, and again the large `Taxiln` values are present is most cases"
   ],
   "metadata": {
    "collapsed": false,
    "pycharm": {
     "name": "#%% md\n"
    }
   }
  },
  {
   "cell_type": "markdown",
   "source": [
    "### Inspect unique entries"
   ],
   "metadata": {
    "collapsed": false,
    "pycharm": {
     "name": "#%% md\n"
    }
   }
  },
  {
   "cell_type": "code",
   "execution_count": null,
   "outputs": [],
   "source": [
    "# number of unique records per feature\n",
    "flight_sample.nunique()"
   ],
   "metadata": {
    "collapsed": false,
    "pycharm": {
     "name": "#%%\n"
    }
   }
  },
  {
   "cell_type": "code",
   "execution_count": null,
   "outputs": [],
   "source": [
    "# display unique values for non-numeric fields\n",
    "cols = ['Year', 'Month', 'DayofMonth', 'DayOfWeek', 'UniqueCarrier', 'Origin', 'Dest', 'Cancelled', 'CancellationCode', 'Diverted']\n",
    "for col in cols:\n",
    "    print('Unique values for column {}: \\n {} \\n'.format(col, flight_sample[col].sort_values().unique()))"
   ],
   "metadata": {
    "collapsed": false,
    "pycharm": {
     "name": "#%%\n"
    }
   }
  },
  {
   "cell_type": "markdown",
   "source": [
    "**Observation unique():**\n",
    "    \n",
    "No errors are detected when inspecting unique values, except for CancellationCode which is not really a missing value, not non-cancelled flights"
   ],
   "metadata": {
    "collapsed": false,
    "pycharm": {
     "name": "#%% md\n"
    }
   }
  },
  {
   "cell_type": "markdown",
   "source": [
    "### Validate time columns \n",
    "\n",
    "- Make sure hours are in range 00 - 23\n",
    "- Make sure minutes are in range 00 - 59"
   ],
   "metadata": {
    "collapsed": false,
    "pycharm": {
     "name": "#%% md\n"
    }
   }
  },
  {
   "cell_type": "code",
   "execution_count": null,
   "outputs": [],
   "source": [
    "# display unique hours and minutes\n",
    "def validate_time(col):\n",
    "    hours = []\n",
    "    minutes = []\n",
    "    \n",
    "    col =  col.astype('str').str.replace('.0', '', regex=False).str.zfill(4).replace('0nan', None)    \n",
    "    for time in col:\n",
    "        if not time == None:\n",
    "            hour = time[:2]\n",
    "            minute = time[2:]\n",
    "            hours.append(hour)\n",
    "            minutes.append(minute)\n",
    "\n",
    "    print('\\nUnique hours for {}:'.format(col.name))\n",
    "    hours = set(hours)\n",
    "    hours = sorted(hours, key=lambda x: (x is None, x))\n",
    "    print(hours) \n",
    "    \n",
    "    print('\\nUnique minutes for {}:'.format(col.name))\n",
    "    minutes = set(minutes)\n",
    "    minutes = sorted(minutes, key=lambda x: (x is None, x))\n",
    "    print(minutes)     "
   ],
   "metadata": {
    "collapsed": false,
    "pycharm": {
     "name": "#%%\n"
    }
   }
  },
  {
   "cell_type": "code",
   "execution_count": null,
   "outputs": [],
   "source": [
    "validate_time(flight_sample['ArrTime'])"
   ],
   "metadata": {
    "collapsed": false,
    "pycharm": {
     "name": "#%%\n"
    }
   }
  },
  {
   "cell_type": "code",
   "execution_count": null,
   "outputs": [],
   "source": [
    "validate_time(flight_sample['CRSArrTime'])"
   ],
   "metadata": {
    "collapsed": false,
    "pycharm": {
     "name": "#%%\n"
    }
   }
  },
  {
   "cell_type": "code",
   "execution_count": null,
   "outputs": [],
   "source": [
    "validate_time(flight_sample['DepTime'])"
   ],
   "metadata": {
    "collapsed": false,
    "pycharm": {
     "name": "#%%\n"
    }
   }
  },
  {
   "cell_type": "code",
   "execution_count": null,
   "outputs": [],
   "source": [
    "validate_time(flight_sample['CRSDepTime'])"
   ],
   "metadata": {
    "collapsed": false,
    "pycharm": {
     "name": "#%%\n"
    }
   }
  },
  {
   "cell_type": "markdown",
   "source": [
    "**Observation:**\n",
    "    \n",
    "- ArrTime and DepTime have incorrect in hours > 24 and incorrect minutes = 60. This will cause problems when converting to datetime format\n",
    "- CRSArrTime and CRSDepTime have valid hours and minutes and are ready for convertion to datetime format"
   ],
   "metadata": {
    "collapsed": false,
    "pycharm": {
     "name": "#%% md\n"
    }
   }
  },
  {
   "cell_type": "markdown",
   "source": [
    "### Inspect numeric fields  "
   ],
   "metadata": {
    "collapsed": false,
    "pycharm": {
     "name": "#%% md\n"
    }
   }
  },
  {
   "cell_type": "markdown",
   "source": [
    "#### Does ArrDelay add up to the sub category delays ?"
   ],
   "metadata": {
    "collapsed": false,
    "pycharm": {
     "name": "#%% md\n"
    }
   }
  },
  {
   "cell_type": "code",
   "execution_count": null,
   "outputs": [],
   "source": [
    "# Is ArrDelay the total of `Carrier_Delay`, `WeatherDelay`, `NASDelay`, `SecurityDelay` and `LateAirCraftDelay` ?\n",
    "\n",
    "flight_sample['totalDelay'] = flight_sample.CarrierDelay + flight_sample.WeatherDelay + flight_sample.NASDelay + flight_sample.SecurityDelay + flight_sample.LateAircraftDelay\n",
    "flight_sample.loc[(flight_sample['totalDelay'] - flight_sample['ArrDelay'] == 0 ) & (flight_sample['ArrDelay'] > 0)].shape"
   ],
   "metadata": {
    "collapsed": false,
    "pycharm": {
     "name": "#%%\n"
    }
   }
  },
  {
   "cell_type": "markdown",
   "source": [
    "Yes, ArrDelay is the total of `CarrierDelay`, `WeatherDelay`, `NASDelay`, `SecurityDelay` and `ateAircraftDelay`in a lot cases"
   ],
   "metadata": {
    "collapsed": false,
    "pycharm": {
     "name": "#%% md\n"
    }
   }
  },
  {
   "cell_type": "code",
   "execution_count": null,
   "outputs": [],
   "source": [
    "# When is ArrDelay NOT the total of `Carrier_Delay`, `WeatherDelay`, `NASDelay`, `SecurityDelay` and `LateAirCraftDelay` ?\n",
    "flight_sample.loc[(flight_sample['totalDelay'] - flight_sample['ArrDelay'] != 0 ) & (flight_sample['ArrDelay'] > 0)][:5]"
   ],
   "metadata": {
    "collapsed": false,
    "pycharm": {
     "name": "#%%\n"
    }
   }
  },
  {
   "cell_type": "markdown",
   "source": [
    "When ArrDep contain small numbers, then `Carrier_Delay`, `WeatherDelay`, `NASDelay`, `SecurityDelay` and `LateAirCraftDelay` are 0 or NaN.\n",
    "According to the documentation, a late flight is defined as a flight arriving or departing 15 minutes or more after the scheduled time. Lets investigate this deeper"
   ],
   "metadata": {
    "collapsed": false,
    "pycharm": {
     "name": "#%% md\n"
    }
   }
  },
  {
   "cell_type": "code",
   "execution_count": null,
   "outputs": [],
   "source": [
    "# Where ArrDelay > 15 minutes, are there cases where totalDelay does not add to teh sub-categories of `Carrier_Delay`, `WeatherDelay`, `NASDelay`, `SecurityDelay` and `LateAirCraftDelay` ?\n",
    "flight_sample.loc[(flight_sample['totalDelay'] - flight_sample['ArrDelay'] != 0 ) & (flight_sample['ArrDelay'] > 15)]"
   ],
   "metadata": {
    "collapsed": false,
    "pycharm": {
     "name": "#%%\n"
    }
   }
  },
  {
   "cell_type": "markdown",
   "source": [
    "**Observation:**\n",
    "\n",
    "- Assumption made: `ArrDelay` are sometimes negative, which do not represent a delay but rather an early arrival\n",
    "- `ArrDelay` is always total of `Carrier_Delay`, `WeatherDelay`, `NASDelay`, `SecurityDelay` and `LateAirCraftDelay`, but only when `ArrDelay` is > 15 minutes"
   ],
   "metadata": {
    "collapsed": false,
    "pycharm": {
     "name": "#%% md\n"
    }
   }
  },
  {
   "cell_type": "markdown",
   "source": [
    "## Summary of assessment\n",
    "\n",
    "### Quality issues\n",
    "Do we have all the records that we should? Do we have missing records or not? Are there specific rows, columns, or cells missing?\n",
    "\n",
    "<blockquote>\n",
    "    \n",
    "#### Completeness Issues (e.g. missing data)\n",
    "\n",
    "1) Sub categories of reasons for delays (`Carrier_Delay`, `WeatherDelay`, `NASDelay`, `SecurityDelay`, `LateAirCraftDelay`) contain NaN values, however are not really missing. No delay took place, or delay < 15 minutes\n",
    "\n",
    "#### Validity Issues (incorrect entries, data types)\n",
    "\n",
    "2) Columns Cancelled & Diverted are a boolean fields\n",
    "\n",
    "3) Column `DepTime`, `ArrTime` have max hours beyond 24:00 (e.g. 24:44)\n",
    "4) AirTime have unexpected negative values. These errors are caused by extremely large TaxiIn values of 24 days. It is unlikely that the aircraft waited 24 days at the airport and are clear outliers\n",
    "5) Time columns DepTime, CRSDepTime, ArrTime, CRSArrTime, with format hhmm, was converted to datatype float\n",
    "6) ArrDelay and DepDelay have negative values, which represent early departures or arrivals and not delays\n",
    "7) Reason for delay features (Carrier_Delay, WeatherDelay, NASDelay, SecurityDelay and LateAirCraftDelay) can be converted from float to integer to save memory space\n",
    "    \n",
    "</blockquote>"
   ],
   "metadata": {
    "collapsed": false,
    "pycharm": {
     "name": "#%% md\n"
    }
   }
  },
  {
   "cell_type": "markdown",
   "source": [
    "### Tidiness issues\n",
    "\n",
    "<blockquote>\n",
    "    \n",
    "8) Column headings start with a capital letter\n",
    "    \n",
    "</blockquote>"
   ],
   "metadata": {
    "collapsed": false,
    "pycharm": {
     "name": "#%% md\n"
    }
   }
  },
  {
   "cell_type": "markdown",
   "source": [
    "<span style=\"color:blue; font-size:25px; line-height:30px; font-family: Calibri;\">Step 3: Cleaning</span>"
   ],
   "metadata": {
    "collapsed": false,
    "pycharm": {
     "name": "#%% md\n"
    }
   }
  },
  {
   "cell_type": "code",
   "execution_count": null,
   "outputs": [],
   "source": [
    "# Make a copy of the original data\n",
    "flight_clean = flights.copy() "
   ],
   "metadata": {
    "collapsed": false,
    "pycharm": {
     "name": "#%%\n"
    }
   }
  },
  {
   "cell_type": "code",
   "execution_count": null,
   "outputs": [],
   "source": [
    "# clear the garbage to free memory\n",
    "gc.collect()"
   ],
   "metadata": {
    "collapsed": false,
    "pycharm": {
     "name": "#%%\n"
    }
   }
  },
  {
   "cell_type": "markdown",
   "source": [
    "#### Issue #1: Sub categories of reasons for delays (Carrier_Delay, WeatherDelay, NASDelay, SecurityDelay, LateAirCraftDelay) contain NaN values, however are not really missing. No delay took place, or delay < 15 minutes."
   ],
   "metadata": {
    "collapsed": false,
    "pycharm": {
     "name": "#%% md\n"
    }
   }
  },
  {
   "cell_type": "markdown",
   "source": [
    "**Define**: Fill missing values with 0 for columns Carrier_Delay, WeatherDelay, NASDelay, SecurityDelay, LateAirCraftDelay"
   ],
   "metadata": {
    "collapsed": false,
    "pycharm": {
     "name": "#%% md\n"
    }
   }
  },
  {
   "cell_type": "markdown",
   "source": [
    "##### Code"
   ],
   "metadata": {
    "collapsed": false,
    "pycharm": {
     "name": "#%% md\n"
    }
   }
  },
  {
   "cell_type": "code",
   "execution_count": null,
   "outputs": [],
   "source": [
    "cols_delay_reasons = ['CarrierDelay', 'WeatherDelay', 'NASDelay', 'SecurityDelay', 'LateAircraftDelay']"
   ],
   "metadata": {
    "collapsed": false,
    "pycharm": {
     "name": "#%%\n"
    }
   }
  },
  {
   "cell_type": "code",
   "execution_count": null,
   "outputs": [],
   "source": [
    "flight_clean[cols_delay_reasons] = flight_clean[cols_delay_reasons].fillna(0, axis=1)"
   ],
   "metadata": {
    "collapsed": false,
    "pycharm": {
     "name": "#%%\n"
    }
   }
  },
  {
   "cell_type": "markdown",
   "source": [
    "##### Test"
   ],
   "metadata": {
    "collapsed": false,
    "pycharm": {
     "name": "#%% md\n"
    }
   }
  },
  {
   "cell_type": "code",
   "execution_count": null,
   "outputs": [],
   "source": [
    "# sub categories for reasons of delay should have no more missing values\n",
    "assert (flight_clean[cols_delay_reasons].isna().sum().sum()) == 0"
   ],
   "metadata": {
    "collapsed": false,
    "pycharm": {
     "name": "#%%\n"
    }
   }
  },
  {
   "cell_type": "markdown",
   "source": [
    "#### Issue #2: Columns Cancelled & Diverted are a boolean fields"
   ],
   "metadata": {
    "collapsed": false,
    "pycharm": {
     "name": "#%% md\n"
    }
   }
  },
  {
   "cell_type": "markdown",
   "source": [
    "**Define**: Convert columns `Cancelled` and `Diverted` to boolen using method astype()"
   ],
   "metadata": {
    "collapsed": false,
    "pycharm": {
     "name": "#%% md\n"
    }
   }
  },
  {
   "cell_type": "markdown",
   "source": [
    "##### Code"
   ],
   "metadata": {
    "collapsed": false,
    "pycharm": {
     "name": "#%% md\n"
    }
   }
  },
  {
   "cell_type": "code",
   "execution_count": null,
   "outputs": [],
   "source": [
    "flight_clean['Cancelled'] = flight_clean['Cancelled'].astype('bool')\n",
    "flight_clean['Diverted'] = flight_clean['Diverted'].astype('bool')"
   ],
   "metadata": {
    "collapsed": false,
    "pycharm": {
     "name": "#%%\n"
    }
   }
  },
  {
   "cell_type": "markdown",
   "source": [
    "##### Test"
   ],
   "metadata": {
    "collapsed": false,
    "pycharm": {
     "name": "#%% md\n"
    }
   }
  },
  {
   "cell_type": "code",
   "execution_count": null,
   "outputs": [],
   "source": [
    "# fields should be converted to type 'bool'\n",
    "flight_clean[['Cancelled', 'Diverted']].info()"
   ],
   "metadata": {
    "collapsed": false,
    "pycharm": {
     "name": "#%%\n"
    }
   }
  },
  {
   "cell_type": "markdown",
   "source": [
    "#### Issue #3: Column `DepTime`, `ArrTime` have max hours beyond 24:00 (e.g. 24:44)"
   ],
   "metadata": {
    "collapsed": false,
    "pycharm": {
     "name": "#%% md\n"
    }
   }
  },
  {
   "cell_type": "markdown",
   "source": [
    "**Define**: Filter columns where DepTime and ArrTime <= 2400. As time is in local time, and time zone is not supplied, it's not possible to try to correct these problems."
   ],
   "metadata": {
    "collapsed": false,
    "pycharm": {
     "name": "#%% md\n"
    }
   }
  },
  {
   "cell_type": "markdown",
   "source": [
    "##### Code"
   ],
   "metadata": {
    "collapsed": false,
    "pycharm": {
     "name": "#%% md\n"
    }
   }
  },
  {
   "cell_type": "code",
   "execution_count": null,
   "outputs": [],
   "source": [
    "# take a snapshot of records before\n",
    "before = flight_clean.shape[0]"
   ],
   "metadata": {
    "collapsed": false,
    "pycharm": {
     "name": "#%%\n"
    }
   }
  },
  {
   "cell_type": "code",
   "execution_count": null,
   "outputs": [],
   "source": [
    "# get rows to drop where hours are >= 2400\n",
    "rows_to_drop = flight_clean.loc[(flight_clean['DepTime'] >= 2400) | (flight_clean['ArrTime'] >= 2400) | (flight_clean['CRSArrTime'] >= 2400)]\n",
    "\n",
    "flight_clean.drop(index=rows_to_drop.index, inplace=True)"
   ],
   "metadata": {
    "collapsed": false,
    "pycharm": {
     "name": "#%%\n"
    }
   }
  },
  {
   "cell_type": "code",
   "execution_count": null,
   "outputs": [],
   "source": [
    "# How many records did we drop ?\n",
    "print('{} out of {} records were dropped'.format(before - flight_clean.shape[0], flight_clean.shape[0]))"
   ],
   "metadata": {
    "collapsed": false,
    "pycharm": {
     "name": "#%%\n"
    }
   }
  },
  {
   "cell_type": "markdown",
   "source": [
    "##### Test"
   ],
   "metadata": {
    "collapsed": false,
    "pycharm": {
     "name": "#%% md\n"
    }
   }
  },
  {
   "cell_type": "code",
   "execution_count": null,
   "outputs": [],
   "source": [
    "# make sure we have not more records with incorrect time > 24:00\n",
    "assert len(flight_clean.loc[(flight_clean['DepTime'] > 2400) | (flight_clean['ArrTime'] > 2400)]) == 0"
   ],
   "metadata": {
    "collapsed": false,
    "pycharm": {
     "name": "#%%\n"
    }
   }
  },
  {
   "cell_type": "markdown",
   "source": [
    "#### Issue #4: AirTime have unexpected negative values"
   ],
   "metadata": {
    "collapsed": false,
    "pycharm": {
     "name": "#%% md\n"
    }
   }
  },
  {
   "cell_type": "markdown",
   "source": [
    "**Define**: Filter records where 'AirTime' > 0. This should get rid of negative values in column 'ActualElapsedTime ' as well"
   ],
   "metadata": {
    "collapsed": false,
    "pycharm": {
     "name": "#%% md\n"
    }
   }
  },
  {
   "cell_type": "markdown",
   "source": [
    "##### Code"
   ],
   "metadata": {
    "collapsed": false,
    "pycharm": {
     "name": "#%% md\n"
    }
   }
  },
  {
   "cell_type": "code",
   "execution_count": null,
   "outputs": [],
   "source": [
    "# take a snapshot of records before\n",
    "before = flight_clean.shape[0]"
   ],
   "metadata": {
    "collapsed": false,
    "pycharm": {
     "name": "#%%\n"
    }
   }
  },
  {
   "cell_type": "code",
   "execution_count": null,
   "outputs": [],
   "source": [
    "# get rows to drop\n",
    "rows_to_drop = flight_clean.loc[flight_clean['AirTime'] < 0]\n",
    "rows_to_drop.shape"
   ],
   "metadata": {
    "collapsed": false,
    "pycharm": {
     "name": "#%%\n"
    }
   }
  },
  {
   "cell_type": "code",
   "execution_count": null,
   "outputs": [],
   "source": [
    "flight_clean.drop(index=rows_to_drop.index, inplace=True)"
   ],
   "metadata": {
    "collapsed": false,
    "pycharm": {
     "name": "#%%\n"
    }
   }
  },
  {
   "cell_type": "markdown",
   "source": [
    "##### Test"
   ],
   "metadata": {
    "collapsed": false,
    "pycharm": {
     "name": "#%% md\n"
    }
   }
  },
  {
   "cell_type": "code",
   "execution_count": null,
   "outputs": [],
   "source": [
    "assert len(flight_clean.loc[flight_clean['AirTime'] < 0]) == 0"
   ],
   "metadata": {
    "collapsed": false,
    "pycharm": {
     "name": "#%%\n"
    }
   }
  },
  {
   "cell_type": "code",
   "execution_count": null,
   "outputs": [],
   "source": [
    "# How many records did we drop ?\n",
    "print('{} out of {} records were dropped'.format(before - flight_clean.shape[0], flight_clean.shape[0]))"
   ],
   "metadata": {
    "collapsed": false,
    "pycharm": {
     "name": "#%%\n"
    }
   }
  },
  {
   "cell_type": "markdown",
   "source": [
    "#### Issue #5: Time columns DepTime, CRSDepTime, ArrTime, CRSArrTime, with format hhmm, was converted to datatype float"
   ],
   "metadata": {
    "collapsed": false,
    "pycharm": {
     "name": "#%% md\n"
    }
   }
  },
  {
   "cell_type": "markdown",
   "source": [
    "**Define**: First converting each column to string and left pad it with leading 0's using astype() and zfill() methods. Convert colums to datetime format using to_datetime()"
   ],
   "metadata": {
    "collapsed": false,
    "pycharm": {
     "name": "#%% md\n"
    }
   }
  },
  {
   "cell_type": "markdown",
   "source": [
    "##### Code"
   ],
   "metadata": {
    "collapsed": false,
    "pycharm": {
     "name": "#%% md\n"
    }
   }
  },
  {
   "cell_type": "code",
   "execution_count": null,
   "outputs": [],
   "source": [
    "# before conversion, save snapshot of first records\n",
    "index = flight_clean.head(3).index\n",
    "flight_clean.loc[index]"
   ],
   "metadata": {
    "collapsed": false,
    "pycharm": {
     "name": "#%%\n"
    }
   }
  },
  {
   "cell_type": "code",
   "execution_count": null,
   "outputs": [],
   "source": [
    "# Take a snapshot of missing data in ArrTime to make sure it still exist after conversion\n",
    "missing_before = flight_clean['ArrTime'].isna().sum()"
   ],
   "metadata": {
    "collapsed": false,
    "pycharm": {
     "name": "#%%\n"
    }
   }
  },
  {
   "cell_type": "code",
   "execution_count": null,
   "outputs": [],
   "source": [
    "# def convert_time2(col):\n",
    "\n",
    "#     # Convert column to string, remove any float decimals, pad with leading zero's and correct missing fields converstions\n",
    "#     col =  col.astype('str').str.replace('.0', '', regex=False).str.zfill(4).replace('0nan', None)\n",
    "    \n",
    "# #     col = col.apply(lambda x: \"{}{}\".format(str(x), '00'))    \n",
    "    \n",
    "#     # Some minute fields are incorrect, covert minute = 60 to minute = 59\n",
    "#     col  = np.where(col.str[-2:] == '60',  col .str[:2] + '59', col)  \n",
    "    \n",
    "# #     col = ':00'.join(col)\n",
    "    \n",
    "\n",
    "#     # convert column to datetime\n",
    "# #     col = pd.to_datetime(col , format='%H%M') \n",
    "# #     col = pd.to_timedelta(col, errors='raise')\n",
    "#     col = pd.to_datetime(col, format='%H%M') - pd.to_datetime(col, format='%H%M').normalize()\n",
    "    \n",
    "#     return col"
   ],
   "metadata": {
    "collapsed": false,
    "pycharm": {
     "name": "#%%\n"
    }
   }
  },
  {
   "cell_type": "code",
   "execution_count": null,
   "outputs": [],
   "source": [
    "# flight_clean['ArrTime'] = convert_time2(flight_clean['ArrTime'])"
   ],
   "metadata": {
    "collapsed": false,
    "pycharm": {
     "name": "#%%\n"
    }
   }
  },
  {
   "cell_type": "code",
   "execution_count": null,
   "outputs": [],
   "source": [
    "# flight_clean['ArrTime'] = convert_time(flight_clean['ArrTime']) \n",
    "# flight_clean['CRSDepTime'] = convert_time(flight_clean['CRSDepTime']) \n",
    "# flight_clean['CRSArrTime'] = convert_time(flight_clean['CRSArrTime']) \n",
    "# flight_clean['DepTime'] = convert_time(flight_clean['DepTime']) "
   ],
   "metadata": {
    "collapsed": false,
    "pycharm": {
     "name": "#%%\n"
    }
   }
  },
  {
   "cell_type": "code",
   "execution_count": null,
   "outputs": [],
   "source": [
    "# change dtype to datetime\n",
    "flight_clean['DepTime'] = (pd.to_timedelta(flight_clean['DepTime'] // 100, unit='h') +\\\n",
    "                   pd.to_timedelta(flight_clean['DepTime'] % 100, unit='m'))\n",
    "\n",
    "flight_clean['CRSDepTime'] = (pd.to_timedelta(flight_clean['CRSDepTime'] // 100, unit='h') +\\\n",
    "                   pd.to_timedelta(flight_clean['CRSDepTime'] % 100, unit='m'))\n",
    "\n",
    "flight_clean['ArrTime'] = (pd.to_timedelta(flight_clean['ArrTime'] // 100, unit='h') +\\\n",
    "                   pd.to_timedelta(flight_clean['ArrTime'] % 100, unit='m'))\n",
    "\n",
    "flight_clean['CRSArrTime'] = (pd.to_timedelta(flight_clean['CRSArrTime'] // 100, unit='h') +\\\n",
    "                   pd.to_timedelta(flight_clean['CRSArrTime'] % 100, unit='m'))"
   ],
   "metadata": {
    "collapsed": false,
    "pycharm": {
     "name": "#%%\n"
    }
   }
  },
  {
   "cell_type": "markdown",
   "source": [
    "##### Test"
   ],
   "metadata": {
    "collapsed": false,
    "pycharm": {
     "name": "#%% md\n"
    }
   }
  },
  {
   "cell_type": "code",
   "execution_count": null,
   "outputs": [],
   "source": [
    "flight_clean.loc[index]"
   ],
   "metadata": {
    "collapsed": false,
    "pycharm": {
     "name": "#%%\n"
    }
   }
  },
  {
   "cell_type": "code",
   "execution_count": null,
   "outputs": [],
   "source": [
    "# make sure missing before and missing after in ArrTime is still the same\n",
    "missing_after = flight_clean['ArrTime'].isna().sum()\n",
    "assert missing_before == missing_after"
   ],
   "metadata": {
    "collapsed": false,
    "pycharm": {
     "name": "#%%\n"
    }
   }
  },
  {
   "cell_type": "code",
   "execution_count": null,
   "outputs": [],
   "source": [
    "# make sure time colums are now type datetime\n",
    "flight_clean.info()"
   ],
   "metadata": {
    "collapsed": false,
    "pycharm": {
     "name": "#%%\n"
    }
   }
  },
  {
   "cell_type": "markdown",
   "source": [
    "#### Issue #6: ArrDelay and DepDelay have negative values, which represent early departures or arrivals and not delays"
   ],
   "metadata": {
    "collapsed": false,
    "pycharm": {
     "name": "#%% md\n"
    }
   }
  },
  {
   "cell_type": "markdown",
   "source": [
    "**Define**: Reset negative delays to 0"
   ],
   "metadata": {
    "collapsed": false,
    "pycharm": {
     "name": "#%% md\n"
    }
   }
  },
  {
   "cell_type": "markdown",
   "source": [
    "##### Code"
   ],
   "metadata": {
    "collapsed": false,
    "pycharm": {
     "name": "#%% md\n"
    }
   }
  },
  {
   "cell_type": "code",
   "execution_count": null,
   "outputs": [],
   "source": [
    "gc.collect()"
   ],
   "metadata": {
    "collapsed": false,
    "pycharm": {
     "name": "#%%\n"
    }
   }
  },
  {
   "cell_type": "code",
   "execution_count": null,
   "outputs": [],
   "source": [
    "flight_clean['ArrDelay'] = np.where(flight_clean['ArrDelay'] < 0, 0, flight_clean['ArrDelay'])\n",
    "flight_clean['DepDelay'] = np.where(flight_clean['DepDelay'] < 0, 0, flight_clean['DepDelay'])"
   ],
   "metadata": {
    "collapsed": false,
    "pycharm": {
     "name": "#%%\n"
    }
   }
  },
  {
   "cell_type": "markdown",
   "source": [
    "##### Test"
   ],
   "metadata": {
    "collapsed": false,
    "pycharm": {
     "name": "#%% md\n"
    }
   }
  },
  {
   "cell_type": "code",
   "execution_count": null,
   "outputs": [],
   "source": [
    "assert len(flight_clean.query('ArrDelay < 0')) == 0"
   ],
   "metadata": {
    "collapsed": false,
    "pycharm": {
     "name": "#%%\n"
    }
   }
  },
  {
   "cell_type": "code",
   "execution_count": null,
   "outputs": [],
   "source": [
    "assert len(flight_clean.query('DepDelay < 0')) == 0"
   ],
   "metadata": {
    "collapsed": false,
    "pycharm": {
     "name": "#%%\n"
    }
   }
  },
  {
   "cell_type": "code",
   "execution_count": null,
   "outputs": [],
   "source": [],
   "metadata": {
    "collapsed": false,
    "pycharm": {
     "name": "#%%\n"
    }
   }
  },
  {
   "cell_type": "markdown",
   "source": [
    "#### Issue #7: Reason for delay features (CarrierDelay, WeatherDelay, NASDelay, SecurityDelay and LateAirCraftDelay) can be converted from float to integer to save memory space"
   ],
   "metadata": {
    "collapsed": false,
    "pycharm": {
     "name": "#%% md\n"
    }
   }
  },
  {
   "cell_type": "markdown",
   "source": [
    "**Define**: Convert columns Carrier_Delay, WeatherDelay, NASDelay, SecurityDelay and LateAircraftDelay to int16 using method astype()"
   ],
   "metadata": {
    "collapsed": false,
    "pycharm": {
     "name": "#%% md\n"
    }
   }
  },
  {
   "cell_type": "markdown",
   "source": [
    "##### Code"
   ],
   "metadata": {
    "collapsed": false,
    "pycharm": {
     "name": "#%% md\n"
    }
   }
  },
  {
   "cell_type": "code",
   "execution_count": null,
   "outputs": [],
   "source": [
    "# get all columns of type float\n",
    "# float_columns = list(flight_clean.select_dtypes(include=['float16']).columns)\n",
    "# float_columns"
   ],
   "metadata": {
    "collapsed": false,
    "pycharm": {
     "name": "#%%\n"
    }
   }
  },
  {
   "cell_type": "code",
   "execution_count": null,
   "outputs": [],
   "source": [
    "# convert all float columns to Int16, as some of the columns contains missing values thus needs to be nullable\n",
    "# flight_clean[float_columns] = flight_clean[float_columns].astype('Int16')"
   ],
   "metadata": {
    "collapsed": false,
    "pycharm": {
     "name": "#%%\n"
    }
   }
  },
  {
   "cell_type": "markdown",
   "source": [
    "##### Test"
   ],
   "metadata": {
    "collapsed": false,
    "pycharm": {
     "name": "#%% md\n"
    }
   }
  },
  {
   "cell_type": "code",
   "execution_count": null,
   "outputs": [],
   "source": [
    "# fields should be converted to type 'Int16'\n",
    "# flight_clean[float_columns].info()"
   ],
   "metadata": {
    "collapsed": false,
    "pycharm": {
     "name": "#%%\n"
    }
   }
  },
  {
   "cell_type": "markdown",
   "source": [
    "#### Issue #8: Column headings start with a capital letter"
   ],
   "metadata": {
    "collapsed": false,
    "pycharm": {
     "name": "#%% md\n"
    }
   }
  },
  {
   "cell_type": "markdown",
   "source": [
    "**Define**: Change column headings to start with lowercase, unless it start with an abbreviation"
   ],
   "metadata": {
    "collapsed": false,
    "pycharm": {
     "name": "#%% md\n"
    }
   }
  },
  {
   "cell_type": "markdown",
   "source": [
    "##### Code"
   ],
   "metadata": {
    "collapsed": false,
    "pycharm": {
     "name": "#%% md\n"
    }
   }
  },
  {
   "cell_type": "code",
   "execution_count": null,
   "outputs": [],
   "source": [
    "# only change columns where 2nd character is lowercase and not an abbreviation in capital letters\n",
    "cols_to_change = [i for i in flight_clean.columns if i[2].islower()] "
   ],
   "metadata": {
    "collapsed": false,
    "pycharm": {
     "name": "#%%\n"
    }
   }
  },
  {
   "cell_type": "code",
   "execution_count": null,
   "outputs": [],
   "source": [
    "new_colnames = []\n",
    "\n",
    "for col in flight_clean.columns:\n",
    "    if col[2].islower():\n",
    "        col = col[0].lower()+col[1:]\n",
    "    else:\n",
    "        col = col\n",
    "        \n",
    "    new_colnames.append(col)"
   ],
   "metadata": {
    "collapsed": false,
    "pycharm": {
     "name": "#%%\n"
    }
   }
  },
  {
   "cell_type": "code",
   "execution_count": null,
   "outputs": [],
   "source": [
    "flight_clean.columns = new_colnames"
   ],
   "metadata": {
    "collapsed": false,
    "pycharm": {
     "name": "#%%\n"
    }
   }
  },
  {
   "cell_type": "markdown",
   "source": [
    "##### Test"
   ],
   "metadata": {
    "collapsed": false,
    "pycharm": {
     "name": "#%% md\n"
    }
   }
  },
  {
   "cell_type": "code",
   "execution_count": null,
   "outputs": [],
   "source": [
    "flight_clean.columns"
   ],
   "metadata": {
    "collapsed": false,
    "pycharm": {
     "name": "#%%\n"
    }
   }
  },
  {
   "cell_type": "markdown",
   "source": [
    "<span style=\"color:blue; font-size:25px; line-height:30px; font-family: Calibri;\">Step 4: Save cleaned data</span>"
   ],
   "metadata": {
    "collapsed": false,
    "pycharm": {
     "name": "#%% md\n"
    }
   }
  },
  {
   "cell_type": "code",
   "execution_count": null,
   "outputs": [],
   "source": [
    "flight_clean.shape"
   ],
   "metadata": {
    "collapsed": false,
    "pycharm": {
     "name": "#%%\n"
    }
   }
  },
  {
   "cell_type": "code",
   "execution_count": null,
   "outputs": [],
   "source": [
    "31254220 - 31218803"
   ],
   "metadata": {
    "collapsed": false,
    "pycharm": {
     "name": "#%%\n"
    }
   }
  },
  {
   "cell_type": "code",
   "execution_count": null,
   "outputs": [],
   "source": [
    "# final look at data types\n",
    "flight_clean.info()"
   ],
   "metadata": {
    "collapsed": false,
    "pycharm": {
     "name": "#%%\n"
    }
   }
  },
  {
   "cell_type": "code",
   "execution_count": null,
   "outputs": [],
   "source": [
    "# save the consolidated cleaned file as pickle file to preserve the datatype corrections\n",
    "flight_clean.to_pickle(FILE_NAME_CLEAN)"
   ],
   "metadata": {
    "collapsed": false,
    "pycharm": {
     "name": "#%%\n"
    }
   }
  },
  {
   "cell_type": "markdown",
   "source": [
    "### What is the structure of your dataset?\n",
    "\n",
    "> The cleaned dataset have 31218803 rows and 29 columns\n",
    "\n",
    "35417 records was dropped due to incorrect time formats and large negative AirTime caused by large taxiIn values\n",
    "\n",
    "### What is/are the main feature(s) of interest in your dataset?\n",
    "\n",
    "> This analysis will concentrate to discover the reasons for delays or cancellations\n",
    "\n",
    "For delays, the target column to be predicted would be ArrDelay, as this would summarize the total delay both of departure and arrival\n",
    "\n",
    "For cancellations and diversions, the target columns would be cancelled and diverted\n",
    "\n",
    "### What features in the dataset do you think will help support your investigation into your feature(s) of interest?\n",
    "\n",
    "Correlation between the following features could be investigated to determine which predict the target variables the best\n",
    "- Departure and arrival destinations\n",
    "- Carriers\n",
    "- Seasonal trends (e.g. winter vs summer)\n",
    "- Days of the week\n",
    "\n",
    "\n",
    "Questions to answer:\n",
    "- When is the best time of day/day of week/time of year to fly to minimise delays?\n",
    "- Does certain destigations/carriers cause the delays\n",
    "\n",
    "- Can you detect cascading failures as delays in one airport create delays in others? Are there critical links in the system?\n",
    "\n",
    "- How does the number of people flying between different locations change over time?\n",
    "- How well does weather predict plane delays?\n",
    "\n",
    "- Do older planes suffer more delays?"
   ],
   "metadata": {
    "collapsed": false,
    "pycharm": {
     "name": "#%% md\n"
    }
   }
  },
  {
   "cell_type": "markdown",
   "metadata": {
    "pycharm": {
     "name": "#%% md\n"
    }
   },
   "source": [
    "### What is the structure of your dataset?\n",
    "\n",
    "> The cleaned dataset have 31218803 rows and 29 columns\n",
    "\n",
    "35417 records was dropped due to incorrect time formats and large negative AirTime caused by large taxiIn values\n",
    "\n",
    "### What is/are the main feature(s) of interest in your dataset?\n",
    "\n",
    "> This analysis will concentrate to discover the reasons for delays or cancellations\n",
    "\n",
    "For delays, the target column to be predicted would be ArrDelay, as this would summarize the total delay both of departure and arrival\n",
    "\n",
    "For cancellations and diversions, the target columns would be cancelled and diverted\n",
    "\n",
    "### What features in the dataset do you think will help support your investigation into your feature(s) of interest?\n",
    "\n",
    "Correlation between the following features could be investigated to determine which predict the target variables the best\n",
    "- Departure and arrival destinations\n",
    "- Carriers\n",
    "- Seasonal trends (e.g. winter vs summer)\n",
    "- Days of the week\n",
    "\n",
    "\n",
    "Questions to answer:\n",
    "- When is the best time of day/day of week/time of year to fly to minimise delays?\n",
    "- Does certain destigations/carriers cause the delays\n",
    "\n",
    "- Can you detect cascading failures as delays in one airport create delays in others? Are there critical links in the system?\n",
    "\n",
    "- How does the number of people flying between different locations change over time?\n",
    "- How well does weather predict plane delays?\n",
    "\n",
    "- Do older planes suffer more delays?"
   ]
  },
  {
   "cell_type": "code",
   "execution_count": null,
   "metadata": {},
   "outputs": [],
   "source": []
  }
 ],
 "metadata": {
  "kernelspec": {
   "display_name": "Python [conda env:airplanes] *",
   "language": "python",
   "name": "conda-env-airplanes-py"
  },
  "language_info": {
   "codemirror_mode": {
    "name": "ipython",
    "version": 3
   },
   "file_extension": ".py",
   "mimetype": "text/x-python",
   "name": "python",
   "nbconvert_exporter": "python",
   "pygments_lexer": "ipython3",
   "version": "3.9.16"
  }
 },
 "nbformat": 4,
 "nbformat_minor": 2
}