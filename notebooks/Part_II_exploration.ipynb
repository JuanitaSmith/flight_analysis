{
 "cells": [
  {
   "cell_type": "markdown",
   "metadata": {
    "pycharm": {
     "name": "#%% md\n"
    }
   },
   "source": [
    "# Part II - Airline on-time performance - Exploration\n",
    "## by Juanita Smith\n",
    "\n",
    "## Introduction\n",
    "Have you ever been stuck in an airport because your flight was delayed or cancelled and wondered if you could have predicted it if you'd had more data? This is our chance to find out.\n",
    "\n",
    "This analysis will be focused on predicting flight delays or cancellations.\n",
    "\n",
    "> This dataset reports flights in the United States, including carriers, arrival and departure delays, and reasons for delays, from 1987 to 2008.\n",
    "> - See more information from the data expo challenge in 2009 [here](https://community.amstat.org/jointscsg-section/dataexpo/dataexpo2009).\n",
    "> - See a full description of the features [here](https://www.transtats.bts.gov/DatabaseInfo.asp?QO_VQ=EFD&Yv0x=D.)\n",
    "> - Data can be downloaded from [here](https://dataverse.harvard.edu/dataset.xhtml?persistentId=doi:10.7910/DVN/HG7NV7).\n",
    "\n",
    "Dictionary:\n",
    "1) Year 1987-2008 \n",
    "2) Month 1-12 \n",
    "3) DayofMonth 1-31 \n",
    "4) DayOfWeek 1 (Monday) - 7 (Sunday) \n",
    "5) DepTime actual departure time (local, hhmm) \n",
    "6) CRSDepTime scheduled departure time (local, hhmm) \n",
    "7) ArrTime actual arrival time (local, hhmm) \n",
    "8) CRSArrTime scheduled arrival time (local, hhmm) \n",
    "9) UniqueCarrier unique carrier code \n",
    "10) FlightNum flight number \n",
    "11) TailNum plane tail number \n",
    "12) ActualElapsedTime in minutes \n",
    "13) CRSElapsedTime in minutes \n",
    "14) AirTime in minutes \n",
    "15) ArrDelay arrival delay, in minutes \n",
    "16) DepDelay departure delay, in minutes \n",
    "17) Origin origin IATA airport code \n",
    "18) Destination IATA airport code \n",
    "19) Distance in miles \n",
    "20) TaxiIn - The time elapsed between wheels down and arrival at the destination airport gate in minutes\n",
    "21) TaxiOut - The time elapsed between departure from the origin airport gate and wheels off in minutes\n",
    "22) Cancelled was the flight cancelled? \n",
    "23) CancellationCode reason for cancellation (A = carrier, B = weather, C = NAS, D = security) \n",
    "24) Diverted 1 = yes, 0 = no \n",
    "25) CarrierDelay in minutes\n",
    "26) WeatherDelay in minutes \n",
    "27) NASDelay in minutes \n",
    "28) SecurityDelay in minutes \n",
    "29) LateAircraftDelay in minutes\n",
    "\n",
    "\n",
    "**Important to note:** According to the documentation, a late flight is defined as a flight arriving or departing 15 minutes or more after the scheduled time.\n",
    "\n",
    ">**Rubric Tip**: Your code should not generate any errors, and should use functions, loops where possible to reduce repetitive code. Prefer to use functions to reuse code statements.\n",
    "\n",
    "> **Rubric Tip**: Document your approach and findings in markdown cells. Use comments and docstrings in code cells to document the code functionality.\n",
    "\n",
    ">**Rubric Tip**: Markup cells should have headers and text that organize your thoughts, findings, and what you plan on investigating next.  \n",
    "\n",
    "\n",
    "\n"
   ]
  },
  {
   "cell_type": "markdown",
   "metadata": {
    "pycharm": {
     "name": "#%% md\n"
    }
   },
   "source": [
    "Important points:\n",
    "\n",
    "- When a flight is cancelled, there are lots of missing values in departure and arrival related fields, as the flight never took off\n",
    "- When a flight is diverted, columns related to departed are captured, whilst colums related to arrival are missing.\n",
    "- A flight is considered delayed if arrival delay (arrDelay) >= 15 minutes\n",
    "- Reasons for delay will only be captured if arrival delay > 15 minutes"
   ]
  },
  {
   "cell_type": "code",
   "execution_count": null,
   "outputs": [],
   "source": [
    "# import all packages\n",
    "import numpy as np\n",
    "import pandas as pd\n",
    "import matplotlib.pyplot as plt\n",
    "import matplotlib.dates as mdates\n",
    "\n",
    "import seaborn as sns\n",
    "import time\n",
    "import glob\n",
    "\n",
    "# clear the garbage to free memory as we are working with huge datasets\n",
    "import gc \n",
    "\n",
    "# import warnings\n",
    "# warnings.filterwarnings(\"ignore\")\n",
    "\n",
    "# Import custom modules\n",
    "from src.utils import reduce_mem_usage, create_folder, change_width\n",
    "\n",
    "# set plots to be embedded inline\n",
    "%matplotlib inline\n",
    "\n",
    "# suppress matplotlib user warnings\n",
    "import warnings\n",
    "warnings.filterwarnings(\"ignore\", category=UserWarning, module=\"matplotlib\")\n",
    "\n",
    "# use high resolution if this project is run on an apple device\n",
    "# %config InlineBackend.figure_format='retina'\n",
    "\n",
    "# Make your Jupyter Notebook wider\n",
    "from IPython.display import display, HTML\n",
    "display(HTML('<style>.container { width:80% !important; }</style>'))\n",
    "\n",
    "# environment settings\n",
    "# display all columns and rows during visual inspection\n",
    "pd.options.display.max_columns = None\n",
    "pd.options.display.max_rows = None\n",
    "\n",
    "\n",
    "# stop scientific notation on graphs\n",
    "#pd.options.display.float_format = '{:.02}'.format\n",
    "\n",
    "\n",
    "from pylab import rcParams\n",
    "from statsmodels.graphics import tsaplots\n",
    "import statsmodels.api as sm"
   ],
   "metadata": {
    "collapsed": false,
    "pycharm": {
     "name": "#%%\n"
    }
   }
  },
  {
   "cell_type": "code",
   "execution_count": null,
   "outputs": [],
   "source": [
    "def set_pub():\n",
    "    rcParams.update({\n",
    "        \"font.weight\": \"ultralight\",  # bold fonts\n",
    "        \"tick.labelsize\": 8,   # large tick labels\n",
    "        \"lines.linewidth\": 1,   # thick lines\n",
    "#         \"lines.color\": \"k\",     # black lines\n",
    "#         \"grid.color\": \"0.5\",    # gray gridlines\n",
    "#         \"grid.linestyle\": \"-\",  # solid gridlines\n",
    "#         \"grid.linewidth\": 0.5,  # thin gridlines\n",
    "        \"savefig.dpi\": 300,     # higher resolution output.\n",
    "    })"
   ],
   "metadata": {
    "collapsed": false,
    "pycharm": {
     "name": "#%%\n"
    }
   }
  },
  {
   "cell_type": "code",
   "execution_count": null,
   "outputs": [],
   "source": [
    "# rcParams.keys()"
   ],
   "metadata": {
    "collapsed": false,
    "pycharm": {
     "name": "#%%\n"
    }
   }
  },
  {
   "cell_type": "code",
   "execution_count": null,
   "outputs": [],
   "source": [
    "sns.set_style(\"whitegrid\")\n",
    "# BASE_COLOR = sns.color_palette(\"BrBG\")[-2]\n",
    "BASE_COLOR = '#196689'\n",
    "BASE_COLOR_ARR = '#6c92ab'\n",
    "# BASE_COLOR_DEP = '#e67f83'\n",
    "\n",
    "BASE_COLOR_DEP = sns.color_palette(\"husl\", 15)[3]\n",
    "\n",
    "# 0 = down arrow, 1 = up arrow for growth and shrink indicators\n",
    "SYMBOLS = [u'\\u25BC', u'\\u25B2'] \n",
    "\n",
    "# default plot size\n",
    "# plt.rcParams['figure.figsize'] = 12,4\n",
    "\n",
    "SMALL_SIZE = 8\n",
    "MEDIUM_SIZE = 10\n",
    "BIGGER_SIZE = 12\n",
    "\n",
    "# fig = plt.figure()\n",
    "# fig.rcParams('suptitle', fontsize=20)\n",
    "\n",
    "plt.rc('font', size=BIGGER_SIZE, weight='ultralight', family='sans-serif')          # controls default text sizes\n",
    "plt.rc('axes', titlesize=BIGGER_SIZE, titlecolor='black', titleweight='bold')     # fontsize of the axes title\n",
    "plt.rc('axes', labelsize=MEDIUM_SIZE, labelcolor='black', labelweight='ultralight')     # fontsize of the x and y labels\n",
    "plt.rc('xtick', labelsize=SMALL_SIZE)    # fontsize of the tick labels\n",
    "plt.rc('ytick', labelsize=SMALL_SIZE)    # fontsize of the tick labels\n",
    "plt.rc('legend', fontsize=SMALL_SIZE)    # legend fontsize\n",
    "plt.rc('figure', titlesize=BIGGER_SIZE, titleweight=\"bold\", figsize=[8,4])  # fontsize of the figure title\n",
    "# plt.rc('axes', labelsize=16, titlesize=16\n",
    "# plt.rcParams['font.family'] = 'Serif'\n",
    "# plt.rc('text')\n",
    "# plt.rcParams['xtick.labelsize']=8\n",
    "\n",
    "# mpl.rcParams['lines.linewidth'] = 2\n",
    "# mpl.rcParams['lines.linestyle'] = '--'\n",
    "\n",
    "# plt.rcParams.update({\n",
    "#     \"font.weight\": \"bold\",\n",
    "#     \"xtick.major.size\": 5,\n",
    "#     \"xtick.major.pad\": 7,\n",
    "#     \"xtick.labelsize\": 15,\n",
    "#     \"grid.color\": \"0.5\",\n",
    "#     \"grid.linestyle\": \"-\",\n",
    "#     \"grid.linewidth\": 5,\n",
    "#     \"lines.linewidth\": 2,\n",
    "#     \"lines.color\": \"g\",\n",
    "# })"
   ],
   "metadata": {
    "collapsed": false,
    "pycharm": {
     "name": "#%%\n"
    }
   }
  },
  {
   "cell_type": "code",
   "execution_count": null,
   "outputs": [],
   "source": [
    "# SMALL_SIZE = 8\n",
    "# MEDIUM_SIZE = 10\n",
    "# BIGGER_SIZE = 14\n",
    "\n",
    "# plt.rc('font', size=BIGGER_SIZE)          # controls default text sizes\n",
    "# plt.rc('axes', titlesize=SMALL_SIZE)     # fontsize of the axes title\n",
    "# plt.rc('axes', labelsize=SMALL_SIZE)     # fontsize of the x and y labels\n",
    "# plt.rc('xtick', labelsize=SMALL_SIZE)    # fontsize of the tick labels\n",
    "# plt.rc('ytick', labelsize=SMALL_SIZE)    # fontsize of the tick labels\n",
    "# plt.rc('legend', fontsize=SMALL_SIZE)    # legend fontsize\n",
    "# plt.rc('figure', titlesize=BIGGER_SIZE)  # fontsize of the figure title\n",
    "\n",
    "# matplotlib.rcParams.update({'font.size': 22})\n",
    "# matplotlib.rc('font', **font)\n",
    "\n",
    "# plt.title(\"Simple plot\", fontdict={'fontweight': 'normal', 'weight': 'normal', 'family': 'sans-serif'})"
   ],
   "metadata": {
    "collapsed": false,
    "pycharm": {
     "name": "#%%\n"
    }
   }
  },
  {
   "cell_type": "code",
   "execution_count": null,
   "outputs": [],
   "source": [
    "FILE_NAME_RAW = '../data/flights_raw.pkl'\n",
    "FILE_NAME_CLEAN = '../data/flights_clean.pkl'"
   ],
   "metadata": {
    "collapsed": false,
    "pycharm": {
     "name": "#%%\n"
    }
   }
  },
  {
   "cell_type": "code",
   "execution_count": null,
   "outputs": [],
   "source": [
    "sns.color_palette()"
   ],
   "metadata": {
    "collapsed": false,
    "pycharm": {
     "name": "#%%\n"
    }
   }
  },
  {
   "cell_type": "code",
   "execution_count": null,
   "outputs": [],
   "source": [
    "sns.color_palette(\"husl\", 15)"
   ],
   "metadata": {
    "collapsed": false,
    "pycharm": {
     "name": "#%%\n"
    }
   }
  },
  {
   "cell_type": "code",
   "execution_count": null,
   "outputs": [],
   "source": [
    "test = sns.color_palette(\"Paired\")\n",
    "test"
   ],
   "metadata": {
    "collapsed": false,
    "pycharm": {
     "name": "#%%\n"
    }
   }
  },
  {
   "cell_type": "code",
   "execution_count": null,
   "outputs": [],
   "source": [
    "sns.color_palette(\"BrBG\")"
   ],
   "metadata": {
    "collapsed": false,
    "pycharm": {
     "name": "#%%\n"
    }
   }
  },
  {
   "cell_type": "code",
   "execution_count": null,
   "outputs": [],
   "source": [
    "sns.color_palette(\"muted\")"
   ],
   "metadata": {
    "collapsed": false,
    "pycharm": {
     "name": "#%%\n"
    }
   }
  },
  {
   "cell_type": "code",
   "execution_count": null,
   "outputs": [],
   "source": [
    "# blue\n",
    "# #93c6e6\n",
    "\n",
    "# matching complimentary\n",
    "# #e6b093"
   ],
   "metadata": {
    "collapsed": false,
    "pycharm": {
     "name": "#%%\n"
    }
   }
  },
  {
   "cell_type": "code",
   "execution_count": null,
   "outputs": [],
   "source": [
    "\n"
   ],
   "metadata": {
    "collapsed": false,
    "pycharm": {
     "name": "#%%\n"
    }
   }
  },
  {
   "cell_type": "markdown",
   "source": [
    "### Dataset Overview"
   ],
   "metadata": {
    "collapsed": false,
    "pycharm": {
     "name": "#%% md\n"
    }
   }
  },
  {
   "cell_type": "code",
   "execution_count": null,
   "outputs": [],
   "source": [
    "# load the cleaned file \n",
    "flights = pd.read_pickle(FILE_NAME_CLEAN)\n",
    "flights.sample(5)"
   ],
   "metadata": {
    "collapsed": false,
    "pycharm": {
     "name": "#%%\n"
    }
   }
  },
  {
   "cell_type": "code",
   "execution_count": null,
   "outputs": [],
   "source": [
    "# make sure datatypes were preserved from cleaning step\n",
    "flights.info(verbose=True, show_counts=True)"
   ],
   "metadata": {
    "collapsed": false,
    "pycharm": {
     "name": "#%%\n"
    }
   }
  },
  {
   "cell_type": "code",
   "execution_count": null,
   "outputs": [],
   "source": [
    "flights.shape"
   ],
   "metadata": {
    "collapsed": false,
    "pycharm": {
     "name": "#%%\n"
    }
   }
  },
  {
   "cell_type": "code",
   "execution_count": null,
   "outputs": [],
   "source": [
    "# get carrier descriptions\n",
    "carriers = pd.read_csv('../data/lookup_tables/carriers.csv', index_col='Code')\n",
    "carriers.head()"
   ],
   "metadata": {
    "collapsed": false,
    "pycharm": {
     "name": "#%%\n"
    }
   }
  },
  {
   "cell_type": "code",
   "execution_count": null,
   "outputs": [],
   "source": [
    "# get airplane data\n",
    "planes = pd.read_csv('../data/lookup_tables/plane-data.csv', index_col='tailnum')\n",
    "planes.tail()"
   ],
   "metadata": {
    "collapsed": false,
    "pycharm": {
     "name": "#%%\n"
    }
   }
  },
  {
   "cell_type": "code",
   "execution_count": null,
   "outputs": [],
   "source": [
    "# get airport descriptions\n",
    "airports = pd.read_csv('../data/lookup_tables/airports.csv', index_col='iata')\n",
    "airports.head()"
   ],
   "metadata": {
    "collapsed": false,
    "pycharm": {
     "name": "#%%\n"
    }
   }
  },
  {
   "cell_type": "markdown",
   "source": [
    "### Feature engineering"
   ],
   "metadata": {
    "collapsed": false,
    "pycharm": {
     "name": "#%% md\n"
    }
   }
  },
  {
   "cell_type": "code",
   "execution_count": null,
   "outputs": [],
   "source": [
    "# create a datetime field for time series analysis\n",
    "flights.rename(columns={'dayofMonth':'day'}, inplace=True)\n",
    "flights['date'] = pd.to_datetime(flights[['year', 'month', 'day']], yearfirst=True, errors='raise')\n",
    "flights[['year', 'month', 'day', 'arrTime', 'date']][:5]"
   ],
   "metadata": {
    "collapsed": false,
    "pycharm": {
     "name": "#%%\n"
    }
   }
  },
  {
   "cell_type": "code",
   "execution_count": null,
   "outputs": [],
   "source": [
    "# build a flight status field to compare cancelled, diverted, ontime and delayed flights\n",
    "flights['flight_status'] = np.where(flights['cancelled'] == True, 'cancelled',\n",
    "                           np.where(flights['diverted'] == True, 'diverted',\n",
    "                           np.where((flights['cancelled'] == False) & (flights['diverted'] == False) & (flights['arrDelay'] >= 15), 'delayed',    \n",
    "                           np.where((flights['cancelled'] == False) & (flights['diverted'] == False) & (flights['arrDelay'] < 15), 'on_time', np.nan))))  \n",
    "\n",
    "flights['flight_status'].value_counts()"
   ],
   "metadata": {
    "collapsed": false,
    "pycharm": {
     "name": "#%%\n"
    }
   }
  },
  {
   "cell_type": "code",
   "execution_count": null,
   "outputs": [],
   "source": [
    "# add new 'lane' feature consisting of both departure and arrival airport\n",
    "flights['lane'] = flights['origin'] + '-' + flights['dest']"
   ],
   "metadata": {
    "collapsed": false,
    "pycharm": {
     "name": "#%%\n"
    }
   }
  },
  {
   "cell_type": "code",
   "execution_count": null,
   "outputs": [],
   "source": [
    "# extract delayed and ontime flights into seperate datasets\n",
    "flight_delays = flights.loc[flights['flight_status'] == 'delayed'].copy()\n",
    "flight_ontime = flights.loc[flights['flight_status'] == 'on_time'].copy()"
   ],
   "metadata": {
    "collapsed": false,
    "pycharm": {
     "name": "#%%\n"
    }
   }
  },
  {
   "cell_type": "code",
   "execution_count": null,
   "outputs": [],
   "source": [
    "# get all columns of type float\n",
    "float_columns = list(flight_delays.select_dtypes(include=['float16']).columns)\n",
    "\n",
    "# convert all float columns to int16, which should now be possible as cancelled and diverted data had a lot of missing values in\n",
    "flight_delays[float_columns] = flight_delays[float_columns].astype('int16')\n",
    "flight_ontime[float_columns] = flight_ontime[float_columns].astype('int16')"
   ],
   "metadata": {
    "collapsed": false,
    "pycharm": {
     "name": "#%%\n"
    }
   }
  },
  {
   "cell_type": "code",
   "execution_count": null,
   "outputs": [],
   "source": [
    "flight_delays.info()"
   ],
   "metadata": {
    "collapsed": false,
    "pycharm": {
     "name": "#%%\n"
    }
   }
  },
  {
   "cell_type": "code",
   "execution_count": null,
   "outputs": [],
   "source": [
    "# take a sample of delays to speed up performance\n",
    "sample = np.random.choice(flight_delays.shape[0], 500000, replace=False)\n",
    "flight_delays_sample = flight_delays.iloc[sample].copy()\n",
    "flight_delays_sample.shape"
   ],
   "metadata": {
    "collapsed": false,
    "pycharm": {
     "name": "#%%\n"
    }
   }
  },
  {
   "cell_type": "code",
   "execution_count": null,
   "outputs": [],
   "source": [
    "# clear the garbage to free memory\n",
    "gc.collect()"
   ],
   "metadata": {
    "collapsed": false,
    "pycharm": {
     "name": "#%%\n"
    }
   }
  },
  {
   "cell_type": "markdown",
   "source": [
    "## Univariate Exploration\n",
    "\n",
    "> In this section, investigate distributions of individual variables. If\n",
    "you see unusual points or outliers, take a deeper look to clean things up\n",
    "and prepare yourself to look at relationships between variables.\n",
    "\n",
    "\n",
    "> **Rubric Tip**: The project (Parts I alone) should have at least 15 visualizations distributed over univariate, bivariate, and multivariate plots to explore many relationships in the data set.  Use reasoning to justify the flow of the exploration.\n",
    "\n",
    "\n",
    "\n",
    ">**Rubric Tip**: Use the \"Question-Visualization-Observations\" framework  throughout the exploration. This framework involves **asking a question from the data, creating a visualization to find answers, and then recording observations after each visualisation.** \n"
   ],
   "metadata": {
    "collapsed": false,
    "pycharm": {
     "name": "#%% md\n"
    }
   }
  },
  {
   "cell_type": "markdown",
   "source": [
    "#### 1. Let's get a first impression of how many flights are ontime, delayed, cancelled or diverted"
   ],
   "metadata": {
    "collapsed": false,
    "pycharm": {
     "name": "#%% md\n"
    }
   }
  },
  {
   "cell_type": "code",
   "execution_count": null,
   "outputs": [],
   "source": [
    "# calculate number of flights per flight status and plot it\n",
    "flight_status_summary = flights['flight_status'].value_counts(normalize=True).sort_values(ascending=False)\n",
    "sns.barplot(x=flight_status_summary.index, y=flight_status_summary, color=BASE_COLOR)\n",
    "plt.ylabel('')\n",
    "plt.xlabel('Flight status')\n",
    "plt.title('Proportions of flight status')\n",
    "\n",
    "locs, labels = plt.xticks()\n",
    "\n",
    "# for each bar, print a % text at the top of each bar\n",
    "for loc, label in zip(locs,labels):\n",
    "    count = flight_status_summary[label.get_text()]\n",
    "    pct_string = '{:0.1f}%'.format(count*100)\n",
    "    plt.text(loc, count+0.01, pct_string, ha='center', color='black', size=8, weight='ultralight')\n",
    "    \n",
    "ticks = np.arange(0, 1, 0.1)\n",
    "labels = ['{:1.0f}%'.format(tick*100) for tick in ticks]\n",
    "plt.yticks(ticks,labels)\n",
    "\n",
    "plt.show()"
   ],
   "metadata": {
    "collapsed": false,
    "pycharm": {
     "name": "#%%\n"
    }
   }
  },
  {
   "cell_type": "markdown",
   "source": [
    ">Around 76% of flights are on time, where as 21% are delayed. Only 2% of flights are cancelled or diverted which is not therefore not the main concern"
   ],
   "metadata": {
    "collapsed": false,
    "pycharm": {
     "name": "#%% md\n"
    }
   }
  },
  {
   "cell_type": "code",
   "execution_count": null,
   "outputs": [],
   "source": [
    "#### 2) Start by looking at the distribution of the main variable of interest to predict delays: `arrDelay`.\n",
    "Compare arrDelay distribution to depDelay distribution for flights that are delayed"
   ],
   "metadata": {
    "collapsed": false,
    "pycharm": {
     "name": "#%%\n"
    }
   }
  },
  {
   "cell_type": "code",
   "execution_count": null,
   "outputs": [],
   "source": [
    "# Take a closer look at distribution\n",
    "# flight_delays[['arrDelay', 'depDelay']].describe([0.25, 0.5, 0.75, 0.85, 0.9, 0.95, 0.99]).round(0)"
   ],
   "metadata": {
    "collapsed": false,
    "pycharm": {
     "name": "#%%\n"
    }
   }
  },
  {
   "cell_type": "code",
   "execution_count": null,
   "outputs": [],
   "source": [
    "plt.figure(figsize=[12,4])\n",
    "\n",
    "xbins = np.arange(0, flight_delays['arrDelay'].max()+15, 15)\n",
    "\n",
    "# plot 1 - distribution of departure delays\n",
    "ax1 = plt.subplot(1, 2, 1)\n",
    "ax1.hist(data=flight_delays, x='depDelay', bins=xbins, color=BASE_COLOR_DEP)\n",
    "\n",
    "plt.xlabel('Departure delays (in minutes)')\n",
    "plt.ylabel('Count')\n",
    "plt.xlim(0, 300)\n",
    "plt.title('Distribution of departure delays')\n",
    "\n",
    "# plot 2 - distribution of arrival delays\n",
    "ax2 = plt.subplot(1, 2, 2, sharey=ax1, sharex=ax1)\n",
    "ax2.hist(data=flight_delays, x='arrDelay', bins=xbins, color=BASE_COLOR_ARR)\n",
    "plt.xlabel('Arrival delays (in minutes)')\n",
    "plt.title('Distribution of arrival delays')\n",
    "plt.ticklabel_format(style='plain', axis='y')\n",
    "\n",
    "plt.tight_layout()\n",
    "plt.show()"
   ],
   "metadata": {
    "collapsed": false,
    "pycharm": {
     "name": "#%%\n"
    }
   }
  },
  {
   "cell_type": "code",
   "execution_count": null,
   "outputs": [],
   "source": [
    "# As the distribution of delays are right skewed, lets plot a log distribution instead\n",
    "\n",
    "plt.figure(figsize=[12,4])\n",
    "log_binsize = 0.1\n",
    "bins= 10 ** np.arange(0, np.log10(flight_delays['arrDelay'].max())+log_binsize, log_binsize)\n",
    "ticks = [1, 3, 10, 30, 100, 300, 1000]\n",
    "labels = ['{}'.format(tick) for tick in ticks]\n",
    "\n",
    "ax2 = plt.subplot(1, 2, 2)\n",
    "plt.hist(data=flight_ontime, x='arrDelay', bins=bins, color=BASE_COLOR_ARR, alpha=0.2)\n",
    "plt.hist(data=flight_delays, x='arrDelay', bins=bins, color=BASE_COLOR_ARR)\n",
    "plt.xscale('log')\n",
    "plt.xticks(ticks, labels)\n",
    "plt.xlabel('Arrival delays (in minutes)')\n",
    "plt.title('Distribution of arrival delays')\n",
    "plt.ticklabel_format(style='plain', axis='y')\n",
    "plt.xlim(1, 300)\n",
    "\n",
    "ax1 = plt.subplot(1, 2, 1, sharex=ax2, sharey=ax2)\n",
    "plt.hist(data=flight_delays, x='depDelay', bins=bins, color=BASE_COLOR_DEP)\n",
    "plt.xticks(ticks, labels)\n",
    "plt.xlabel('Departure delays (in minutes)')\n",
    "plt.title('Distribution of departure delays')\n",
    "plt.ticklabel_format(style='plain', axis='y')\n",
    "plt.xlim(1, 300)\n",
    "\n",
    "plt.tight_layout()"
   ],
   "metadata": {
    "collapsed": false,
    "pycharm": {
     "name": "#%%\n"
    }
   }
  },
  {
   "cell_type": "markdown",
   "source": [
    "Both departure and arrival delays are right skewed. When plotted on a log scale, arrival delays are still right skewed whilst departure delays are more normally distributed.\n",
    "Arrival delays were restricted to >= 15 minutes, which was not the case for departure delays, otherwise departure delays would also be right skewed.\n",
    "\n",
    "Most arrivals are around 20 minutes late. There is a steep decline in delays > 20 minutes."
   ],
   "metadata": {
    "collapsed": false,
    "pycharm": {
     "name": "#%% md\n"
    }
   }
  },
  {
   "cell_type": "markdown",
   "source": [
    "#### 3) What are the main reasons for delays ?"
   ],
   "metadata": {
    "collapsed": false,
    "pycharm": {
     "name": "#%% md\n"
    }
   }
  },
  {
   "cell_type": "code",
   "execution_count": null,
   "outputs": [],
   "source": [
    "plt.figure(figsize=[8,4])\n",
    "means = flight_delays[['carrierDelay','weatherDelay','NASDelay','securityDelay','lateAircraftDelay']].describe().T\n",
    "means = means[['mean']].sort_values(by='mean', ascending=False)\n",
    "sns.barplot(data=means, x=means.index, y='mean', color=BASE_COLOR)\n",
    "plt.title('Distribution for reasons of delay')\n",
    "plt.xlabel('Reasons for delay')\n",
    "# plt.xticks(size=8, weight='ultralight')\n",
    "# plt.yticks(size=8, weight='ultralight')\n",
    "plt.show()"
   ],
   "metadata": {
    "collapsed": false,
    "pycharm": {
     "name": "#%%\n"
    }
   }
  },
  {
   "cell_type": "code",
   "execution_count": null,
   "outputs": [],
   "source": [],
   "metadata": {
    "collapsed": false,
    "pycharm": {
     "name": "#%%\n"
    }
   }
  },
  {
   "cell_type": "code",
   "execution_count": null,
   "metadata": {},
   "outputs": [],
   "source": []
  },
  {
   "cell_type": "code",
   "execution_count": null,
   "metadata": {
    "scrolled": false
   },
   "outputs": [],
   "source": [
    "# fig, ax = plt.subplots(5, 1, figsize=(16, 20))\n",
    "\n",
    "for col in ['carrierDelay','weatherDelay','NASDelay','securityDelay','lateAircraftDelay']:\n",
    "\n",
    "    plt.figsize = (4,2)\n",
    "    xbins = np.arange(0, flight_delays[col].max()+15, 15)\n",
    "\n",
    "#     # plot 1 - distribution of departure delays\n",
    "#     ax1 = plt.subplot(1, 2, 1)\n",
    "    plt.hist(data=flight_delays, x=col, bins=xbins, color=BASE_COLOR_ARR)\n",
    "\n",
    "    plt.xlabel('Departure delays (in minutes)')\n",
    "    plt.ylabel('Count')\n",
    "    plt.xlim(0, 150)\n",
    "    plt.title('Distribution of {}'.format(col))\n",
    "    plt.show()\n",
    "    \n",
    "    \n",
    "#     f, ax = plt.subplots(5, 2, figsize=(16, 20))\n",
    "# f.subplots_adjust(hspace=0.4)\n",
    "\n",
    "# for i, j in enumerate(['CarrierDelay','WeatherDelay','NASDelay','SecurityDelay','LateAircraftDelay']):\n",
    "#     binsize=5"
   ]
  },
  {
   "cell_type": "code",
   "execution_count": null,
   "metadata": {
    "scrolled": true
   },
   "outputs": [],
   "source": [
    "flight_delays.describe()"
   ]
  },
  {
   "cell_type": "markdown",
   "metadata": {
    "pycharm": {
     "name": "#%%\n"
    }
   },
   "source": [
    "#### 4) When is the best time of day/day of week/time of year to fly to minimise delays?"
   ]
  },
  {
   "cell_type": "markdown",
   "metadata": {
    "pycharm": {
     "name": "#%% md\n"
    }
   },
   "source": [
    "Build a time series to view flight and delay patterns at different period intervals to discover possible trends and peaks"
   ]
  },
  {
   "cell_type": "code",
   "execution_count": null,
   "metadata": {
    "scrolled": true
   },
   "outputs": [],
   "source": [
    "# build a timeseries dataset with delays per day, with datatime field as index\n",
    "flight_timeseries_day = flights.groupby('date')['flight_status'].value_counts().unstack()\n",
    "flight_timeseries_day['total_flights'] = flight_timeseries_day.sum(axis=1)\n",
    "flight_timeseries_day['diff_delay'] = flight_timeseries_day['delayed'].diff()\n",
    "flight_timeseries_day['pct_delay'] = flight_timeseries_day['delayed'].pct_change()\n",
    "flight_timeseries_day.head()"
   ]
  },
  {
   "cell_type": "code",
   "execution_count": null,
   "metadata": {
    "scrolled": true
   },
   "outputs": [],
   "source": [
    "flight_timeseries_day.tail()"
   ]
  },
  {
   "cell_type": "markdown",
   "metadata": {},
   "source": [
    "2008 does not contain data for the full year, only Jan - April is available. Drop this year from the data"
   ]
  },
  {
   "cell_type": "code",
   "execution_count": null,
   "metadata": {
    "scrolled": true
   },
   "outputs": [],
   "source": [
    "flight_timeseries_day = flight_timeseries_day.loc[flight_timeseries_day.index.year < 2008]"
   ]
  },
  {
   "cell_type": "markdown",
   "metadata": {
    "pycharm": {
     "name": "#%% md\n"
    }
   },
   "source": [
    "#### Let's start by looking of the volume of flights vs delays per year"
   ]
  },
  {
   "cell_type": "code",
   "execution_count": null,
   "metadata": {
    "scrolled": true
   },
   "outputs": [],
   "source": [
    "freq = 'Y'\n",
    "flight_timeseries_year = flight_timeseries_day.resample(freq).sum()\n",
    "flight_timeseries_year['total_flights'] = flight_timeseries_year.sum(axis=1)\n",
    "flight_timeseries_year['pct_delay'] = flight_timeseries_year['delayed'].pct_change()\n",
    "flight_timeseries_year['pct_all'] = flight_timeseries_year['total_flights'].pct_change()\n",
    "flight_timeseries_year"
   ]
  },
  {
   "cell_type": "code",
   "execution_count": null,
   "metadata": {
    "pycharm": {
     "name": "#%%\n"
    },
    "scrolled": true
   },
   "outputs": [],
   "source": [
    "plt.figure(figsize=[8,6])\n",
    "\n",
    "sns.barplot(data=flight_timeseries_year, x=flight_timeseries_year.index.year, y='total_flights', color='lightgrey', label='All flights')\n",
    "sns.barplot(data=flight_timeseries_year, x=flight_timeseries_year.index.year, y='delayed', color=BASE_COLOR, label='Delayed flights')\n",
    "\n",
    "# for each blue bar, print % delays over total flights year on year \n",
    "locs, labels = plt.xticks()\n",
    "for loc, label in zip(locs,labels):\n",
    "    date = pd.to_datetime(label.get_text()).strftime('%Y')\n",
    "    date = date + '-12-31'\n",
    "    counts = flight_timeseries_year.loc[date]\n",
    "    \n",
    "    # add positive or negative sign\n",
    "    symbol = ''\n",
    "    if pd.isna(counts['pct_delay']):\n",
    "        continue\n",
    "    elif counts['pct_delay'] > 0:\n",
    "        symbol = SYMBOLS[1]\n",
    "    elif counts['pct_delay'] < 0:\n",
    "        symbol = SYMBOLS[0]\n",
    "    \n",
    "    pct_string_delay = '{}{:0.2f}%'.format(symbol, round(counts['pct_delay']*100,2))\n",
    "    pct_string_all = '{}{:0.2f}%'.format(symbol, round(counts['pct_all']*100,2))\n",
    "    plt.text(loc, counts.delayed+100000, pct_string_delay, ha='center', color='black', fontsize=8)\n",
    "    plt.text(loc, counts.total_flights+100000, pct_string_all, ha='center', color='black', fontsize=8)\n",
    "    \n",
    "binsize=1000000\n",
    "yticks = np.arange(0, flight_timeseries_year['total_flights'].max()+binsize, binsize)\n",
    "ylabels = ['{:1.0f}'.format(tick/1000000)+' mil' for tick in yticks]\n",
    "plt.yticks(yticks, ylabels)    \n",
    "\n",
    "plt.legend(bbox_to_anchor=(1, 1), loc='upper left') \n",
    "plt.title('Growth of total flights vs Delays per year')\n",
    "plt.xlabel('Year')\n",
    "plt.ylabel('Number of flights')\n",
    "\n",
    "plt.show()"
   ]
  },
  {
   "cell_type": "markdown",
   "metadata": {
    "pycharm": {
     "name": "#%% md\n"
    }
   },
   "source": [
    "Both the total number of flights and delays increase every year. The growth rate of delays are higher than flight growth."
   ]
  },
  {
   "cell_type": "markdown",
   "metadata": {},
   "source": [
    "#### Can we spot peaks in months ? For example are summer months and xmas causing delays at airports ?"
   ]
  },
  {
   "cell_type": "code",
   "execution_count": null,
   "metadata": {
    "scrolled": true
   },
   "outputs": [],
   "source": [
    "# sns.countplot(data=flights, x='month', color=BASE_COLOR)\n",
    "# sns.countplot(data=flight_delays, x='month', color='grey')\n",
    "\n",
    "# binsize=500000\n",
    "# ticks = np.arange(0, 4000000, binsize)\n",
    "# labels = ['{:1.0f}'.format(tick/1000000)+' mil' for tick in ticks]\n",
    "# plt.yticks(ticks, labels) \n",
    "# plt.title('Total flights per month')\n",
    "# plt.show()"
   ]
  },
  {
   "cell_type": "code",
   "execution_count": null,
   "metadata": {
    "scrolled": true
   },
   "outputs": [],
   "source": [
    "freq = 'M'\n",
    "delay_timeseries_month = flight_timeseries_day.resample(freq).sum()\n",
    "delay_timeseries_month['total_flights'] = delay_timeseries_month.sum(axis=1)\n",
    "delay_timeseries_month['pct_delay'] = delay_timeseries_month['delayed'].pct_change()\n",
    "delay_timeseries_month['pct_all'] = delay_timeseries_month['total_flights'].pct_change()\n",
    "delay_timeseries_month['diff_delay'] = delay_timeseries_month['delayed'].diff()\n",
    "delay_timeseries_month['pct_diff_delay'] = delay_timeseries_month['diff_delay'].pct_change()\n",
    "delay_timeseries_month.head()"
   ]
  },
  {
   "cell_type": "code",
   "execution_count": null,
   "metadata": {
    "scrolled": true
   },
   "outputs": [],
   "source": [
    "plt.figure(figsize=[10,6])\n",
    "\n",
    "sns.barplot(data=delay_timeseries_month, x=delay_timeseries_month.index.month, y='total_flights', color='lightgrey', label='All flights', errorbar=None, errwidth=1)\n",
    "g = sns.barplot(data=delay_timeseries_month, x=delay_timeseries_month.index.month, y='delayed', color=BASE_COLOR, label='Delayed flights', errorbar=None, errwidth=1)\n",
    "\n",
    "# for p in g.patches:\n",
    "#     g.annotate(format(p.get_height(), '.0f'), \n",
    "#                    (p.get_x() + p.get_width() / 2., p.get_height()), \n",
    "#                    ha = 'center', va = 'center', \n",
    "#                    xytext = (0, 2), \n",
    "#                    textcoords = 'offset points')\n",
    "    \n",
    "binsize=100000\n",
    "yticks = np.arange(0, delay_timeseries_month['total_flights'].max()+binsize, binsize)\n",
    "ylabels = ['{:1.0f}'.format(tick/1000)+'k' for tick in yticks]\n",
    "plt.yticks(yticks, ylabels)    \n",
    "\n",
    "plt.legend(bbox_to_anchor=(1, 1), loc='upper left') \n",
    "plt.title('Average total flights vs delays per month')\n",
    "plt.xlabel('Month')\n",
    "plt.ylabel('Number of flights')\n",
    "\n",
    "plt.show()"
   ]
  },
  {
   "cell_type": "markdown",
   "metadata": {},
   "source": [
    "The biggest peaks in delays are in summer months 6-8 and xmas period months 12. Delays decrease in spring/autumn months"
   ]
  },
  {
   "cell_type": "code",
   "execution_count": null,
   "metadata": {
    "scrolled": true
   },
   "outputs": [],
   "source": [
    "plt.figure(figsize=[10,6])\n",
    "\n",
    "sns.barplot(data=flight_timeseries_day, x=flight_timeseries_day.index.dayofweek, y='total_flights', color='lightgrey', label='All flights', errorbar=None, errwidth=1)\n",
    "g = sns.barplot(data=flight_timeseries_day, x=flight_timeseries_day.index.dayofweek, y='delayed', color=BASE_COLOR, label='Delayed flights', errorbar=None, errwidth=1)\n",
    "\n",
    "for p in g.patches:\n",
    "    g.annotate(format(p.get_height(), '.0f'), \n",
    "                   (p.get_x() + p.get_width() / 2., p.get_height()), \n",
    "                   ha = 'center', va = 'center', \n",
    "                   xytext = (0, 2), \n",
    "                   textcoords = 'offset points')\n",
    "\n",
    "plt.legend(bbox_to_anchor=(1, 1), loc='upper left') \n",
    "plt.title('Average total flights vs delays per day of week')\n",
    "plt.xlabel('day of week')\n",
    "plt.ylabel('Number of flights')\n",
    "\n",
    "plt.tight_layout()"
   ]
  },
  {
   "cell_type": "markdown",
   "metadata": {},
   "source": [
    "Most delays happens on Monday, Wednesday and Thursday when there are more flights than on other days. Airports are less busy with less delays on weekends. "
   ]
  },
  {
   "cell_type": "markdown",
   "metadata": {},
   "source": [
    "#### Can we confirm the seasonal patterns for summer and xmas periods in time series plotting?"
   ]
  },
  {
   "cell_type": "code",
   "execution_count": null,
   "metadata": {
    "pycharm": {
     "name": "#%%\n"
    },
    "scrolled": true
   },
   "outputs": [],
   "source": [
    "plt.errorbar(x=delay_timeseries_month.index, y=delay_timeseries_month['delayed'])\n",
    "plt.title('Flights by month')\n",
    "plt.ylabel('Number of flights')\n",
    "plt.show()"
   ]
  },
  {
   "cell_type": "code",
   "execution_count": null,
   "metadata": {
    "pycharm": {
     "name": "#%%\n"
    },
    "scrolled": true
   },
   "outputs": [],
   "source": [
    "plt.errorbar(x=delay_timeseries_month.index, y=delay_timeseries_month['pct_delay'])\n",
    "plt.errorbar(x=delay_timeseries_month.index, y=delay_timeseries_month['pct_all'])\n",
    "plt.title('Flights by day')\n",
    "plt.ylabel('Number of flights')\n",
    "plt.show()\n",
    "\n",
    "# TODO: try scaling techniques to nomarize these numbers for comparison"
   ]
  },
  {
   "cell_type": "code",
   "execution_count": null,
   "metadata": {
    "pycharm": {
     "name": "#%%\n"
    },
    "scrolled": true
   },
   "outputs": [],
   "source": [
    "plt.errorbar(x=delay_timeseries_month.index, y=delay_timeseries_month['diff_delay'])\n",
    "plt.title('Flights by month - difference')\n",
    "plt.ylabel('Number of flights')\n",
    "plt.show()"
   ]
  },
  {
   "cell_type": "code",
   "execution_count": null,
   "metadata": {
    "pycharm": {
     "name": "#%%\n"
    },
    "scrolled": true
   },
   "outputs": [],
   "source": [
    "# Using moving average for rolling 25 years, smooth out yearly volatility and observe the long term trend\n",
    "plt.figure(figsize=[16,8])\n",
    "\n",
    "ticks = pd.date_range(start=delay_timeseries_month.index.min(), end=delay_timeseries_month.index.max(), freq='3M').strftime('%Y-%m')\n",
    "\n",
    "plt.subplot(3,1,1)\n",
    "ma = delay_timeseries_month['pct_delay'].rolling(window=4).mean().dropna()\n",
    "plt.errorbar(x=ma.index, y=ma)\n",
    "plt.ylabel('Nr flights delayed')\n",
    "plt.xlabel('Period')\n",
    "plt.title('4 month moving average trends in flight arrival delays')\n",
    "plt.xticks(ticks,ticks, rotation=90)\n",
    "\n",
    "plt.subplot(3,1,2)\n",
    "ma = delay_timeseries_month['pct_delay'].rolling(window=5).mean().dropna()\n",
    "plt.errorbar(x=ma.index, y=ma)\n",
    "plt.ylabel('Nr flights delayed')\n",
    "plt.xlabel('Year')\n",
    "plt.title('5 month moving average trends in flight arrival delays')\n",
    "plt.xticks(ticks,ticks, rotation=90)\n",
    "\n",
    "plt.subplot(3,1,3)\n",
    "ma = delay_timeseries_month['pct_delay'].rolling(window=6).mean().dropna()\n",
    "ax = plt.errorbar(x=ma.index, y=ma)\n",
    "plt.ylabel('Nr flights delayed')\n",
    "plt.xlabel('Year')\n",
    "plt.title('6 month moving average trends in flight arrival delays')\n",
    "plt.xticks(ticks,ticks, rotation=90)\n",
    "\n",
    "plt.tight_layout()"
   ]
  },
  {
   "cell_type": "code",
   "execution_count": null,
   "metadata": {
    "pycharm": {
     "name": "#%%\n"
    },
    "scrolled": true
   },
   "outputs": [],
   "source": [
    "# Using moving average for rolling 25 years, smooth out yearly volatility and observe the long term trend\n",
    "plt.figure(figsize=[16,8])\n",
    "\n",
    "ticks = pd.date_range(start=delay_timeseries_month.index.min(), end=delay_timeseries_month.index.max(), freq='M').strftime('%Y-%m')\n",
    "\n",
    "plt.subplot(3,1,1)\n",
    "ma = delay_timeseries_month['pct_diff_delay'].rolling(window=2).mean().dropna()\n",
    "plt.errorbar(x=ma.index, y=ma)\n",
    "plt.ylabel('Nr flights delayed')\n",
    "plt.xlabel('Period')\n",
    "plt.title('2 month moving average trends in flight arrival delays')\n",
    "plt.xticks(ticks,ticks, rotation=90)\n",
    "\n",
    "plt.subplot(3,1,2)\n",
    "ma = delay_timeseries_month['pct_diff_delay'].rolling(window=4).mean().dropna()\n",
    "plt.errorbar(x=ma.index, y=ma)\n",
    "plt.ylabel('Nr flights delayed')\n",
    "plt.xlabel('Year')\n",
    "plt.title('4 month moving average trends in flight arrival delays')\n",
    "plt.xticks(ticks,ticks, rotation=90)\n",
    "\n",
    "plt.subplot(3,1,3)\n",
    "ma = delay_timeseries_month['pct_diff_delay'].rolling(window=6).mean().dropna()\n",
    "ax = plt.errorbar(x=ma.index, y=ma)\n",
    "plt.ylabel('Nr flights delayed')\n",
    "plt.xlabel('Year')\n",
    "plt.title('6 month moving average trends in flight arrival delays')\n",
    "plt.xticks(ticks,ticks, rotation=90)\n",
    "\n",
    "plt.tight_layout()"
   ]
  },
  {
   "cell_type": "code",
   "execution_count": null,
   "metadata": {
    "pycharm": {
     "name": "#%%\n"
    },
    "scrolled": true
   },
   "outputs": [],
   "source": [
    "# plotting autocorrelations\n",
    "fig = tsaplots.plot_acf(delay_timeseries_month['delayed'], lags=12, alpha=0.1)\n",
    "plt.show()"
   ]
  },
  {
   "cell_type": "code",
   "execution_count": null,
   "metadata": {
    "pycharm": {
     "name": "#%%\n"
    },
    "scrolled": true
   },
   "outputs": [],
   "source": [
    "# plotting partial autocorrelations\n",
    "fig = tsaplots.plot_pacf(delay_timeseries_month['delayed'], lags=12, alpha=0.1, method = \"ols\")\n",
    "plt.show()"
   ]
  },
  {
   "cell_type": "markdown",
   "metadata": {
    "pycharm": {
     "name": "#%% md\n"
    }
   },
   "source": [
    "Looking at autocorrelations and partial correlations, we pickup a correlation at lag 1, which suggest there might be a pattern with a month ?\n",
    "There is also a strong correlation at lag 4 which suggest a seasonal pattern"
   ]
  },
  {
   "cell_type": "code",
   "execution_count": null,
   "metadata": {
    "pycharm": {
     "name": "#%%\n"
    },
    "scrolled": true
   },
   "outputs": [],
   "source": [
    "rcParams['figure.figsize'] = 14,10\n",
    "delay_timeseries_month.dropna(inplace=True)\n",
    "decomposition = sm.tsa.seasonal_decompose(delay_timeseries_month['delayed'], extrapolate_trend='freq')\n",
    "fig = decomposition.plot()\n",
    "plt.show()"
   ]
  },
  {
   "cell_type": "code",
   "execution_count": null,
   "metadata": {
    "pycharm": {
     "name": "#%%\n"
    },
    "scrolled": true
   },
   "outputs": [],
   "source": [
    "# rcParams['figure.figsize'] = 10,2\n",
    "trend = decomposition.trend\n",
    "ax = trend.plot()"
   ]
  },
  {
   "cell_type": "code",
   "execution_count": null,
   "metadata": {
    "pycharm": {
     "name": "#%%\n"
    },
    "scrolled": true
   },
   "outputs": [],
   "source": [
    "# rcParams['figure.figsize'] = 10,2\n",
    "season = decomposition.seasonal\n",
    "ax = season.plot()"
   ]
  },
  {
   "cell_type": "markdown",
   "metadata": {},
   "source": [
    "**Numerical summary:**\n",
    "\n",
    "When flights increase, delays increase as well, although they grow not at the same rate. Increase in delays are more rapid.\n",
    "There is definite upwards trend in flights and delays year apon year\n",
    "There is a strong seasonal pattern. There are 2 strong peaks, the biggest one around xmas time in December - March, and another one during summer months June - August\n",
    "Mondays, Wednesdays and Thursdays are the busiest times at airports, it is the most quiet over weekends"
   ]
  },
  {
   "cell_type": "markdown",
   "metadata": {},
   "source": [
    "### Categorical analysis"
   ]
  },
  {
   "cell_type": "code",
   "execution_count": null,
   "metadata": {
    "scrolled": true
   },
   "outputs": [],
   "source": [
    "BASE_COLOR_DEP = sns.color_palette('Paired')[0]\n",
    "BASE_COLOR_DEP_LIGHT = sns.color_palette('Paired')[0]\n",
    "BASE_COLOR_ARR = sns.color_palette('Paired')[2]"
   ]
  },
  {
   "cell_type": "code",
   "execution_count": null,
   "metadata": {
    "scrolled": true
   },
   "outputs": [],
   "source": [
    "total_delayed_flights = flight_delays.shape[0]\n",
    "print('Total delayed flights: {}'.format(total_delayed_flights))"
   ]
  },
  {
   "cell_type": "code",
   "execution_count": null,
   "metadata": {
    "scrolled": true
   },
   "outputs": [],
   "source": [
    "flight_delays_enhanced.head()"
   ]
  },
  {
   "cell_type": "markdown",
   "metadata": {},
   "source": [
    "Enrich delays with airport and plane descriptions"
   ]
  },
  {
   "cell_type": "code",
   "execution_count": null,
   "metadata": {
    "scrolled": true
   },
   "outputs": [],
   "source": [
    "# add airport details like city and coordinates\n",
    "flight_delays_enhanced = flight_delays.merge(airports, how='inner', right_on='iata', left_on='origin', suffixes=('_flight', '_origin'))\n",
    "flight_delays_enhanced = flight_delays_enhanced.merge(airports, how='inner', right_on='iata', left_on='dest', suffixes=('_origin', '_dest'))\n",
    "\n",
    "# add plane details like its age and manufacturer\n",
    "flight_delays_enhanced = flight_delays_enhanced.merge(planes, how='inner', right_on='tailnum', left_on='tailNum', suffixes=('_flight', '_plane'))\n",
    "\n",
    "# add carrier description\n",
    "flight_delays_enhanced = flight_delays_enhanced.merge(carriers, how='inner', right_on='Code', left_on='uniqueCarrier', suffixes=('_flight', '_carrier'))\n",
    "flight_delays_enhanced.head()"
   ]
  },
  {
   "cell_type": "markdown",
   "metadata": {},
   "source": [
    "#### Which carriers cause the most delays ?"
   ]
  },
  {
   "cell_type": "markdown",
   "metadata": {},
   "source": [
    "#### Which origin airports cause the most delays ?"
   ]
  },
  {
   "cell_type": "code",
   "execution_count": null,
   "metadata": {
    "scrolled": true
   },
   "outputs": [],
   "source": [
    "def delays_by_cat(df, col, color=BASE_COLOR, theme='Origin airports', topn=30, binsize=100000):\n",
    "\n",
    "    # calculate top category and order\n",
    "    top = df[col].value_counts(ascending=False)\n",
    "    top_order = top.index[:topn]    \n",
    "    \n",
    "    plt.figure(figsize=[14,6])\n",
    "    ax = sns.countplot(data=df, x=col, color=color, order=top_order)\n",
    "    \n",
    "    plt.title('{} with the most delayed flights'.format(theme), weight='bold')\n",
    "    plt.xlabel(theme)\n",
    "    plt.ylabel('Number of delayed flights')\n",
    "\n",
    "#   calculate and print % on the top of each bar\n",
    "    ticks = ax.get_xticks()\n",
    "\n",
    "    new_labels = []\n",
    "    locs, labels = plt.xticks(rotation=90)\n",
    "    for loc, label in zip(locs,labels):\n",
    "        count = top[loc]\n",
    "        perc = '{:0.1f}%'.format((count/top.sum())*100)\n",
    "        # print only the first characters of xlabel descriptions\n",
    "        text = top.index[loc][:20]\n",
    "        new_labels.append(text)\n",
    "        plt.text(loc, count+(0.05*binsize), perc, ha='center', color='black', fontsize=8)\n",
    "              \n",
    "    plt.xticks(ticks, new_labels, rotation=90, fontsize=10, weight='ultralight')\n",
    "\n",
    "    # improve y ticks and labels   \n",
    "    yticks = np.arange(0, top[0]+binsize, binsize)\n",
    "    ylabels = ['{:1.0f}'.format(tick/1000)+'K' for tick in yticks]\n",
    "    plt.yticks(yticks, ylabels)  \n",
    "\n",
    "    plt.show()"
   ]
  },
  {
   "cell_type": "code",
   "execution_count": null,
   "metadata": {
    "scrolled": true
   },
   "outputs": [],
   "source": [
    "delays_by_cat(df=flight_delays_enhanced, col='origin', theme='Origin airports', color=BASE_COLOR_DEP)"
   ]
  },
  {
   "cell_type": "code",
   "execution_count": null,
   "metadata": {
    "scrolled": true
   },
   "outputs": [],
   "source": [
    "delays_by_cat(df=flight_delays_enhanced, col='dest', theme='Destination airports', color=BASE_COLOR_ARR)"
   ]
  },
  {
   "cell_type": "code",
   "execution_count": null,
   "metadata": {
    "scrolled": true
   },
   "outputs": [],
   "source": [
    "delays_by_cat(df=flight_delays_enhanced, col='city_origin', theme='Origin cities', color=BASE_COLOR_DEP)"
   ]
  },
  {
   "cell_type": "code",
   "execution_count": null,
   "metadata": {
    "scrolled": true
   },
   "outputs": [],
   "source": [
    "delays_by_cat(df=flight_delays_enhanced, col='city_dest', theme='Destination Cities', color=BASE_COLOR_ARR)"
   ]
  },
  {
   "cell_type": "code",
   "execution_count": null,
   "metadata": {
    "scrolled": true
   },
   "outputs": [],
   "source": [
    "delays_by_cat(df=flight_delays_enhanced, col='Description', theme='Carriers', color=sns.color_palette(\"Paired\", 20)[4])"
   ]
  },
  {
   "cell_type": "markdown",
   "metadata": {},
   "source": [
    "Airports in large cities cause the most delays. The top origins are also the top destinations causing delays, meaning a delay in the origin is causing a delay in the destination."
   ]
  },
  {
   "cell_type": "markdown",
   "metadata": {},
   "source": [
    "#### Which lanes cause the most delays ?"
   ]
  },
  {
   "cell_type": "code",
   "execution_count": null,
   "metadata": {
    "scrolled": true
   },
   "outputs": [],
   "source": [
    "delays_by_cat(df=flight_delays_enhanced, col='lane', theme='Lanes (origin and destination)', color=BASE_COLOR, binsize=5000)"
   ]
  },
  {
   "cell_type": "markdown",
   "metadata": {},
   "source": [
    "When looking at lane level, the delays seems to be fairly equally distributed, although the top lanes have always one of the big cities as origin or destination"
   ]
  },
  {
   "cell_type": "markdown",
   "metadata": {},
   "source": [
    "#### Which plane characteristics causes the most delays ?"
   ]
  },
  {
   "cell_type": "code",
   "execution_count": null,
   "metadata": {
    "scrolled": true
   },
   "outputs": [],
   "source": [
    "flight_delays_enhanced.head()"
   ]
  },
  {
   "cell_type": "code",
   "execution_count": null,
   "metadata": {
    "scrolled": true
   },
   "outputs": [],
   "source": [
    "col = ['origin', 'type', 'manufacturer', 'year_y', 'engine_type', 'model', 'year_issue']\n",
    "col.sort()\n",
    "\n",
    "flight_sample_enhanced = flight_sample.merge(planes, how='inner', right_on='tailnum', left_on='tailNum')\n",
    "flight_sample_enhanced['year_y'] = flight_sample_enhanced['year_y'].replace('None', None)\n",
    "flight_sample_enhanced['year_issue'] = flight_sample_enhanced['issue_date'].replace('None', None)\n",
    "flight_sample_enhanced['year_issue'] = pd.to_datetime(flight_sample_enhanced['year_issue'], format=\"%m/%d/%Y\").dt.year.astype('str')\n",
    "flight_sample_enhanced['year_issue'] = flight_sample_enhanced['year_issue'].replace('nan', None)\n",
    "\n",
    "for c in col:\n",
    "    \n",
    "    fig, ax = plt.subplots(ncols=1, figsize=(8,4))    \n",
    "    \n",
    "    top = flight_sample_enhanced[c].value_counts(normalize=True, ascending=False)[:20]\n",
    "    top_order = top.index\n",
    "\n",
    "    ax = sns.countplot(x=c, data=flight_sample_enhanced, hue='flight_status', order=top_order, palette='mako', dodge=False)\n",
    "\n",
    "    ax.set_title('Delay vs on-time flights for column {}'.format(c))\n",
    "    \n",
    "    change_width(ax, .25)\n",
    "    \n",
    "    # get labels\n",
    "    tickslabels = ax.get_xticklabels()\n",
    "\n",
    "    new_tickslabels = []\n",
    "    locs, labels = plt.xticks()\n",
    "    for loc, label in zip(locs,labels):\n",
    "        text = label.get_text()\n",
    "        new_tickslabels.append(text[:15])\n",
    "\n",
    "    ax.set_xticklabels(new_tickslabels, rotation=90)\n",
    "\n",
    "    plt.tight_layout()\n",
    "    plt.show()"
   ]
  },
  {
   "cell_type": "code",
   "execution_count": null,
   "metadata": {
    "scrolled": true
   },
   "outputs": [],
   "source": []
  },
  {
   "cell_type": "markdown",
   "metadata": {
    "pycharm": {
     "name": "#%% md\n"
    }
   },
   "source": [
    "### Discuss the distribution(s) of your variable(s) of interest. Were there any unusual points? Did you need to perform any transformations?\n",
    "\n",
    "> Your answer here!\n",
    "\n",
    "### Of the features you investigated, were there any unusual distributions? Did you perform any operations on the data to tidy, adjust, or change the form of the data? If so, why did you do this?\n",
    "\n",
    "> Your answer here!"
   ]
  },
  {
   "cell_type": "code",
   "execution_count": null,
   "metadata": {
    "scrolled": true
   },
   "outputs": [],
   "source": []
  },
  {
   "cell_type": "markdown",
   "metadata": {
    "pycharm": {
     "name": "#%% md\n"
    }
   },
   "source": [
    "## Bivariate Exploration\n",
    "\n",
    "> In this section, investigate relationships between pairs of variables in your\n",
    "data. Make sure the variables that you cover here have been introduced in some\n",
    "fashion in the previous section (univariate exploration)."
   ]
  },
  {
   "cell_type": "markdown",
   "metadata": {},
   "source": [
    "#### 3) What is the difference between departure delay and arrival day ?"
   ]
  },
  {
   "cell_type": "code",
   "execution_count": null,
   "metadata": {
    "scrolled": true
   },
   "outputs": [],
   "source": [
    "sample = np.random.choice(flights.shape[0], 300000, replace=False)\n",
    "flight_sample = flights.iloc[sample].copy()"
   ]
  },
  {
   "cell_type": "code",
   "execution_count": null,
   "metadata": {
    "scrolled": true
   },
   "outputs": [],
   "source": [
    "# plt.scatter(data=flight_delays_sample, x='depDelay', y='arrDelay')\n",
    "plt.figure(figsize=[6,6])\n",
    "sns.regplot(x=flight_sample['depDelay'], y=flight_sample['arrDelay'], fit_reg=True, truncate=True, jitter=0.05, scatter_kws={'alpha':0.01,'s':20, 'lw':0.1, 'edgecolor':'black'}, line_kws={'color': 'orange', 'lw':0.5})\n",
    "plt.xlim(0,100)\n",
    "plt.ylim(0,100)\n",
    "plt.xlabel('Departure delays (in minutes)')\n",
    "plt.ylabel('Arrival delays (in minutes)')\n",
    "plt.show()"
   ]
  },
  {
   "cell_type": "code",
   "execution_count": null,
   "metadata": {
    "pycharm": {
     "name": "#%%\n"
    },
    "scrolled": true
   },
   "outputs": [],
   "source": []
  },
  {
   "cell_type": "markdown",
   "metadata": {
    "pycharm": {
     "name": "#%% md\n"
    }
   },
   "source": [
    "### Talk about some of the relationships you observed in this part of the investigation. How did the feature(s) of interest vary with other features in the dataset?\n",
    "\n",
    "> Your answer here!\n",
    "\n",
    "### Did you observe any interesting relationships between the other features (not the main feature(s) of interest)?\n",
    "\n",
    "> Your answer here!"
   ]
  },
  {
   "cell_type": "markdown",
   "metadata": {
    "pycharm": {
     "name": "#%% md\n"
    }
   },
   "source": [
    "## Multivariate Exploration\n",
    "\n",
    "> Create plots of three or more variables to investigate your data even\n",
    "further. Make sure that your investigations are justified, and follow from\n",
    "your work in the previous sections."
   ]
  },
  {
   "cell_type": "code",
   "execution_count": null,
   "metadata": {
    "pycharm": {
     "name": "#%%\n"
    },
    "scrolled": true
   },
   "outputs": [],
   "source": []
  },
  {
   "cell_type": "markdown",
   "metadata": {
    "pycharm": {
     "name": "#%% md\n"
    }
   },
   "source": [
    "### Talk about some of the relationships you observed in this part of the investigation. Were there features that strengthened each other in terms of looking at your feature(s) of interest?\n",
    "\n",
    "> Your answer here!\n",
    "\n",
    "### Were there any interesting or surprising interactions between features?\n",
    "\n",
    "> Your answer here!"
   ]
  },
  {
   "cell_type": "markdown",
   "metadata": {
    "pycharm": {
     "name": "#%% md\n"
    }
   },
   "source": [
    "## Conclusions\n",
    ">You can write a summary of the main findings and reflect on the steps taken during the data exploration.\n"
   ]
  },
  {
   "cell_type": "markdown",
   "metadata": {
    "pycharm": {
     "name": "#%% md\n"
    }
   },
   "source": [
    "\n",
    "> Remove all Tips mentioned above, before you convert this notebook to PDF/HTML\n",
    "\n",
    "\n",
    "> At the end of your report, make sure that you export the notebook as an\n",
    "html file from the `File > Download as... > HTML or PDF` menu. Make sure you keep\n",
    "track of where the exported file goes, so you can put it in the same folder\n",
    "as this notebook for project submission. Also, make sure you remove all of\n",
    "the quote-formatted guide notes like this one before you finish your report!\n",
    "\n"
   ]
  },
  {
   "cell_type": "markdown",
   "metadata": {
    "pycharm": {
     "name": "#%% md\n"
    }
   },
   "source": [
    "## References\n",
    "- [white text in pie chart](https://www.tutorialspoint.com/how-to-change-autopct-text-color-to-be-white-in-a-pie-chart-in-matplotlib)\n",
    "- [interpretting acf and pacf graphs](https://towardsdatascience.com/interpreting-acf-and-pacf-plots-for-time-series-forecasting-af0d6db4061c)\n",
    "- [formating xaxis date labels](https://stackoverflow.com/questions/56638648/seaborn-barplot-and-formatting-dates-on-x-axis)\n",
    "- [annotate barplot](https://datavizpyr.com/how-to-annotate-bars-in-barplot-with-matplotlib-in-python/)"
   ]
  },
  {
   "cell_type": "code",
   "execution_count": null,
   "metadata": {
    "pycharm": {
     "name": "#%%\n"
    },
    "scrolled": true
   },
   "outputs": [],
   "source": []
  }
 ],
 "metadata": {
  "kernelspec": {
   "display_name": "Python [conda env:airplanes] *",
   "language": "python",
   "name": "conda-env-airplanes-py"
  },
  "language_info": {
   "codemirror_mode": {
    "name": "ipython",
    "version": 3
   },
   "file_extension": ".py",
   "mimetype": "text/x-python",
   "name": "python",
   "nbconvert_exporter": "python",
   "pygments_lexer": "ipython3",
   "version": "3.9.16"
  }
 },
 "nbformat": 4,
 "nbformat_minor": 2
}