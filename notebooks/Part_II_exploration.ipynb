{
 "cells": [
  {
   "cell_type": "markdown",
   "metadata": {
    "pycharm": {
     "name": "#%% md\n"
    }
   },
   "source": [
    "# Part II - Airline on-time performance - Exploration\n",
    "## by Juanita Smith\n",
    "\n",
    "## Introduction\n",
    "Have you ever been stuck in an airport because your flight was delayed or cancelled and wondered if you could have predicted it if you'd had more data? This is our chance to find out.\n",
    "\n",
    "This analysis will be focused on predicting flight delays or cancellations.\n",
    "\n",
    "> This dataset reports flights in the United States, including carriers, arrival and departure delays, and reasons for delays, from 1987 to 2008.\n",
    "> - See more information from the data expo challenge in 2009 [here](https://community.amstat.org/jointscsg-section/dataexpo/dataexpo2009).\n",
    "> - See a full description of the features [here](https://www.transtats.bts.gov/DatabaseInfo.asp?QO_VQ=EFD&Yv0x=D.)\n",
    "> - Data can be downloaded from [here](https://dataverse.harvard.edu/dataset.xhtml?persistentId=doi:10.7910/DVN/HG7NV7).\n",
    "\n",
    "Dictionary:\n",
    "1) Year 1987-2008 \n",
    "2) Month 1-12 \n",
    "3) DayofMonth 1-31 \n",
    "4) DayOfWeek 1 (Monday) - 7 (Sunday) \n",
    "5) DepTime actual departure time (local, hhmm) \n",
    "6) CRSDepTime scheduled departure time (local, hhmm) \n",
    "7) ArrTime actual arrival time (local, hhmm) \n",
    "8) CRSArrTime scheduled arrival time (local, hhmm) \n",
    "9) UniqueCarrier unique carrier code \n",
    "10) FlightNum flight number \n",
    "11) TailNum plane tail number \n",
    "12) ActualElapsedTime in minutes \n",
    "13) CRSElapsedTime in minutes \n",
    "14) AirTime in minutes \n",
    "15) ArrDelay arrival delay, in minutes \n",
    "16) DepDelay departure delay, in minutes \n",
    "17) Origin origin IATA airport code \n",
    "18) Destination IATA airport code \n",
    "19) Distance in miles \n",
    "20) TaxiIn - The time elapsed between wheels down and arrival at the destination airport gate in minutes\n",
    "21) TaxiOut - The time elapsed between departure from the origin airport gate and wheels off in minutes\n",
    "22) Cancelled was the flight cancelled? \n",
    "23) CancellationCode reason for cancellation (A = carrier, B = weather, C = NAS, D = security) \n",
    "24) Diverted 1 = yes, 0 = no \n",
    "25) CarrierDelay in minutes\n",
    "26) WeatherDelay in minutes \n",
    "27) NASDelay in minutes \n",
    "28) SecurityDelay in minutes \n",
    "29) LateAircraftDelay in minutes\n",
    "\n",
    "\n",
    "**Important to note:** According to the documentation, a late flight is defined as a flight arriving or departing 15 minutes or more after the scheduled time.\n",
    "\n",
    ">**Rubric Tip**: Your code should not generate any errors, and should use functions, loops where possible to reduce repetitive code. Prefer to use functions to reuse code statements.\n",
    "\n",
    "> **Rubric Tip**: Document your approach and findings in markdown cells. Use comments and docstrings in code cells to document the code functionality.\n",
    "\n",
    ">**Rubric Tip**: Markup cells should have headers and text that organize your thoughts, findings, and what you plan on investigating next.  \n",
    "\n",
    "\n",
    "\n"
   ]
  },
  {
   "cell_type": "code",
   "execution_count": 1,
   "metadata": {
    "pycharm": {
     "is_executing": true,
     "name": "#%%\n"
    }
   },
   "outputs": [
    {
     "data": {
      "text/html": [
       "<style>.container { width:80% !important; }</style>"
      ],
      "text/plain": [
       "<IPython.core.display.HTML object>"
      ]
     },
     "metadata": {},
     "output_type": "display_data"
    }
   ],
   "source": [
    "# import all packages\n",
    "import numpy as np\n",
    "import pandas as pd\n",
    "import matplotlib.pyplot as plt\n",
    "import seaborn as sns\n",
    "import time\n",
    "import glob\n",
    "\n",
    "# import warnings\n",
    "# warnings.filterwarnings(\"ignore\")\n",
    "\n",
    "# Import custom modules\n",
    "from src.utils import reduce_mem_usage, create_folder\n",
    "\n",
    "# set plots to be embedded inline\n",
    "%matplotlib inline\n",
    "\n",
    "# suppress matplotlib user warnings\n",
    "import warnings\n",
    "warnings.filterwarnings(\"ignore\", category=UserWarning, module=\"matplotlib\")\n",
    "\n",
    "# use high resolution if this project is run on an apple device\n",
    "%config InlineBackend.figure_format='retina'\n",
    "\n",
    "# Make your Jupyter Notebook wider\n",
    "from IPython.display import display, HTML\n",
    "display(HTML('<style>.container { width:80% !important; }</style>'))\n",
    "\n",
    "# environment settings\n",
    "# display all columns and rows during visual inspection\n",
    "pd.options.display.max_columns = None\n",
    "pd.options.display.max_rows = None\n",
    "\n",
    "\n",
    "# stop scientific notation on graphs\n",
    "pd.options.display.float_format = '{:.0f}'.format"
   ]
  },
  {
   "cell_type": "code",
   "execution_count": 2,
   "metadata": {
    "pycharm": {
     "name": "#%%\n"
    }
   },
   "outputs": [],
   "source": [
    "sns.set_style(\"whitegrid\")\n",
    "BASE_COLOR = sns.color_palette()[0]"
   ]
  },
  {
   "cell_type": "code",
   "execution_count": 3,
   "metadata": {
    "pycharm": {
     "name": "#%%\n"
    }
   },
   "outputs": [],
   "source": [
    "FILE_NAME_RAW = '../data/flights_raw.pkl'\n",
    "FILE_NAME_CLEAN = '../data/flights_clean.pkl'"
   ]
  },
  {
   "cell_type": "code",
   "execution_count": 8,
   "metadata": {
    "pycharm": {
     "name": "#%%\n"
    }
   },
   "outputs": [
    {
     "data": {
      "text/html": [
       "<div>\n",
       "<style scoped>\n",
       "    .dataframe tbody tr th:only-of-type {\n",
       "        vertical-align: middle;\n",
       "    }\n",
       "\n",
       "    .dataframe tbody tr th {\n",
       "        vertical-align: top;\n",
       "    }\n",
       "\n",
       "    .dataframe thead th {\n",
       "        text-align: right;\n",
       "    }\n",
       "</style>\n",
       "<table border=\"1\" class=\"dataframe\">\n",
       "  <thead>\n",
       "    <tr style=\"text-align: right;\">\n",
       "      <th></th>\n",
       "      <th>year</th>\n",
       "      <th>month</th>\n",
       "      <th>dayofMonth</th>\n",
       "      <th>dayOfWeek</th>\n",
       "      <th>depTime</th>\n",
       "      <th>CRSDepTime</th>\n",
       "      <th>arrTime</th>\n",
       "      <th>CRSArrTime</th>\n",
       "      <th>uniqueCarrier</th>\n",
       "      <th>flightNum</th>\n",
       "      <th>tailNum</th>\n",
       "      <th>actualElapsedTime</th>\n",
       "      <th>CRSElapsedTime</th>\n",
       "      <th>airTime</th>\n",
       "      <th>arrDelay</th>\n",
       "      <th>depDelay</th>\n",
       "      <th>origin</th>\n",
       "      <th>dest</th>\n",
       "      <th>distance</th>\n",
       "      <th>taxiIn</th>\n",
       "      <th>taxiOut</th>\n",
       "      <th>cancelled</th>\n",
       "      <th>cancellationCode</th>\n",
       "      <th>diverted</th>\n",
       "      <th>carrierDelay</th>\n",
       "      <th>weatherDelay</th>\n",
       "      <th>NASDelay</th>\n",
       "      <th>securityDelay</th>\n",
       "      <th>lateAircraftDelay</th>\n",
       "    </tr>\n",
       "  </thead>\n",
       "  <tbody>\n",
       "    <tr>\n",
       "      <th>26643600</th>\n",
       "      <td>2007</td>\n",
       "      <td>9</td>\n",
       "      <td>15</td>\n",
       "      <td>6</td>\n",
       "      <td>0 days 11:58:00</td>\n",
       "      <td>0 days 12:00:00</td>\n",
       "      <td>0 days 14:16:00</td>\n",
       "      <td>0 days 14:18:00</td>\n",
       "      <td>UA</td>\n",
       "      <td>355</td>\n",
       "      <td>N523UA</td>\n",
       "      <td>258</td>\n",
       "      <td>258</td>\n",
       "      <td>227</td>\n",
       "      <td>0</td>\n",
       "      <td>0</td>\n",
       "      <td>ORD</td>\n",
       "      <td>SEA</td>\n",
       "      <td>1721</td>\n",
       "      <td>6</td>\n",
       "      <td>25</td>\n",
       "      <td>False</td>\n",
       "      <td>NaN</td>\n",
       "      <td>False</td>\n",
       "      <td>0</td>\n",
       "      <td>0</td>\n",
       "      <td>0</td>\n",
       "      <td>0</td>\n",
       "      <td>0</td>\n",
       "    </tr>\n",
       "    <tr>\n",
       "      <th>2583864</th>\n",
       "      <td>2004</td>\n",
       "      <td>5</td>\n",
       "      <td>3</td>\n",
       "      <td>1</td>\n",
       "      <td>0 days 17:50:00</td>\n",
       "      <td>0 days 17:50:00</td>\n",
       "      <td>0 days 19:27:00</td>\n",
       "      <td>0 days 19:29:00</td>\n",
       "      <td>XE</td>\n",
       "      <td>2835</td>\n",
       "      <td>N11539</td>\n",
       "      <td>97</td>\n",
       "      <td>99</td>\n",
       "      <td>76</td>\n",
       "      <td>0</td>\n",
       "      <td>0</td>\n",
       "      <td>PNS</td>\n",
       "      <td>IAH</td>\n",
       "      <td>489</td>\n",
       "      <td>9</td>\n",
       "      <td>12</td>\n",
       "      <td>False</td>\n",
       "      <td>NaN</td>\n",
       "      <td>False</td>\n",
       "      <td>0</td>\n",
       "      <td>0</td>\n",
       "      <td>0</td>\n",
       "      <td>0</td>\n",
       "      <td>0</td>\n",
       "    </tr>\n",
       "    <tr>\n",
       "      <th>15670116</th>\n",
       "      <td>2006</td>\n",
       "      <td>3</td>\n",
       "      <td>24</td>\n",
       "      <td>5</td>\n",
       "      <td>0 days 10:27:00</td>\n",
       "      <td>0 days 10:30:00</td>\n",
       "      <td>0 days 13:38:00</td>\n",
       "      <td>0 days 13:41:00</td>\n",
       "      <td>UA</td>\n",
       "      <td>1486</td>\n",
       "      <td>N458UA</td>\n",
       "      <td>131</td>\n",
       "      <td>131</td>\n",
       "      <td>108</td>\n",
       "      <td>0</td>\n",
       "      <td>0</td>\n",
       "      <td>ONT</td>\n",
       "      <td>DEN</td>\n",
       "      <td>819</td>\n",
       "      <td>11</td>\n",
       "      <td>12</td>\n",
       "      <td>False</td>\n",
       "      <td>NaN</td>\n",
       "      <td>False</td>\n",
       "      <td>0</td>\n",
       "      <td>0</td>\n",
       "      <td>0</td>\n",
       "      <td>0</td>\n",
       "      <td>0</td>\n",
       "    </tr>\n",
       "    <tr>\n",
       "      <th>24617098</th>\n",
       "      <td>2007</td>\n",
       "      <td>6</td>\n",
       "      <td>2</td>\n",
       "      <td>6</td>\n",
       "      <td>0 days 12:20:00</td>\n",
       "      <td>0 days 12:23:00</td>\n",
       "      <td>0 days 13:46:00</td>\n",
       "      <td>0 days 13:49:00</td>\n",
       "      <td>YV</td>\n",
       "      <td>7115</td>\n",
       "      <td>N858MJ</td>\n",
       "      <td>86</td>\n",
       "      <td>86</td>\n",
       "      <td>67</td>\n",
       "      <td>0</td>\n",
       "      <td>0</td>\n",
       "      <td>IAD</td>\n",
       "      <td>CAE</td>\n",
       "      <td>401</td>\n",
       "      <td>6</td>\n",
       "      <td>13</td>\n",
       "      <td>False</td>\n",
       "      <td>NaN</td>\n",
       "      <td>False</td>\n",
       "      <td>0</td>\n",
       "      <td>0</td>\n",
       "      <td>0</td>\n",
       "      <td>0</td>\n",
       "      <td>0</td>\n",
       "    </tr>\n",
       "    <tr>\n",
       "      <th>7093524</th>\n",
       "      <td>2004</td>\n",
       "      <td>12</td>\n",
       "      <td>19</td>\n",
       "      <td>7</td>\n",
       "      <td>0 days 20:34:00</td>\n",
       "      <td>0 days 20:40:00</td>\n",
       "      <td>0 days 21:48:00</td>\n",
       "      <td>0 days 22:11:00</td>\n",
       "      <td>DH</td>\n",
       "      <td>1618</td>\n",
       "      <td>N660BR</td>\n",
       "      <td>73</td>\n",
       "      <td>91</td>\n",
       "      <td>62</td>\n",
       "      <td>0</td>\n",
       "      <td>0</td>\n",
       "      <td>CHS</td>\n",
       "      <td>IAD</td>\n",
       "      <td>441</td>\n",
       "      <td>4</td>\n",
       "      <td>7</td>\n",
       "      <td>False</td>\n",
       "      <td>NaN</td>\n",
       "      <td>False</td>\n",
       "      <td>0</td>\n",
       "      <td>0</td>\n",
       "      <td>0</td>\n",
       "      <td>0</td>\n",
       "      <td>0</td>\n",
       "    </tr>\n",
       "    <tr>\n",
       "      <th>29686641</th>\n",
       "      <td>2008</td>\n",
       "      <td>2</td>\n",
       "      <td>21</td>\n",
       "      <td>4</td>\n",
       "      <td>0 days 06:00:00</td>\n",
       "      <td>0 days 06:00:00</td>\n",
       "      <td>0 days 09:01:00</td>\n",
       "      <td>0 days 08:29:00</td>\n",
       "      <td>UA</td>\n",
       "      <td>399</td>\n",
       "      <td>N435UA</td>\n",
       "      <td>301</td>\n",
       "      <td>269</td>\n",
       "      <td>266</td>\n",
       "      <td>32</td>\n",
       "      <td>0</td>\n",
       "      <td>LGA</td>\n",
       "      <td>DEN</td>\n",
       "      <td>1619</td>\n",
       "      <td>9</td>\n",
       "      <td>26</td>\n",
       "      <td>False</td>\n",
       "      <td>NaN</td>\n",
       "      <td>False</td>\n",
       "      <td>0</td>\n",
       "      <td>0</td>\n",
       "      <td>32</td>\n",
       "      <td>0</td>\n",
       "      <td>0</td>\n",
       "    </tr>\n",
       "    <tr>\n",
       "      <th>13143465</th>\n",
       "      <td>2005</td>\n",
       "      <td>11</td>\n",
       "      <td>24</td>\n",
       "      <td>4</td>\n",
       "      <td>0 days 08:49:00</td>\n",
       "      <td>0 days 08:29:00</td>\n",
       "      <td>0 days 10:09:00</td>\n",
       "      <td>0 days 09:53:00</td>\n",
       "      <td>UA</td>\n",
       "      <td>846</td>\n",
       "      <td>N509UA</td>\n",
       "      <td>80</td>\n",
       "      <td>84</td>\n",
       "      <td>50</td>\n",
       "      <td>16</td>\n",
       "      <td>20</td>\n",
       "      <td>IAD</td>\n",
       "      <td>LGA</td>\n",
       "      <td>229</td>\n",
       "      <td>5</td>\n",
       "      <td>25</td>\n",
       "      <td>False</td>\n",
       "      <td>NaN</td>\n",
       "      <td>False</td>\n",
       "      <td>0</td>\n",
       "      <td>0</td>\n",
       "      <td>0</td>\n",
       "      <td>0</td>\n",
       "      <td>16</td>\n",
       "    </tr>\n",
       "    <tr>\n",
       "      <th>4744767</th>\n",
       "      <td>2004</td>\n",
       "      <td>9</td>\n",
       "      <td>22</td>\n",
       "      <td>3</td>\n",
       "      <td>0 days 14:09:00</td>\n",
       "      <td>0 days 14:12:00</td>\n",
       "      <td>0 days 15:47:00</td>\n",
       "      <td>0 days 15:52:00</td>\n",
       "      <td>UA</td>\n",
       "      <td>591</td>\n",
       "      <td>N502UA</td>\n",
       "      <td>158</td>\n",
       "      <td>160</td>\n",
       "      <td>142</td>\n",
       "      <td>0</td>\n",
       "      <td>0</td>\n",
       "      <td>DEN</td>\n",
       "      <td>SEA</td>\n",
       "      <td>1024</td>\n",
       "      <td>4</td>\n",
       "      <td>12</td>\n",
       "      <td>False</td>\n",
       "      <td>NaN</td>\n",
       "      <td>False</td>\n",
       "      <td>0</td>\n",
       "      <td>0</td>\n",
       "      <td>0</td>\n",
       "      <td>0</td>\n",
       "      <td>0</td>\n",
       "    </tr>\n",
       "    <tr>\n",
       "      <th>28304432</th>\n",
       "      <td>2007</td>\n",
       "      <td>12</td>\n",
       "      <td>18</td>\n",
       "      <td>2</td>\n",
       "      <td>0 days 09:33:00</td>\n",
       "      <td>0 days 09:25:00</td>\n",
       "      <td>0 days 11:04:00</td>\n",
       "      <td>0 days 10:55:00</td>\n",
       "      <td>WN</td>\n",
       "      <td>1599</td>\n",
       "      <td>N222WN</td>\n",
       "      <td>91</td>\n",
       "      <td>90</td>\n",
       "      <td>74</td>\n",
       "      <td>9</td>\n",
       "      <td>8</td>\n",
       "      <td>SAN</td>\n",
       "      <td>OAK</td>\n",
       "      <td>446</td>\n",
       "      <td>5</td>\n",
       "      <td>12</td>\n",
       "      <td>False</td>\n",
       "      <td>NaN</td>\n",
       "      <td>False</td>\n",
       "      <td>0</td>\n",
       "      <td>0</td>\n",
       "      <td>0</td>\n",
       "      <td>0</td>\n",
       "      <td>0</td>\n",
       "    </tr>\n",
       "    <tr>\n",
       "      <th>6929775</th>\n",
       "      <td>2004</td>\n",
       "      <td>12</td>\n",
       "      <td>13</td>\n",
       "      <td>1</td>\n",
       "      <td>0 days 10:40:00</td>\n",
       "      <td>0 days 10:43:00</td>\n",
       "      <td>0 days 11:55:00</td>\n",
       "      <td>0 days 12:01:00</td>\n",
       "      <td>MQ</td>\n",
       "      <td>3697</td>\n",
       "      <td>N847AE</td>\n",
       "      <td>75</td>\n",
       "      <td>78</td>\n",
       "      <td>52</td>\n",
       "      <td>0</td>\n",
       "      <td>0</td>\n",
       "      <td>DFW</td>\n",
       "      <td>SGF</td>\n",
       "      <td>364</td>\n",
       "      <td>4</td>\n",
       "      <td>19</td>\n",
       "      <td>False</td>\n",
       "      <td>NaN</td>\n",
       "      <td>False</td>\n",
       "      <td>0</td>\n",
       "      <td>0</td>\n",
       "      <td>0</td>\n",
       "      <td>0</td>\n",
       "      <td>0</td>\n",
       "    </tr>\n",
       "  </tbody>\n",
       "</table>\n",
       "</div>"
      ],
      "text/plain": [
       "          year  month  dayofMonth  dayOfWeek         depTime      CRSDepTime  \\\n",
       "26643600  2007      9          15          6 0 days 11:58:00 0 days 12:00:00   \n",
       "2583864   2004      5           3          1 0 days 17:50:00 0 days 17:50:00   \n",
       "15670116  2006      3          24          5 0 days 10:27:00 0 days 10:30:00   \n",
       "24617098  2007      6           2          6 0 days 12:20:00 0 days 12:23:00   \n",
       "7093524   2004     12          19          7 0 days 20:34:00 0 days 20:40:00   \n",
       "29686641  2008      2          21          4 0 days 06:00:00 0 days 06:00:00   \n",
       "13143465  2005     11          24          4 0 days 08:49:00 0 days 08:29:00   \n",
       "4744767   2004      9          22          3 0 days 14:09:00 0 days 14:12:00   \n",
       "28304432  2007     12          18          2 0 days 09:33:00 0 days 09:25:00   \n",
       "6929775   2004     12          13          1 0 days 10:40:00 0 days 10:43:00   \n",
       "\n",
       "                 arrTime      CRSArrTime uniqueCarrier  flightNum tailNum  \\\n",
       "26643600 0 days 14:16:00 0 days 14:18:00            UA        355  N523UA   \n",
       "2583864  0 days 19:27:00 0 days 19:29:00            XE       2835  N11539   \n",
       "15670116 0 days 13:38:00 0 days 13:41:00            UA       1486  N458UA   \n",
       "24617098 0 days 13:46:00 0 days 13:49:00            YV       7115  N858MJ   \n",
       "7093524  0 days 21:48:00 0 days 22:11:00            DH       1618  N660BR   \n",
       "29686641 0 days 09:01:00 0 days 08:29:00            UA        399  N435UA   \n",
       "13143465 0 days 10:09:00 0 days 09:53:00            UA        846  N509UA   \n",
       "4744767  0 days 15:47:00 0 days 15:52:00            UA        591  N502UA   \n",
       "28304432 0 days 11:04:00 0 days 10:55:00            WN       1599  N222WN   \n",
       "6929775  0 days 11:55:00 0 days 12:01:00            MQ       3697  N847AE   \n",
       "\n",
       "          actualElapsedTime  CRSElapsedTime  airTime  arrDelay  depDelay  \\\n",
       "26643600                258             258      227         0         0   \n",
       "2583864                  97              99       76         0         0   \n",
       "15670116                131             131      108         0         0   \n",
       "24617098                 86              86       67         0         0   \n",
       "7093524                  73              91       62         0         0   \n",
       "29686641                301             269      266        32         0   \n",
       "13143465                 80              84       50        16        20   \n",
       "4744767                 158             160      142         0         0   \n",
       "28304432                 91              90       74         9         8   \n",
       "6929775                  75              78       52         0         0   \n",
       "\n",
       "         origin dest  distance  taxiIn  taxiOut  cancelled cancellationCode  \\\n",
       "26643600    ORD  SEA      1721       6       25      False              NaN   \n",
       "2583864     PNS  IAH       489       9       12      False              NaN   \n",
       "15670116    ONT  DEN       819      11       12      False              NaN   \n",
       "24617098    IAD  CAE       401       6       13      False              NaN   \n",
       "7093524     CHS  IAD       441       4        7      False              NaN   \n",
       "29686641    LGA  DEN      1619       9       26      False              NaN   \n",
       "13143465    IAD  LGA       229       5       25      False              NaN   \n",
       "4744767     DEN  SEA      1024       4       12      False              NaN   \n",
       "28304432    SAN  OAK       446       5       12      False              NaN   \n",
       "6929775     DFW  SGF       364       4       19      False              NaN   \n",
       "\n",
       "          diverted  carrierDelay  weatherDelay  NASDelay  securityDelay  \\\n",
       "26643600     False             0             0         0              0   \n",
       "2583864      False             0             0         0              0   \n",
       "15670116     False             0             0         0              0   \n",
       "24617098     False             0             0         0              0   \n",
       "7093524      False             0             0         0              0   \n",
       "29686641     False             0             0        32              0   \n",
       "13143465     False             0             0         0              0   \n",
       "4744767      False             0             0         0              0   \n",
       "28304432     False             0             0         0              0   \n",
       "6929775      False             0             0         0              0   \n",
       "\n",
       "          lateAircraftDelay  \n",
       "26643600                  0  \n",
       "2583864                   0  \n",
       "15670116                  0  \n",
       "24617098                  0  \n",
       "7093524                   0  \n",
       "29686641                  0  \n",
       "13143465                 16  \n",
       "4744767                   0  \n",
       "28304432                  0  \n",
       "6929775                   0  "
      ]
     },
     "execution_count": 8,
     "metadata": {},
     "output_type": "execute_result"
    }
   ],
   "source": [
    "# load the cleaned file \n",
    "flights_new = pd.read_pickle(FILE_NAME_CLEAN)\n",
    "flights_new.sample(10)"
   ]
  },
  {
   "cell_type": "code",
   "execution_count": 9,
   "metadata": {
    "pycharm": {
     "name": "#%%\n"
    }
   },
   "outputs": [
    {
     "name": "stdout",
     "output_type": "stream",
     "text": [
      "<class 'pandas.core.frame.DataFrame'>\n",
      "Int64Index: 31218803 entries, 0 to 31254219\n",
      "Data columns (total 29 columns):\n",
      " #   Column             Dtype          \n",
      "---  ------             -----          \n",
      " 0   year               int16          \n",
      " 1   month              int8           \n",
      " 2   dayofMonth         int8           \n",
      " 3   dayOfWeek          int8           \n",
      " 4   depTime            timedelta64[ns]\n",
      " 5   CRSDepTime         timedelta64[ns]\n",
      " 6   arrTime            timedelta64[ns]\n",
      " 7   CRSArrTime         timedelta64[ns]\n",
      " 8   uniqueCarrier      object         \n",
      " 9   flightNum          int16          \n",
      " 10  tailNum            object         \n",
      " 11  actualElapsedTime  Int16          \n",
      " 12  CRSElapsedTime     Int16          \n",
      " 13  airTime            Int16          \n",
      " 14  arrDelay           Int16          \n",
      " 15  depDelay           Int16          \n",
      " 16  origin             object         \n",
      " 17  dest               object         \n",
      " 18  distance           int16          \n",
      " 19  taxiIn             Int16          \n",
      " 20  taxiOut            Int16          \n",
      " 21  cancelled          bool           \n",
      " 22  cancellationCode   object         \n",
      " 23  diverted           bool           \n",
      " 24  carrierDelay       Int16          \n",
      " 25  weatherDelay       Int16          \n",
      " 26  NASDelay           Int16          \n",
      " 27  securityDelay      Int16          \n",
      " 28  lateAircraftDelay  Int16          \n",
      "dtypes: Int16(12), bool(2), int16(3), int8(3), object(5), timedelta64[ns](4)\n",
      "memory usage: 3.7+ GB\n"
     ]
    }
   ],
   "source": [
    "# make sure datatypes is preserved\n",
    "flights_new.info()"
   ]
  },
  {
   "cell_type": "code",
   "execution_count": 10,
   "metadata": {
    "pycharm": {
     "name": "#%%\n"
    }
   },
   "outputs": [
    {
     "data": {
      "text/plain": [
       "(31218803, 29)"
      ]
     },
     "execution_count": 10,
     "metadata": {},
     "output_type": "execute_result"
    }
   ],
   "source": [
    "flights_new.shape"
   ]
  },
  {
   "cell_type": "code",
   "execution_count": 7,
   "metadata": {},
   "outputs": [
    {
     "ename": "KeyError",
     "evalue": "'[12279874, 11679647, 5035967, 25633277, 15807220, 11050850, 3104152, 21953653, 11053472, 28415961, 14015189, 20478472, 11687776, 26266013, 24335979, 4663418, 5966349, 2525761, 8625868, 3254053, 18727082, 3708818, 3484245, 15727360, 7908160, 29110790, 1940368, 14977673, 15296654, 20342446, 3253595, 7804311, 9828438, 11052585, 15127082, 17478734, 14013567, 22162952, 19336213, 11299799, 21684174, 8118925, 6122471, 6277665, 641242, 1491979, 907623, 12872616, 18731700, 10445917, 6275960, 7467466, 6877114, 1922671, 11056816, 20962687, 94608, 12726658, 10422017, 8566581, 24964801, 3260720, 11685842, 2705019, 6261809, 10437390, 5533577, 6269281, 5081855, 1335411, 11682701, 3713925, 28316321, 6430561, 11063384, 26648878, 1935868, 15708480, 27497836, 26764922, 21341014, 1345183, 6854594, 20951266, 11682434, 26234034, 11681460, 16306913, 18105906, 11059880, 29798913, 18713781, 346786, 3253596, 3864525, 11235666, 22871617, 6887184, 7205905, 762091, 3855967, 29189699, 11054667, 672266, 8622173, 14196582, 25155923, 27903198, 4490597, 4255322, 7339056, 15132284, 29155094, 11053466, 25484203, 19164783, 23269667, 10483052, 22379814, 3851447, 6272104, 3858364, 3706058, 4513693, 11065448, 1941388, 9821069, 29335213, 15914755, 14581761, 16770417, 11055276, 15130123, 7454190, 5520869, 8622156, 7458696, 15916818, 9790081, 5680386, 3115192, 28931193, 16303362, 14013565, 1116914, 11057039, 2502721, 4492202, 14574572, 348332, 15987217, 23542071, 4441628, 11687097, 3897961, 27379156, 11681458, 2181717, 3586700, 24185654, 6281626, 8610319, 14006560, 22357183, 11960851, 11048710, 771263, 898876, 15691408, 5082684, 771696, 6134906, 8628544, 25364111, 6836285, 11066354, 3267874, 16710986, 6873320, 5674088, 7790605, 8613031, 15696761, 9232166, 17492875, 11103265, 14012757, 17469198, 3696047, 28099711, 28427901, 480707, 11684743, 762545, 9210830, 3987555, 11045468, 192990, 776413, 6695697, 12862071, 11063371, 12278497, 28170076, 6700613, 1917585, 11056460, 13439628, 6700810, 3889869, 6872322, 7462510, 6262892, 29353187, 6542099, 776446, 3697836, 20443970, 6712461, 16293125, 19328779, 29333410, 5684967, 13434325, 20220799, 14566358, 15127144, 5921620, 19918037, 1491976, 11686126, 6854907, 5502809, 20881197, 20653275, 918398, 15707004, 774272, 175626, 3116580, 8705132, 28813238, 11057797, 6280666, 8022067, 7454214, 8027736, 14005906, 5084762, 31092458, 10670404, 8606722, 12863838, 14053609, 3866722, 15672794, 19319598, 11677205, 16009071, 6302573, 183888, 10422042, 16302544, 23722903, 3116398, 10110153, 22967872, 6854902, 11987543, 1161991, 22473800, 8021239, 17482265, 7454173, 3863687, 5085938, 17921776, 8354133, 3259490, 11683313, 5512390, 17477404, 1499325, 17492323, 7468980, 18552952, 20866997, 27169101, 10447306, 919859, 3101001, 18086491, 11057805, 2883552, 25055118, 15704431, 8622360, 9815831, 25148838, 6275249, 26092768, 3863679, 7233008, 19328780, 12905152, 351330, 17483722, 3115228, 2303145, 19334136, 7414393, 13447032, 12849973, 749094, 6275781, 16300242, 30792178, 30389796, 2088267, 8023132, 1337094, 12710623, 6274400, 5529734, 2075019, 5342842, 14411745, 753256, 4418797, 21887591, 8610322, 17487145, 10055440, 28396242, 8935508, 8566560, 18464064, 757977, 2084189, 2082422, 1345593, 9217846, 16709258, 904980, 24637854, 5077690, 23236935, 175343, 1332647, 19934172, 3869864, 29122423, 14009180, 13118205, 28506410, 3703678, 28058421, 22892898, 6860091, 349658, 188291, 29721800, 13435697, 901828, 1942658, 6277325, 6725036, 9824942, 30597111, 5089349, 8620511, 13998761, 1919762, 2524559, 9832887, 6137411, 12269641, 22500078, 11068328, 4486166, 9510057, 196290, 175523, 28724774, 2530495, 9817615, 183271, 16980516, 4940813, 9828440, 25489953, 6717135, 27236533, 10428584, 18107734, 3096389, 24866414, 7137618, 6280665, 909641, 19534898, 7468874, 3253585, 6717971, 11067618, 8035332, 10679015, 773338, 9219263, 6118209, 27562453, 1215850, 7473297, 3703102, 16299856, 2089786, 19933170, 177691, 1334443, 8033702, 18040626, 27502173, 3979253, 16324529, 762152, 479658, 27963192, 11678173, 26160400, 1916169, 25820862, 27880935, 21063047, 3251431, 24094988, 19322224, 14000830, 14570154, 9831044, 8625508, 22167410, 7462821, 18734069, 24833021, 9461125, 11053675, 10433221, 29898473, 29212286, 4485130, 343203, 22213300, 8625498, 13437431, 10432779, 1944789, 15358455, 16405083, 11675634, 15702834, 9577922, 16303166, 14584411, 7459824, 23090112, 11735692, 29232660, 5513682, 174081, 5517169, 5668207, 1347999, 8621732, 11687564, 28733544, 11042796, 6258753, 10433372, 3104025, 17313002, 9817265, 4482170, 3688042, 8619757, 2082499, 18107718, 3119776, 2501470, 3715371, 20739299, 19319805, 22263190, 24997067, 12442980, 7468991, 21485467, 15697955, 6852018, 13449843, 29953253, 8620514, 19414807, 21971286, 2524500, 28456746, 10444206, 28759519, 29689803, 2512978, 1330313, 3688768, 10434991, 761749, 20481367, 11259668, 14413138, 9832908, 6281089, 25739975, 30742740, 2091660, 3117558, 11065917, 9232713, 6857464, 26883191, 11100457, 1915540, 15129191, 18393640, 20078860, 3870923, 4935060, 1166951, 6124906, 21882794, 23649465, 21064083, 15033061, 10059366] not in index'",
     "output_type": "error",
     "traceback": [
      "\u001b[0;31m---------------------------------------------------------------------------\u001b[0m",
      "\u001b[0;31mKeyError\u001b[0m                                  Traceback (most recent call last)",
      "Cell \u001b[0;32mIn[7], line 3\u001b[0m\n\u001b[1;32m      1\u001b[0m \u001b[38;5;66;03m# to speed up exploration take a sample\u001b[39;00m\n\u001b[1;32m      2\u001b[0m sample \u001b[38;5;241m=\u001b[39m np\u001b[38;5;241m.\u001b[39mrandom\u001b[38;5;241m.\u001b[39mchoice(flights\u001b[38;5;241m.\u001b[39mshape[\u001b[38;5;241m0\u001b[39m], \u001b[38;5;241m500000\u001b[39m, replace\u001b[38;5;241m=\u001b[39m\u001b[38;5;28;01mFalse\u001b[39;00m)\n\u001b[0;32m----> 3\u001b[0m flight_sample \u001b[38;5;241m=\u001b[39m \u001b[43mflights\u001b[49m\u001b[38;5;241;43m.\u001b[39;49m\u001b[43mloc\u001b[49m\u001b[43m[\u001b[49m\u001b[43msample\u001b[49m\u001b[43m,\u001b[49m\u001b[43m:\u001b[49m\u001b[43m]\u001b[49m\u001b[38;5;241m.\u001b[39mcopy()\n\u001b[1;32m      4\u001b[0m flight_sample\u001b[38;5;241m.\u001b[39mhead()\n",
      "File \u001b[0;32m/opt/anaconda3/envs/airplanes/lib/python3.9/site-packages/pandas/core/indexing.py:1067\u001b[0m, in \u001b[0;36m_LocationIndexer.__getitem__\u001b[0;34m(self, key)\u001b[0m\n\u001b[1;32m   1065\u001b[0m     \u001b[38;5;28;01mif\u001b[39;00m \u001b[38;5;28mself\u001b[39m\u001b[38;5;241m.\u001b[39m_is_scalar_access(key):\n\u001b[1;32m   1066\u001b[0m         \u001b[38;5;28;01mreturn\u001b[39;00m \u001b[38;5;28mself\u001b[39m\u001b[38;5;241m.\u001b[39mobj\u001b[38;5;241m.\u001b[39m_get_value(\u001b[38;5;241m*\u001b[39mkey, takeable\u001b[38;5;241m=\u001b[39m\u001b[38;5;28mself\u001b[39m\u001b[38;5;241m.\u001b[39m_takeable)\n\u001b[0;32m-> 1067\u001b[0m     \u001b[38;5;28;01mreturn\u001b[39;00m \u001b[38;5;28;43mself\u001b[39;49m\u001b[38;5;241;43m.\u001b[39;49m\u001b[43m_getitem_tuple\u001b[49m\u001b[43m(\u001b[49m\u001b[43mkey\u001b[49m\u001b[43m)\u001b[49m\n\u001b[1;32m   1068\u001b[0m \u001b[38;5;28;01melse\u001b[39;00m:\n\u001b[1;32m   1069\u001b[0m     \u001b[38;5;66;03m# we by definition only have the 0th axis\u001b[39;00m\n\u001b[1;32m   1070\u001b[0m     axis \u001b[38;5;241m=\u001b[39m \u001b[38;5;28mself\u001b[39m\u001b[38;5;241m.\u001b[39maxis \u001b[38;5;129;01mor\u001b[39;00m \u001b[38;5;241m0\u001b[39m\n",
      "File \u001b[0;32m/opt/anaconda3/envs/airplanes/lib/python3.9/site-packages/pandas/core/indexing.py:1256\u001b[0m, in \u001b[0;36m_LocIndexer._getitem_tuple\u001b[0;34m(self, tup)\u001b[0m\n\u001b[1;32m   1253\u001b[0m \u001b[38;5;28;01mif\u001b[39;00m \u001b[38;5;28mself\u001b[39m\u001b[38;5;241m.\u001b[39m_multi_take_opportunity(tup):\n\u001b[1;32m   1254\u001b[0m     \u001b[38;5;28;01mreturn\u001b[39;00m \u001b[38;5;28mself\u001b[39m\u001b[38;5;241m.\u001b[39m_multi_take(tup)\n\u001b[0;32m-> 1256\u001b[0m \u001b[38;5;28;01mreturn\u001b[39;00m \u001b[38;5;28;43mself\u001b[39;49m\u001b[38;5;241;43m.\u001b[39;49m\u001b[43m_getitem_tuple_same_dim\u001b[49m\u001b[43m(\u001b[49m\u001b[43mtup\u001b[49m\u001b[43m)\u001b[49m\n",
      "File \u001b[0;32m/opt/anaconda3/envs/airplanes/lib/python3.9/site-packages/pandas/core/indexing.py:924\u001b[0m, in \u001b[0;36m_LocationIndexer._getitem_tuple_same_dim\u001b[0;34m(self, tup)\u001b[0m\n\u001b[1;32m    921\u001b[0m \u001b[38;5;28;01mif\u001b[39;00m com\u001b[38;5;241m.\u001b[39mis_null_slice(key):\n\u001b[1;32m    922\u001b[0m     \u001b[38;5;28;01mcontinue\u001b[39;00m\n\u001b[0;32m--> 924\u001b[0m retval \u001b[38;5;241m=\u001b[39m \u001b[38;5;28;43mgetattr\u001b[39;49m\u001b[43m(\u001b[49m\u001b[43mretval\u001b[49m\u001b[43m,\u001b[49m\u001b[43m \u001b[49m\u001b[38;5;28;43mself\u001b[39;49m\u001b[38;5;241;43m.\u001b[39;49m\u001b[43mname\u001b[49m\u001b[43m)\u001b[49m\u001b[38;5;241;43m.\u001b[39;49m\u001b[43m_getitem_axis\u001b[49m\u001b[43m(\u001b[49m\u001b[43mkey\u001b[49m\u001b[43m,\u001b[49m\u001b[43m \u001b[49m\u001b[43maxis\u001b[49m\u001b[38;5;241;43m=\u001b[39;49m\u001b[43mi\u001b[49m\u001b[43m)\u001b[49m\n\u001b[1;32m    925\u001b[0m \u001b[38;5;66;03m# We should never have retval.ndim < self.ndim, as that should\u001b[39;00m\n\u001b[1;32m    926\u001b[0m \u001b[38;5;66;03m#  be handled by the _getitem_lowerdim call above.\u001b[39;00m\n\u001b[1;32m    927\u001b[0m \u001b[38;5;28;01massert\u001b[39;00m retval\u001b[38;5;241m.\u001b[39mndim \u001b[38;5;241m==\u001b[39m \u001b[38;5;28mself\u001b[39m\u001b[38;5;241m.\u001b[39mndim\n",
      "File \u001b[0;32m/opt/anaconda3/envs/airplanes/lib/python3.9/site-packages/pandas/core/indexing.py:1301\u001b[0m, in \u001b[0;36m_LocIndexer._getitem_axis\u001b[0;34m(self, key, axis)\u001b[0m\n\u001b[1;32m   1298\u001b[0m     \u001b[38;5;28;01mif\u001b[39;00m \u001b[38;5;28mhasattr\u001b[39m(key, \u001b[38;5;124m\"\u001b[39m\u001b[38;5;124mndim\u001b[39m\u001b[38;5;124m\"\u001b[39m) \u001b[38;5;129;01mand\u001b[39;00m key\u001b[38;5;241m.\u001b[39mndim \u001b[38;5;241m>\u001b[39m \u001b[38;5;241m1\u001b[39m:\n\u001b[1;32m   1299\u001b[0m         \u001b[38;5;28;01mraise\u001b[39;00m \u001b[38;5;167;01mValueError\u001b[39;00m(\u001b[38;5;124m\"\u001b[39m\u001b[38;5;124mCannot index with multidimensional key\u001b[39m\u001b[38;5;124m\"\u001b[39m)\n\u001b[0;32m-> 1301\u001b[0m     \u001b[38;5;28;01mreturn\u001b[39;00m \u001b[38;5;28;43mself\u001b[39;49m\u001b[38;5;241;43m.\u001b[39;49m\u001b[43m_getitem_iterable\u001b[49m\u001b[43m(\u001b[49m\u001b[43mkey\u001b[49m\u001b[43m,\u001b[49m\u001b[43m \u001b[49m\u001b[43maxis\u001b[49m\u001b[38;5;241;43m=\u001b[39;49m\u001b[43maxis\u001b[49m\u001b[43m)\u001b[49m\n\u001b[1;32m   1303\u001b[0m \u001b[38;5;66;03m# nested tuple slicing\u001b[39;00m\n\u001b[1;32m   1304\u001b[0m \u001b[38;5;28;01mif\u001b[39;00m is_nested_tuple(key, labels):\n",
      "File \u001b[0;32m/opt/anaconda3/envs/airplanes/lib/python3.9/site-packages/pandas/core/indexing.py:1239\u001b[0m, in \u001b[0;36m_LocIndexer._getitem_iterable\u001b[0;34m(self, key, axis)\u001b[0m\n\u001b[1;32m   1236\u001b[0m \u001b[38;5;28mself\u001b[39m\u001b[38;5;241m.\u001b[39m_validate_key(key, axis)\n\u001b[1;32m   1238\u001b[0m \u001b[38;5;66;03m# A collection of keys\u001b[39;00m\n\u001b[0;32m-> 1239\u001b[0m keyarr, indexer \u001b[38;5;241m=\u001b[39m \u001b[38;5;28;43mself\u001b[39;49m\u001b[38;5;241;43m.\u001b[39;49m\u001b[43m_get_listlike_indexer\u001b[49m\u001b[43m(\u001b[49m\u001b[43mkey\u001b[49m\u001b[43m,\u001b[49m\u001b[43m \u001b[49m\u001b[43maxis\u001b[49m\u001b[43m)\u001b[49m\n\u001b[1;32m   1240\u001b[0m \u001b[38;5;28;01mreturn\u001b[39;00m \u001b[38;5;28mself\u001b[39m\u001b[38;5;241m.\u001b[39mobj\u001b[38;5;241m.\u001b[39m_reindex_with_indexers(\n\u001b[1;32m   1241\u001b[0m     {axis: [keyarr, indexer]}, copy\u001b[38;5;241m=\u001b[39m\u001b[38;5;28;01mTrue\u001b[39;00m, allow_dups\u001b[38;5;241m=\u001b[39m\u001b[38;5;28;01mTrue\u001b[39;00m\n\u001b[1;32m   1242\u001b[0m )\n",
      "File \u001b[0;32m/opt/anaconda3/envs/airplanes/lib/python3.9/site-packages/pandas/core/indexing.py:1432\u001b[0m, in \u001b[0;36m_LocIndexer._get_listlike_indexer\u001b[0;34m(self, key, axis)\u001b[0m\n\u001b[1;32m   1429\u001b[0m ax \u001b[38;5;241m=\u001b[39m \u001b[38;5;28mself\u001b[39m\u001b[38;5;241m.\u001b[39mobj\u001b[38;5;241m.\u001b[39m_get_axis(axis)\n\u001b[1;32m   1430\u001b[0m axis_name \u001b[38;5;241m=\u001b[39m \u001b[38;5;28mself\u001b[39m\u001b[38;5;241m.\u001b[39mobj\u001b[38;5;241m.\u001b[39m_get_axis_name(axis)\n\u001b[0;32m-> 1432\u001b[0m keyarr, indexer \u001b[38;5;241m=\u001b[39m \u001b[43max\u001b[49m\u001b[38;5;241;43m.\u001b[39;49m\u001b[43m_get_indexer_strict\u001b[49m\u001b[43m(\u001b[49m\u001b[43mkey\u001b[49m\u001b[43m,\u001b[49m\u001b[43m \u001b[49m\u001b[43maxis_name\u001b[49m\u001b[43m)\u001b[49m\n\u001b[1;32m   1434\u001b[0m \u001b[38;5;28;01mreturn\u001b[39;00m keyarr, indexer\n",
      "File \u001b[0;32m/opt/anaconda3/envs/airplanes/lib/python3.9/site-packages/pandas/core/indexes/base.py:6113\u001b[0m, in \u001b[0;36mIndex._get_indexer_strict\u001b[0;34m(self, key, axis_name)\u001b[0m\n\u001b[1;32m   6110\u001b[0m \u001b[38;5;28;01melse\u001b[39;00m:\n\u001b[1;32m   6111\u001b[0m     keyarr, indexer, new_indexer \u001b[38;5;241m=\u001b[39m \u001b[38;5;28mself\u001b[39m\u001b[38;5;241m.\u001b[39m_reindex_non_unique(keyarr)\n\u001b[0;32m-> 6113\u001b[0m \u001b[38;5;28;43mself\u001b[39;49m\u001b[38;5;241;43m.\u001b[39;49m\u001b[43m_raise_if_missing\u001b[49m\u001b[43m(\u001b[49m\u001b[43mkeyarr\u001b[49m\u001b[43m,\u001b[49m\u001b[43m \u001b[49m\u001b[43mindexer\u001b[49m\u001b[43m,\u001b[49m\u001b[43m \u001b[49m\u001b[43maxis_name\u001b[49m\u001b[43m)\u001b[49m\n\u001b[1;32m   6115\u001b[0m keyarr \u001b[38;5;241m=\u001b[39m \u001b[38;5;28mself\u001b[39m\u001b[38;5;241m.\u001b[39mtake(indexer)\n\u001b[1;32m   6116\u001b[0m \u001b[38;5;28;01mif\u001b[39;00m \u001b[38;5;28misinstance\u001b[39m(key, Index):\n\u001b[1;32m   6117\u001b[0m     \u001b[38;5;66;03m# GH 42790 - Preserve name from an Index\u001b[39;00m\n",
      "File \u001b[0;32m/opt/anaconda3/envs/airplanes/lib/python3.9/site-packages/pandas/core/indexes/base.py:6176\u001b[0m, in \u001b[0;36mIndex._raise_if_missing\u001b[0;34m(self, key, indexer, axis_name)\u001b[0m\n\u001b[1;32m   6173\u001b[0m     \u001b[38;5;28;01mraise\u001b[39;00m \u001b[38;5;167;01mKeyError\u001b[39;00m(\u001b[38;5;124mf\u001b[39m\u001b[38;5;124m\"\u001b[39m\u001b[38;5;124mNone of [\u001b[39m\u001b[38;5;132;01m{\u001b[39;00mkey\u001b[38;5;132;01m}\u001b[39;00m\u001b[38;5;124m] are in the [\u001b[39m\u001b[38;5;132;01m{\u001b[39;00maxis_name\u001b[38;5;132;01m}\u001b[39;00m\u001b[38;5;124m]\u001b[39m\u001b[38;5;124m\"\u001b[39m)\n\u001b[1;32m   6175\u001b[0m not_found \u001b[38;5;241m=\u001b[39m \u001b[38;5;28mlist\u001b[39m(ensure_index(key)[missing_mask\u001b[38;5;241m.\u001b[39mnonzero()[\u001b[38;5;241m0\u001b[39m]]\u001b[38;5;241m.\u001b[39munique())\n\u001b[0;32m-> 6176\u001b[0m \u001b[38;5;28;01mraise\u001b[39;00m \u001b[38;5;167;01mKeyError\u001b[39;00m(\u001b[38;5;124mf\u001b[39m\u001b[38;5;124m\"\u001b[39m\u001b[38;5;132;01m{\u001b[39;00mnot_found\u001b[38;5;132;01m}\u001b[39;00m\u001b[38;5;124m not in index\u001b[39m\u001b[38;5;124m\"\u001b[39m)\n",
      "\u001b[0;31mKeyError\u001b[0m: '[12279874, 11679647, 5035967, 25633277, 15807220, 11050850, 3104152, 21953653, 11053472, 28415961, 14015189, 20478472, 11687776, 26266013, 24335979, 4663418, 5966349, 2525761, 8625868, 3254053, 18727082, 3708818, 3484245, 15727360, 7908160, 29110790, 1940368, 14977673, 15296654, 20342446, 3253595, 7804311, 9828438, 11052585, 15127082, 17478734, 14013567, 22162952, 19336213, 11299799, 21684174, 8118925, 6122471, 6277665, 641242, 1491979, 907623, 12872616, 18731700, 10445917, 6275960, 7467466, 6877114, 1922671, 11056816, 20962687, 94608, 12726658, 10422017, 8566581, 24964801, 3260720, 11685842, 2705019, 6261809, 10437390, 5533577, 6269281, 5081855, 1335411, 11682701, 3713925, 28316321, 6430561, 11063384, 26648878, 1935868, 15708480, 27497836, 26764922, 21341014, 1345183, 6854594, 20951266, 11682434, 26234034, 11681460, 16306913, 18105906, 11059880, 29798913, 18713781, 346786, 3253596, 3864525, 11235666, 22871617, 6887184, 7205905, 762091, 3855967, 29189699, 11054667, 672266, 8622173, 14196582, 25155923, 27903198, 4490597, 4255322, 7339056, 15132284, 29155094, 11053466, 25484203, 19164783, 23269667, 10483052, 22379814, 3851447, 6272104, 3858364, 3706058, 4513693, 11065448, 1941388, 9821069, 29335213, 15914755, 14581761, 16770417, 11055276, 15130123, 7454190, 5520869, 8622156, 7458696, 15916818, 9790081, 5680386, 3115192, 28931193, 16303362, 14013565, 1116914, 11057039, 2502721, 4492202, 14574572, 348332, 15987217, 23542071, 4441628, 11687097, 3897961, 27379156, 11681458, 2181717, 3586700, 24185654, 6281626, 8610319, 14006560, 22357183, 11960851, 11048710, 771263, 898876, 15691408, 5082684, 771696, 6134906, 8628544, 25364111, 6836285, 11066354, 3267874, 16710986, 6873320, 5674088, 7790605, 8613031, 15696761, 9232166, 17492875, 11103265, 14012757, 17469198, 3696047, 28099711, 28427901, 480707, 11684743, 762545, 9210830, 3987555, 11045468, 192990, 776413, 6695697, 12862071, 11063371, 12278497, 28170076, 6700613, 1917585, 11056460, 13439628, 6700810, 3889869, 6872322, 7462510, 6262892, 29353187, 6542099, 776446, 3697836, 20443970, 6712461, 16293125, 19328779, 29333410, 5684967, 13434325, 20220799, 14566358, 15127144, 5921620, 19918037, 1491976, 11686126, 6854907, 5502809, 20881197, 20653275, 918398, 15707004, 774272, 175626, 3116580, 8705132, 28813238, 11057797, 6280666, 8022067, 7454214, 8027736, 14005906, 5084762, 31092458, 10670404, 8606722, 12863838, 14053609, 3866722, 15672794, 19319598, 11677205, 16009071, 6302573, 183888, 10422042, 16302544, 23722903, 3116398, 10110153, 22967872, 6854902, 11987543, 1161991, 22473800, 8021239, 17482265, 7454173, 3863687, 5085938, 17921776, 8354133, 3259490, 11683313, 5512390, 17477404, 1499325, 17492323, 7468980, 18552952, 20866997, 27169101, 10447306, 919859, 3101001, 18086491, 11057805, 2883552, 25055118, 15704431, 8622360, 9815831, 25148838, 6275249, 26092768, 3863679, 7233008, 19328780, 12905152, 351330, 17483722, 3115228, 2303145, 19334136, 7414393, 13447032, 12849973, 749094, 6275781, 16300242, 30792178, 30389796, 2088267, 8023132, 1337094, 12710623, 6274400, 5529734, 2075019, 5342842, 14411745, 753256, 4418797, 21887591, 8610322, 17487145, 10055440, 28396242, 8935508, 8566560, 18464064, 757977, 2084189, 2082422, 1345593, 9217846, 16709258, 904980, 24637854, 5077690, 23236935, 175343, 1332647, 19934172, 3869864, 29122423, 14009180, 13118205, 28506410, 3703678, 28058421, 22892898, 6860091, 349658, 188291, 29721800, 13435697, 901828, 1942658, 6277325, 6725036, 9824942, 30597111, 5089349, 8620511, 13998761, 1919762, 2524559, 9832887, 6137411, 12269641, 22500078, 11068328, 4486166, 9510057, 196290, 175523, 28724774, 2530495, 9817615, 183271, 16980516, 4940813, 9828440, 25489953, 6717135, 27236533, 10428584, 18107734, 3096389, 24866414, 7137618, 6280665, 909641, 19534898, 7468874, 3253585, 6717971, 11067618, 8035332, 10679015, 773338, 9219263, 6118209, 27562453, 1215850, 7473297, 3703102, 16299856, 2089786, 19933170, 177691, 1334443, 8033702, 18040626, 27502173, 3979253, 16324529, 762152, 479658, 27963192, 11678173, 26160400, 1916169, 25820862, 27880935, 21063047, 3251431, 24094988, 19322224, 14000830, 14570154, 9831044, 8625508, 22167410, 7462821, 18734069, 24833021, 9461125, 11053675, 10433221, 29898473, 29212286, 4485130, 343203, 22213300, 8625498, 13437431, 10432779, 1944789, 15358455, 16405083, 11675634, 15702834, 9577922, 16303166, 14584411, 7459824, 23090112, 11735692, 29232660, 5513682, 174081, 5517169, 5668207, 1347999, 8621732, 11687564, 28733544, 11042796, 6258753, 10433372, 3104025, 17313002, 9817265, 4482170, 3688042, 8619757, 2082499, 18107718, 3119776, 2501470, 3715371, 20739299, 19319805, 22263190, 24997067, 12442980, 7468991, 21485467, 15697955, 6852018, 13449843, 29953253, 8620514, 19414807, 21971286, 2524500, 28456746, 10444206, 28759519, 29689803, 2512978, 1330313, 3688768, 10434991, 761749, 20481367, 11259668, 14413138, 9832908, 6281089, 25739975, 30742740, 2091660, 3117558, 11065917, 9232713, 6857464, 26883191, 11100457, 1915540, 15129191, 18393640, 20078860, 3870923, 4935060, 1166951, 6124906, 21882794, 23649465, 21064083, 15033061, 10059366] not in index'"
     ]
    }
   ],
   "source": [
    "# to speed up exploration take a sample\n",
    "sample = np.random.choice(flights_new.shape[0], 500000, replace=False)\n",
    "flight_sample_new = flights.loc[sample,:].copy()\n",
    "flight_sample.head()"
   ]
  },
  {
   "cell_type": "markdown",
   "metadata": {
    "pycharm": {
     "name": "#%% md\n"
    }
   },
   "source": [
    "## Univariate Exploration\n",
    "\n",
    "> In this section, investigate distributions of individual variables. If\n",
    "you see unusual points or outliers, take a deeper look to clean things up\n",
    "and prepare yourself to look at relationships between variables.\n",
    "\n",
    "\n",
    "> **Rubric Tip**: The project (Parts I alone) should have at least 15 visualizations distributed over univariate, bivariate, and multivariate plots to explore many relationships in the data set.  Use reasoning to justify the flow of the exploration.\n",
    "\n",
    "\n",
    "\n",
    ">**Rubric Tip**: Use the \"Question-Visualization-Observations\" framework  throughout the exploration. This framework involves **asking a question from the data, creating a visualization to find answers, and then recording observations after each visualisation.** \n"
   ]
  },
  {
   "cell_type": "code",
   "execution_count": null,
   "metadata": {
    "pycharm": {
     "name": "#%%\n"
    }
   },
   "outputs": [],
   "source": []
  },
  {
   "cell_type": "markdown",
   "metadata": {
    "pycharm": {
     "name": "#%% md\n"
    }
   },
   "source": [
    "\n",
    "\n",
    ">**Rubric Tip**: Visualizations should depict the data appropriately so that the plots are easily interpretable. You should choose an appropriate plot type, data encodings, and formatting as needed. The formatting may include setting/adding the title, labels, legend, and comments. Also, do not overplot or incorrectly plot ordinal data."
   ]
  },
  {
   "cell_type": "code",
   "execution_count": null,
   "metadata": {
    "pycharm": {
     "name": "#%%\n"
    }
   },
   "outputs": [],
   "source": []
  },
  {
   "cell_type": "markdown",
   "metadata": {
    "pycharm": {
     "name": "#%% md\n"
    }
   },
   "source": [
    "### Discuss the distribution(s) of your variable(s) of interest. Were there any unusual points? Did you need to perform any transformations?\n",
    "\n",
    "> Your answer here!\n",
    "\n",
    "### Of the features you investigated, were there any unusual distributions? Did you perform any operations on the data to tidy, adjust, or change the form of the data? If so, why did you do this?\n",
    "\n",
    "> Your answer here!"
   ]
  },
  {
   "cell_type": "markdown",
   "metadata": {
    "pycharm": {
     "name": "#%% md\n"
    }
   },
   "source": [
    "## Bivariate Exploration\n",
    "\n",
    "> In this section, investigate relationships between pairs of variables in your\n",
    "data. Make sure the variables that you cover here have been introduced in some\n",
    "fashion in the previous section (univariate exploration)."
   ]
  },
  {
   "cell_type": "code",
   "execution_count": null,
   "metadata": {
    "pycharm": {
     "name": "#%%\n"
    }
   },
   "outputs": [],
   "source": []
  },
  {
   "cell_type": "markdown",
   "metadata": {
    "pycharm": {
     "name": "#%% md\n"
    }
   },
   "source": [
    "### Talk about some of the relationships you observed in this part of the investigation. How did the feature(s) of interest vary with other features in the dataset?\n",
    "\n",
    "> Your answer here!\n",
    "\n",
    "### Did you observe any interesting relationships between the other features (not the main feature(s) of interest)?\n",
    "\n",
    "> Your answer here!"
   ]
  },
  {
   "cell_type": "markdown",
   "metadata": {
    "pycharm": {
     "name": "#%% md\n"
    }
   },
   "source": [
    "## Multivariate Exploration\n",
    "\n",
    "> Create plots of three or more variables to investigate your data even\n",
    "further. Make sure that your investigations are justified, and follow from\n",
    "your work in the previous sections."
   ]
  },
  {
   "cell_type": "code",
   "execution_count": null,
   "metadata": {
    "pycharm": {
     "name": "#%%\n"
    }
   },
   "outputs": [],
   "source": []
  },
  {
   "cell_type": "markdown",
   "metadata": {
    "pycharm": {
     "name": "#%% md\n"
    }
   },
   "source": [
    "### Talk about some of the relationships you observed in this part of the investigation. Were there features that strengthened each other in terms of looking at your feature(s) of interest?\n",
    "\n",
    "> Your answer here!\n",
    "\n",
    "### Were there any interesting or surprising interactions between features?\n",
    "\n",
    "> Your answer here!"
   ]
  },
  {
   "cell_type": "markdown",
   "metadata": {
    "pycharm": {
     "name": "#%% md\n"
    }
   },
   "source": [
    "## Conclusions\n",
    ">You can write a summary of the main findings and reflect on the steps taken during the data exploration.\n"
   ]
  },
  {
   "cell_type": "markdown",
   "metadata": {
    "pycharm": {
     "name": "#%% md\n"
    }
   },
   "source": [
    "\n",
    "> Remove all Tips mentioned above, before you convert this notebook to PDF/HTML\n",
    "\n",
    "\n",
    "> At the end of your report, make sure that you export the notebook as an\n",
    "html file from the `File > Download as... > HTML or PDF` menu. Make sure you keep\n",
    "track of where the exported file goes, so you can put it in the same folder\n",
    "as this notebook for project submission. Also, make sure you remove all of\n",
    "the quote-formatted guide notes like this one before you finish your report!\n",
    "\n"
   ]
  },
  {
   "cell_type": "markdown",
   "metadata": {
    "pycharm": {
     "name": "#%% md\n"
    }
   },
   "source": [
    "## References\n",
    "- [how to read multiple csv files](https://sparkbyexamples.com/pandas/pandas-read-multiple-csv-files/)"
   ]
  },
  {
   "cell_type": "code",
   "execution_count": null,
   "metadata": {
    "pycharm": {
     "name": "#%%\n"
    }
   },
   "outputs": [],
   "source": []
  }
 ],
 "metadata": {
  "kernelspec": {
   "display_name": "Python [conda env:airplanes] *",
   "language": "python",
   "name": "conda-env-airplanes-py"
  },
  "language_info": {
   "codemirror_mode": {
    "name": "ipython",
    "version": 3
   },
   "file_extension": ".py",
   "mimetype": "text/x-python",
   "name": "python",
   "nbconvert_exporter": "python",
   "pygments_lexer": "ipython3",
   "version": "3.9.16"
  }
 },
 "nbformat": 4,
 "nbformat_minor": 2
}
